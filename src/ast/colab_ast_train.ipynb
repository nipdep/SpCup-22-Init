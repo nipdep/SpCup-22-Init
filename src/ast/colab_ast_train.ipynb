{
  "nbformat": 4,
  "nbformat_minor": 0,
  "metadata": {
    "colab": {
      "name": "colab_ast_train.ipynb",
      "provenance": []
    },
    "kernelspec": {
      "name": "python3",
      "display_name": "Python 3"
    },
    "language_info": {
      "name": "python"
    },
    "accelerator": "GPU"
  },
  "cells": [
    {
      "cell_type": "code",
      "execution_count": null,
      "metadata": {
        "id": "wB7-ZXRr0XBy"
      },
      "outputs": [],
      "source": [
        "! pip install timm==0.4.5\n",
        "! pip install wget"
      ]
    },
    {
      "cell_type": "code",
      "source": [
        "from google.colab import drive\n",
        "drive.mount('/content/drive')"
      ],
      "metadata": {
        "id": "3ocvOFUl0sDs"
      },
      "execution_count": null,
      "outputs": []
    },
    {
      "cell_type": "code",
      "source": [
        "import argparse\n",
        "import os\n",
        "import ast\n",
        "import pickle\n",
        "import sys\n",
        "import time\n",
        "import torch\n",
        "import numpy as np\n",
        "import pandas as pd\n",
        "import json\n",
        "\n",
        "from sklearn.model_selection import train_test_split\n",
        "from torch.utils.data import WeightedRandomSampler\n",
        "basepath = os.path.dirname(os.path.dirname(sys.path[0]))\n",
        "sys.path.append(basepath)\n",
        "\n",
        "import dataloader\n",
        "from ast_models import ASTModel\n",
        "from traintest import train, validate"
      ],
      "metadata": {
        "id": "wWNEFldQ1GTI"
      },
      "execution_count": 1,
      "outputs": []
    },
    {
      "cell_type": "markdown",
      "source": [
        "File Operations"
      ],
      "metadata": {
        "id": "DSF_A-7k2F7b"
      }
    },
    {
      "cell_type": "code",
      "source": [
        "! wget \"https://www.dropbox.com/s/36yqmymkva2bwdi/spcup_2022_training_part1.zip?dl=1\" -c -O 'spcup_2022_training_part1.zip'\n",
        "! wget \"https://www.dropbox.com/s/wsmlthhri29fb79/spcup_2022_unseen.zip?dl=1\" -c -O 'spcup_2022_unseen.zip'"
      ],
      "metadata": {
        "id": "3_MHyltj1G8P"
      },
      "execution_count": null,
      "outputs": []
    },
    {
      "cell_type": "code",
      "source": [
        "!unzip \"./spcup_2022_training_part1.zip\" -d \"./spcup_2022_training/\"\n",
        "!unzip \"./spcup_2022_unseen.zip\" -d \"./spcup_2022_unseen/\""
      ],
      "metadata": {
        "id": "mKOr1Xfz1tF1"
      },
      "execution_count": null,
      "outputs": []
    },
    {
      "cell_type": "code",
      "source": [
        "!rm \"./spcup_2022_training_part1.zip\"\n",
        "!rm \"./spcup_2022_unseen.zip\""
      ],
      "metadata": {
        "id": "vGm_nqfo1y59"
      },
      "execution_count": 6,
      "outputs": []
    },
    {
      "cell_type": "code",
      "source": [
        "# create combined label df\n",
        "# combine two label sets\n",
        "df1 = pd.read_csv('./spcup_2022_training/spcup_2022_training_part1/labels.csv')\n",
        "df2 = pd.read_csv('./spcup_2022_unseen/spcup_2022_unseen/labels.csv')\n",
        "df3 = pd.concat([df1, df2]).sample(frac=1)\n",
        "\n",
        "df3.to_csv('./final_labels.csv', index=False)\n",
        "!rm './spcup_2022_unseen/spcup_2022_unseen/labels.csv'"
      ],
      "metadata": {
        "id": "i9yPGv_I1yvp"
      },
      "execution_count": 7,
      "outputs": []
    },
    {
      "cell_type": "code",
      "source": [
        "# copy .wav files from unseen to all\n",
        "!cp -a \"./spcup_2022_unseen/spcup_2022_unseen/\". \"./spcup_2022_training/spcup_2022_training_part1/\""
      ],
      "metadata": {
        "id": "3snnsRH51yii"
      },
      "execution_count": 8,
      "outputs": []
    },
    {
      "cell_type": "markdown",
      "source": [
        "JSON creation"
      ],
      "metadata": {
        "id": "gjtTUsXY2YNg"
      }
    },
    {
      "cell_type": "code",
      "source": [
        "DATA_PATH = \"./spcup_2022_training/spcup_2022_training_part1/\"\n",
        "IMAGE_PATH = './images'\n",
        "Labeled_dir = './final_labels.csv'"
      ],
      "metadata": {
        "id": "H4v7_TdC2Kql"
      },
      "execution_count": 9,
      "outputs": []
    },
    {
      "cell_type": "code",
      "source": [
        "label_df = pd.read_csv(Labeled_dir)\n",
        "label_df.head()"
      ],
      "metadata": {
        "colab": {
          "base_uri": "https://localhost:8080/",
          "height": 206
        },
        "id": "EoI3Zm0m2agB",
        "outputId": "9eb3ba89-222d-461a-eead-8c8cf2248b03"
      },
      "execution_count": 10,
      "outputs": [
        {
          "output_type": "execute_result",
          "data": {
            "text/html": [
              "\n",
              "  <div id=\"df-5b62fda0-0f51-4481-ac34-28acaf658d3b\">\n",
              "    <div class=\"colab-df-container\">\n",
              "      <div>\n",
              "<style scoped>\n",
              "    .dataframe tbody tr th:only-of-type {\n",
              "        vertical-align: middle;\n",
              "    }\n",
              "\n",
              "    .dataframe tbody tr th {\n",
              "        vertical-align: top;\n",
              "    }\n",
              "\n",
              "    .dataframe thead th {\n",
              "        text-align: right;\n",
              "    }\n",
              "</style>\n",
              "<table border=\"1\" class=\"dataframe\">\n",
              "  <thead>\n",
              "    <tr style=\"text-align: right;\">\n",
              "      <th></th>\n",
              "      <th>track</th>\n",
              "      <th>algorithm</th>\n",
              "    </tr>\n",
              "  </thead>\n",
              "  <tbody>\n",
              "    <tr>\n",
              "      <th>0</th>\n",
              "      <td>d5142a1e904db7ef51b8071585c46c68.wav</td>\n",
              "      <td>4</td>\n",
              "    </tr>\n",
              "    <tr>\n",
              "      <th>1</th>\n",
              "      <td>0520f2abfaa77784411e0121ba3cb23d.wav</td>\n",
              "      <td>3</td>\n",
              "    </tr>\n",
              "    <tr>\n",
              "      <th>2</th>\n",
              "      <td>64fc1bd819a11b0764dcdf2b6dc22441.wav</td>\n",
              "      <td>4</td>\n",
              "    </tr>\n",
              "    <tr>\n",
              "      <th>3</th>\n",
              "      <td>49883c9646792f3622a518531f8a4aa4.wav</td>\n",
              "      <td>4</td>\n",
              "    </tr>\n",
              "    <tr>\n",
              "      <th>4</th>\n",
              "      <td>3509fc87b2af64d5f47213e43a1188ae.wav</td>\n",
              "      <td>3</td>\n",
              "    </tr>\n",
              "  </tbody>\n",
              "</table>\n",
              "</div>\n",
              "      <button class=\"colab-df-convert\" onclick=\"convertToInteractive('df-5b62fda0-0f51-4481-ac34-28acaf658d3b')\"\n",
              "              title=\"Convert this dataframe to an interactive table.\"\n",
              "              style=\"display:none;\">\n",
              "        \n",
              "  <svg xmlns=\"http://www.w3.org/2000/svg\" height=\"24px\"viewBox=\"0 0 24 24\"\n",
              "       width=\"24px\">\n",
              "    <path d=\"M0 0h24v24H0V0z\" fill=\"none\"/>\n",
              "    <path d=\"M18.56 5.44l.94 2.06.94-2.06 2.06-.94-2.06-.94-.94-2.06-.94 2.06-2.06.94zm-11 1L8.5 8.5l.94-2.06 2.06-.94-2.06-.94L8.5 2.5l-.94 2.06-2.06.94zm10 10l.94 2.06.94-2.06 2.06-.94-2.06-.94-.94-2.06-.94 2.06-2.06.94z\"/><path d=\"M17.41 7.96l-1.37-1.37c-.4-.4-.92-.59-1.43-.59-.52 0-1.04.2-1.43.59L10.3 9.45l-7.72 7.72c-.78.78-.78 2.05 0 2.83L4 21.41c.39.39.9.59 1.41.59.51 0 1.02-.2 1.41-.59l7.78-7.78 2.81-2.81c.8-.78.8-2.07 0-2.86zM5.41 20L4 18.59l7.72-7.72 1.47 1.35L5.41 20z\"/>\n",
              "  </svg>\n",
              "      </button>\n",
              "      \n",
              "  <style>\n",
              "    .colab-df-container {\n",
              "      display:flex;\n",
              "      flex-wrap:wrap;\n",
              "      gap: 12px;\n",
              "    }\n",
              "\n",
              "    .colab-df-convert {\n",
              "      background-color: #E8F0FE;\n",
              "      border: none;\n",
              "      border-radius: 50%;\n",
              "      cursor: pointer;\n",
              "      display: none;\n",
              "      fill: #1967D2;\n",
              "      height: 32px;\n",
              "      padding: 0 0 0 0;\n",
              "      width: 32px;\n",
              "    }\n",
              "\n",
              "    .colab-df-convert:hover {\n",
              "      background-color: #E2EBFA;\n",
              "      box-shadow: 0px 1px 2px rgba(60, 64, 67, 0.3), 0px 1px 3px 1px rgba(60, 64, 67, 0.15);\n",
              "      fill: #174EA6;\n",
              "    }\n",
              "\n",
              "    [theme=dark] .colab-df-convert {\n",
              "      background-color: #3B4455;\n",
              "      fill: #D2E3FC;\n",
              "    }\n",
              "\n",
              "    [theme=dark] .colab-df-convert:hover {\n",
              "      background-color: #434B5C;\n",
              "      box-shadow: 0px 1px 3px 1px rgba(0, 0, 0, 0.15);\n",
              "      filter: drop-shadow(0px 1px 2px rgba(0, 0, 0, 0.3));\n",
              "      fill: #FFFFFF;\n",
              "    }\n",
              "  </style>\n",
              "\n",
              "      <script>\n",
              "        const buttonEl =\n",
              "          document.querySelector('#df-5b62fda0-0f51-4481-ac34-28acaf658d3b button.colab-df-convert');\n",
              "        buttonEl.style.display =\n",
              "          google.colab.kernel.accessAllowed ? 'block' : 'none';\n",
              "\n",
              "        async function convertToInteractive(key) {\n",
              "          const element = document.querySelector('#df-5b62fda0-0f51-4481-ac34-28acaf658d3b');\n",
              "          const dataTable =\n",
              "            await google.colab.kernel.invokeFunction('convertToInteractive',\n",
              "                                                     [key], {});\n",
              "          if (!dataTable) return;\n",
              "\n",
              "          const docLinkHtml = 'Like what you see? Visit the ' +\n",
              "            '<a target=\"_blank\" href=https://colab.research.google.com/notebooks/data_table.ipynb>data table notebook</a>'\n",
              "            + ' to learn more about interactive tables.';\n",
              "          element.innerHTML = '';\n",
              "          dataTable['output_type'] = 'display_data';\n",
              "          await google.colab.output.renderOutput(dataTable, element);\n",
              "          const docLink = document.createElement('div');\n",
              "          docLink.innerHTML = docLinkHtml;\n",
              "          element.appendChild(docLink);\n",
              "        }\n",
              "      </script>\n",
              "    </div>\n",
              "  </div>\n",
              "  "
            ],
            "text/plain": [
              "                                  track  algorithm\n",
              "0  d5142a1e904db7ef51b8071585c46c68.wav          4\n",
              "1  0520f2abfaa77784411e0121ba3cb23d.wav          3\n",
              "2  64fc1bd819a11b0764dcdf2b6dc22441.wav          4\n",
              "3  49883c9646792f3622a518531f8a4aa4.wav          4\n",
              "4  3509fc87b2af64d5f47213e43a1188ae.wav          3"
            ]
          },
          "metadata": {},
          "execution_count": 10
        }
      ]
    },
    {
      "cell_type": "code",
      "source": [
        "label_df['wav_path'] = label_df['track'].map(lambda x: DATA_PATH+'/'+x)\n",
        "label_df.head()"
      ],
      "metadata": {
        "colab": {
          "base_uri": "https://localhost:8080/",
          "height": 206
        },
        "id": "Mn1FHmSg2q59",
        "outputId": "f9e2eee7-5fce-49b5-dbfc-ed6be206c7b3"
      },
      "execution_count": 11,
      "outputs": [
        {
          "output_type": "execute_result",
          "data": {
            "text/html": [
              "\n",
              "  <div id=\"df-35f7191a-1e7b-45e7-9ea6-b298783f9b70\">\n",
              "    <div class=\"colab-df-container\">\n",
              "      <div>\n",
              "<style scoped>\n",
              "    .dataframe tbody tr th:only-of-type {\n",
              "        vertical-align: middle;\n",
              "    }\n",
              "\n",
              "    .dataframe tbody tr th {\n",
              "        vertical-align: top;\n",
              "    }\n",
              "\n",
              "    .dataframe thead th {\n",
              "        text-align: right;\n",
              "    }\n",
              "</style>\n",
              "<table border=\"1\" class=\"dataframe\">\n",
              "  <thead>\n",
              "    <tr style=\"text-align: right;\">\n",
              "      <th></th>\n",
              "      <th>track</th>\n",
              "      <th>algorithm</th>\n",
              "      <th>wav_path</th>\n",
              "    </tr>\n",
              "  </thead>\n",
              "  <tbody>\n",
              "    <tr>\n",
              "      <th>0</th>\n",
              "      <td>d5142a1e904db7ef51b8071585c46c68.wav</td>\n",
              "      <td>4</td>\n",
              "      <td>./spcup_2022_training/spcup_2022_training_part...</td>\n",
              "    </tr>\n",
              "    <tr>\n",
              "      <th>1</th>\n",
              "      <td>0520f2abfaa77784411e0121ba3cb23d.wav</td>\n",
              "      <td>3</td>\n",
              "      <td>./spcup_2022_training/spcup_2022_training_part...</td>\n",
              "    </tr>\n",
              "    <tr>\n",
              "      <th>2</th>\n",
              "      <td>64fc1bd819a11b0764dcdf2b6dc22441.wav</td>\n",
              "      <td>4</td>\n",
              "      <td>./spcup_2022_training/spcup_2022_training_part...</td>\n",
              "    </tr>\n",
              "    <tr>\n",
              "      <th>3</th>\n",
              "      <td>49883c9646792f3622a518531f8a4aa4.wav</td>\n",
              "      <td>4</td>\n",
              "      <td>./spcup_2022_training/spcup_2022_training_part...</td>\n",
              "    </tr>\n",
              "    <tr>\n",
              "      <th>4</th>\n",
              "      <td>3509fc87b2af64d5f47213e43a1188ae.wav</td>\n",
              "      <td>3</td>\n",
              "      <td>./spcup_2022_training/spcup_2022_training_part...</td>\n",
              "    </tr>\n",
              "  </tbody>\n",
              "</table>\n",
              "</div>\n",
              "      <button class=\"colab-df-convert\" onclick=\"convertToInteractive('df-35f7191a-1e7b-45e7-9ea6-b298783f9b70')\"\n",
              "              title=\"Convert this dataframe to an interactive table.\"\n",
              "              style=\"display:none;\">\n",
              "        \n",
              "  <svg xmlns=\"http://www.w3.org/2000/svg\" height=\"24px\"viewBox=\"0 0 24 24\"\n",
              "       width=\"24px\">\n",
              "    <path d=\"M0 0h24v24H0V0z\" fill=\"none\"/>\n",
              "    <path d=\"M18.56 5.44l.94 2.06.94-2.06 2.06-.94-2.06-.94-.94-2.06-.94 2.06-2.06.94zm-11 1L8.5 8.5l.94-2.06 2.06-.94-2.06-.94L8.5 2.5l-.94 2.06-2.06.94zm10 10l.94 2.06.94-2.06 2.06-.94-2.06-.94-.94-2.06-.94 2.06-2.06.94z\"/><path d=\"M17.41 7.96l-1.37-1.37c-.4-.4-.92-.59-1.43-.59-.52 0-1.04.2-1.43.59L10.3 9.45l-7.72 7.72c-.78.78-.78 2.05 0 2.83L4 21.41c.39.39.9.59 1.41.59.51 0 1.02-.2 1.41-.59l7.78-7.78 2.81-2.81c.8-.78.8-2.07 0-2.86zM5.41 20L4 18.59l7.72-7.72 1.47 1.35L5.41 20z\"/>\n",
              "  </svg>\n",
              "      </button>\n",
              "      \n",
              "  <style>\n",
              "    .colab-df-container {\n",
              "      display:flex;\n",
              "      flex-wrap:wrap;\n",
              "      gap: 12px;\n",
              "    }\n",
              "\n",
              "    .colab-df-convert {\n",
              "      background-color: #E8F0FE;\n",
              "      border: none;\n",
              "      border-radius: 50%;\n",
              "      cursor: pointer;\n",
              "      display: none;\n",
              "      fill: #1967D2;\n",
              "      height: 32px;\n",
              "      padding: 0 0 0 0;\n",
              "      width: 32px;\n",
              "    }\n",
              "\n",
              "    .colab-df-convert:hover {\n",
              "      background-color: #E2EBFA;\n",
              "      box-shadow: 0px 1px 2px rgba(60, 64, 67, 0.3), 0px 1px 3px 1px rgba(60, 64, 67, 0.15);\n",
              "      fill: #174EA6;\n",
              "    }\n",
              "\n",
              "    [theme=dark] .colab-df-convert {\n",
              "      background-color: #3B4455;\n",
              "      fill: #D2E3FC;\n",
              "    }\n",
              "\n",
              "    [theme=dark] .colab-df-convert:hover {\n",
              "      background-color: #434B5C;\n",
              "      box-shadow: 0px 1px 3px 1px rgba(0, 0, 0, 0.15);\n",
              "      filter: drop-shadow(0px 1px 2px rgba(0, 0, 0, 0.3));\n",
              "      fill: #FFFFFF;\n",
              "    }\n",
              "  </style>\n",
              "\n",
              "      <script>\n",
              "        const buttonEl =\n",
              "          document.querySelector('#df-35f7191a-1e7b-45e7-9ea6-b298783f9b70 button.colab-df-convert');\n",
              "        buttonEl.style.display =\n",
              "          google.colab.kernel.accessAllowed ? 'block' : 'none';\n",
              "\n",
              "        async function convertToInteractive(key) {\n",
              "          const element = document.querySelector('#df-35f7191a-1e7b-45e7-9ea6-b298783f9b70');\n",
              "          const dataTable =\n",
              "            await google.colab.kernel.invokeFunction('convertToInteractive',\n",
              "                                                     [key], {});\n",
              "          if (!dataTable) return;\n",
              "\n",
              "          const docLinkHtml = 'Like what you see? Visit the ' +\n",
              "            '<a target=\"_blank\" href=https://colab.research.google.com/notebooks/data_table.ipynb>data table notebook</a>'\n",
              "            + ' to learn more about interactive tables.';\n",
              "          element.innerHTML = '';\n",
              "          dataTable['output_type'] = 'display_data';\n",
              "          await google.colab.output.renderOutput(dataTable, element);\n",
              "          const docLink = document.createElement('div');\n",
              "          docLink.innerHTML = docLinkHtml;\n",
              "          element.appendChild(docLink);\n",
              "        }\n",
              "      </script>\n",
              "    </div>\n",
              "  </div>\n",
              "  "
            ],
            "text/plain": [
              "                                  track  algorithm  \\\n",
              "0  d5142a1e904db7ef51b8071585c46c68.wav          4   \n",
              "1  0520f2abfaa77784411e0121ba3cb23d.wav          3   \n",
              "2  64fc1bd819a11b0764dcdf2b6dc22441.wav          4   \n",
              "3  49883c9646792f3622a518531f8a4aa4.wav          4   \n",
              "4  3509fc87b2af64d5f47213e43a1188ae.wav          3   \n",
              "\n",
              "                                            wav_path  \n",
              "0  ./spcup_2022_training/spcup_2022_training_part...  \n",
              "1  ./spcup_2022_training/spcup_2022_training_part...  \n",
              "2  ./spcup_2022_training/spcup_2022_training_part...  \n",
              "3  ./spcup_2022_training/spcup_2022_training_part...  \n",
              "4  ./spcup_2022_training/spcup_2022_training_part...  "
            ]
          },
          "metadata": {},
          "execution_count": 11
        }
      ]
    },
    {
      "cell_type": "code",
      "source": [
        "spect_type = 'mel'\n",
        "def save_and_record(wav_path):\n",
        "\n",
        "    image_name = wav_path.split('/')[-1].split('.')[0]\n",
        "    image_path = IMAGE_PATH+'/'+image_name+'.png'\n",
        "    return image_path"
      ],
      "metadata": {
        "id": "ltuBfahU2tMz"
      },
      "execution_count": 12,
      "outputs": []
    },
    {
      "cell_type": "code",
      "source": [
        "label_df['image_path'] = label_df['wav_path'].map(lambda x: save_and_record(x))\n",
        "label_df.head()"
      ],
      "metadata": {
        "colab": {
          "base_uri": "https://localhost:8080/",
          "height": 206
        },
        "id": "UYi_ROZO2ye7",
        "outputId": "1ea4c265-b2a8-4d26-c741-7a4557f9aad5"
      },
      "execution_count": 13,
      "outputs": [
        {
          "output_type": "execute_result",
          "data": {
            "text/html": [
              "\n",
              "  <div id=\"df-eb5052ad-ac1d-439e-b9ac-5720578bff74\">\n",
              "    <div class=\"colab-df-container\">\n",
              "      <div>\n",
              "<style scoped>\n",
              "    .dataframe tbody tr th:only-of-type {\n",
              "        vertical-align: middle;\n",
              "    }\n",
              "\n",
              "    .dataframe tbody tr th {\n",
              "        vertical-align: top;\n",
              "    }\n",
              "\n",
              "    .dataframe thead th {\n",
              "        text-align: right;\n",
              "    }\n",
              "</style>\n",
              "<table border=\"1\" class=\"dataframe\">\n",
              "  <thead>\n",
              "    <tr style=\"text-align: right;\">\n",
              "      <th></th>\n",
              "      <th>track</th>\n",
              "      <th>algorithm</th>\n",
              "      <th>wav_path</th>\n",
              "      <th>image_path</th>\n",
              "    </tr>\n",
              "  </thead>\n",
              "  <tbody>\n",
              "    <tr>\n",
              "      <th>0</th>\n",
              "      <td>d5142a1e904db7ef51b8071585c46c68.wav</td>\n",
              "      <td>4</td>\n",
              "      <td>./spcup_2022_training/spcup_2022_training_part...</td>\n",
              "      <td>./images/d5142a1e904db7ef51b8071585c46c68.png</td>\n",
              "    </tr>\n",
              "    <tr>\n",
              "      <th>1</th>\n",
              "      <td>0520f2abfaa77784411e0121ba3cb23d.wav</td>\n",
              "      <td>3</td>\n",
              "      <td>./spcup_2022_training/spcup_2022_training_part...</td>\n",
              "      <td>./images/0520f2abfaa77784411e0121ba3cb23d.png</td>\n",
              "    </tr>\n",
              "    <tr>\n",
              "      <th>2</th>\n",
              "      <td>64fc1bd819a11b0764dcdf2b6dc22441.wav</td>\n",
              "      <td>4</td>\n",
              "      <td>./spcup_2022_training/spcup_2022_training_part...</td>\n",
              "      <td>./images/64fc1bd819a11b0764dcdf2b6dc22441.png</td>\n",
              "    </tr>\n",
              "    <tr>\n",
              "      <th>3</th>\n",
              "      <td>49883c9646792f3622a518531f8a4aa4.wav</td>\n",
              "      <td>4</td>\n",
              "      <td>./spcup_2022_training/spcup_2022_training_part...</td>\n",
              "      <td>./images/49883c9646792f3622a518531f8a4aa4.png</td>\n",
              "    </tr>\n",
              "    <tr>\n",
              "      <th>4</th>\n",
              "      <td>3509fc87b2af64d5f47213e43a1188ae.wav</td>\n",
              "      <td>3</td>\n",
              "      <td>./spcup_2022_training/spcup_2022_training_part...</td>\n",
              "      <td>./images/3509fc87b2af64d5f47213e43a1188ae.png</td>\n",
              "    </tr>\n",
              "  </tbody>\n",
              "</table>\n",
              "</div>\n",
              "      <button class=\"colab-df-convert\" onclick=\"convertToInteractive('df-eb5052ad-ac1d-439e-b9ac-5720578bff74')\"\n",
              "              title=\"Convert this dataframe to an interactive table.\"\n",
              "              style=\"display:none;\">\n",
              "        \n",
              "  <svg xmlns=\"http://www.w3.org/2000/svg\" height=\"24px\"viewBox=\"0 0 24 24\"\n",
              "       width=\"24px\">\n",
              "    <path d=\"M0 0h24v24H0V0z\" fill=\"none\"/>\n",
              "    <path d=\"M18.56 5.44l.94 2.06.94-2.06 2.06-.94-2.06-.94-.94-2.06-.94 2.06-2.06.94zm-11 1L8.5 8.5l.94-2.06 2.06-.94-2.06-.94L8.5 2.5l-.94 2.06-2.06.94zm10 10l.94 2.06.94-2.06 2.06-.94-2.06-.94-.94-2.06-.94 2.06-2.06.94z\"/><path d=\"M17.41 7.96l-1.37-1.37c-.4-.4-.92-.59-1.43-.59-.52 0-1.04.2-1.43.59L10.3 9.45l-7.72 7.72c-.78.78-.78 2.05 0 2.83L4 21.41c.39.39.9.59 1.41.59.51 0 1.02-.2 1.41-.59l7.78-7.78 2.81-2.81c.8-.78.8-2.07 0-2.86zM5.41 20L4 18.59l7.72-7.72 1.47 1.35L5.41 20z\"/>\n",
              "  </svg>\n",
              "      </button>\n",
              "      \n",
              "  <style>\n",
              "    .colab-df-container {\n",
              "      display:flex;\n",
              "      flex-wrap:wrap;\n",
              "      gap: 12px;\n",
              "    }\n",
              "\n",
              "    .colab-df-convert {\n",
              "      background-color: #E8F0FE;\n",
              "      border: none;\n",
              "      border-radius: 50%;\n",
              "      cursor: pointer;\n",
              "      display: none;\n",
              "      fill: #1967D2;\n",
              "      height: 32px;\n",
              "      padding: 0 0 0 0;\n",
              "      width: 32px;\n",
              "    }\n",
              "\n",
              "    .colab-df-convert:hover {\n",
              "      background-color: #E2EBFA;\n",
              "      box-shadow: 0px 1px 2px rgba(60, 64, 67, 0.3), 0px 1px 3px 1px rgba(60, 64, 67, 0.15);\n",
              "      fill: #174EA6;\n",
              "    }\n",
              "\n",
              "    [theme=dark] .colab-df-convert {\n",
              "      background-color: #3B4455;\n",
              "      fill: #D2E3FC;\n",
              "    }\n",
              "\n",
              "    [theme=dark] .colab-df-convert:hover {\n",
              "      background-color: #434B5C;\n",
              "      box-shadow: 0px 1px 3px 1px rgba(0, 0, 0, 0.15);\n",
              "      filter: drop-shadow(0px 1px 2px rgba(0, 0, 0, 0.3));\n",
              "      fill: #FFFFFF;\n",
              "    }\n",
              "  </style>\n",
              "\n",
              "      <script>\n",
              "        const buttonEl =\n",
              "          document.querySelector('#df-eb5052ad-ac1d-439e-b9ac-5720578bff74 button.colab-df-convert');\n",
              "        buttonEl.style.display =\n",
              "          google.colab.kernel.accessAllowed ? 'block' : 'none';\n",
              "\n",
              "        async function convertToInteractive(key) {\n",
              "          const element = document.querySelector('#df-eb5052ad-ac1d-439e-b9ac-5720578bff74');\n",
              "          const dataTable =\n",
              "            await google.colab.kernel.invokeFunction('convertToInteractive',\n",
              "                                                     [key], {});\n",
              "          if (!dataTable) return;\n",
              "\n",
              "          const docLinkHtml = 'Like what you see? Visit the ' +\n",
              "            '<a target=\"_blank\" href=https://colab.research.google.com/notebooks/data_table.ipynb>data table notebook</a>'\n",
              "            + ' to learn more about interactive tables.';\n",
              "          element.innerHTML = '';\n",
              "          dataTable['output_type'] = 'display_data';\n",
              "          await google.colab.output.renderOutput(dataTable, element);\n",
              "          const docLink = document.createElement('div');\n",
              "          docLink.innerHTML = docLinkHtml;\n",
              "          element.appendChild(docLink);\n",
              "        }\n",
              "      </script>\n",
              "    </div>\n",
              "  </div>\n",
              "  "
            ],
            "text/plain": [
              "                                  track  algorithm  \\\n",
              "0  d5142a1e904db7ef51b8071585c46c68.wav          4   \n",
              "1  0520f2abfaa77784411e0121ba3cb23d.wav          3   \n",
              "2  64fc1bd819a11b0764dcdf2b6dc22441.wav          4   \n",
              "3  49883c9646792f3622a518531f8a4aa4.wav          4   \n",
              "4  3509fc87b2af64d5f47213e43a1188ae.wav          3   \n",
              "\n",
              "                                            wav_path  \\\n",
              "0  ./spcup_2022_training/spcup_2022_training_part...   \n",
              "1  ./spcup_2022_training/spcup_2022_training_part...   \n",
              "2  ./spcup_2022_training/spcup_2022_training_part...   \n",
              "3  ./spcup_2022_training/spcup_2022_training_part...   \n",
              "4  ./spcup_2022_training/spcup_2022_training_part...   \n",
              "\n",
              "                                      image_path  \n",
              "0  ./images/d5142a1e904db7ef51b8071585c46c68.png  \n",
              "1  ./images/0520f2abfaa77784411e0121ba3cb23d.png  \n",
              "2  ./images/64fc1bd819a11b0764dcdf2b6dc22441.png  \n",
              "3  ./images/49883c9646792f3622a518531f8a4aa4.png  \n",
              "4  ./images/3509fc87b2af64d5f47213e43a1188ae.png  "
            ]
          },
          "metadata": {},
          "execution_count": 13
        }
      ]
    },
    {
      "cell_type": "code",
      "source": [
        "label_df['track'] = label_df['track'].map(lambda x: x.split('.')[0])\n",
        "label_df.head()"
      ],
      "metadata": {
        "colab": {
          "base_uri": "https://localhost:8080/",
          "height": 206
        },
        "id": "Z9PbmxVj20PS",
        "outputId": "d10cd435-ebf9-4a9f-9898-c093f8516111"
      },
      "execution_count": 14,
      "outputs": [
        {
          "output_type": "execute_result",
          "data": {
            "text/html": [
              "\n",
              "  <div id=\"df-5f229b66-5f20-4d0b-82e2-5ef6f7da438d\">\n",
              "    <div class=\"colab-df-container\">\n",
              "      <div>\n",
              "<style scoped>\n",
              "    .dataframe tbody tr th:only-of-type {\n",
              "        vertical-align: middle;\n",
              "    }\n",
              "\n",
              "    .dataframe tbody tr th {\n",
              "        vertical-align: top;\n",
              "    }\n",
              "\n",
              "    .dataframe thead th {\n",
              "        text-align: right;\n",
              "    }\n",
              "</style>\n",
              "<table border=\"1\" class=\"dataframe\">\n",
              "  <thead>\n",
              "    <tr style=\"text-align: right;\">\n",
              "      <th></th>\n",
              "      <th>track</th>\n",
              "      <th>algorithm</th>\n",
              "      <th>wav_path</th>\n",
              "      <th>image_path</th>\n",
              "    </tr>\n",
              "  </thead>\n",
              "  <tbody>\n",
              "    <tr>\n",
              "      <th>0</th>\n",
              "      <td>d5142a1e904db7ef51b8071585c46c68</td>\n",
              "      <td>4</td>\n",
              "      <td>./spcup_2022_training/spcup_2022_training_part...</td>\n",
              "      <td>./images/d5142a1e904db7ef51b8071585c46c68.png</td>\n",
              "    </tr>\n",
              "    <tr>\n",
              "      <th>1</th>\n",
              "      <td>0520f2abfaa77784411e0121ba3cb23d</td>\n",
              "      <td>3</td>\n",
              "      <td>./spcup_2022_training/spcup_2022_training_part...</td>\n",
              "      <td>./images/0520f2abfaa77784411e0121ba3cb23d.png</td>\n",
              "    </tr>\n",
              "    <tr>\n",
              "      <th>2</th>\n",
              "      <td>64fc1bd819a11b0764dcdf2b6dc22441</td>\n",
              "      <td>4</td>\n",
              "      <td>./spcup_2022_training/spcup_2022_training_part...</td>\n",
              "      <td>./images/64fc1bd819a11b0764dcdf2b6dc22441.png</td>\n",
              "    </tr>\n",
              "    <tr>\n",
              "      <th>3</th>\n",
              "      <td>49883c9646792f3622a518531f8a4aa4</td>\n",
              "      <td>4</td>\n",
              "      <td>./spcup_2022_training/spcup_2022_training_part...</td>\n",
              "      <td>./images/49883c9646792f3622a518531f8a4aa4.png</td>\n",
              "    </tr>\n",
              "    <tr>\n",
              "      <th>4</th>\n",
              "      <td>3509fc87b2af64d5f47213e43a1188ae</td>\n",
              "      <td>3</td>\n",
              "      <td>./spcup_2022_training/spcup_2022_training_part...</td>\n",
              "      <td>./images/3509fc87b2af64d5f47213e43a1188ae.png</td>\n",
              "    </tr>\n",
              "  </tbody>\n",
              "</table>\n",
              "</div>\n",
              "      <button class=\"colab-df-convert\" onclick=\"convertToInteractive('df-5f229b66-5f20-4d0b-82e2-5ef6f7da438d')\"\n",
              "              title=\"Convert this dataframe to an interactive table.\"\n",
              "              style=\"display:none;\">\n",
              "        \n",
              "  <svg xmlns=\"http://www.w3.org/2000/svg\" height=\"24px\"viewBox=\"0 0 24 24\"\n",
              "       width=\"24px\">\n",
              "    <path d=\"M0 0h24v24H0V0z\" fill=\"none\"/>\n",
              "    <path d=\"M18.56 5.44l.94 2.06.94-2.06 2.06-.94-2.06-.94-.94-2.06-.94 2.06-2.06.94zm-11 1L8.5 8.5l.94-2.06 2.06-.94-2.06-.94L8.5 2.5l-.94 2.06-2.06.94zm10 10l.94 2.06.94-2.06 2.06-.94-2.06-.94-.94-2.06-.94 2.06-2.06.94z\"/><path d=\"M17.41 7.96l-1.37-1.37c-.4-.4-.92-.59-1.43-.59-.52 0-1.04.2-1.43.59L10.3 9.45l-7.72 7.72c-.78.78-.78 2.05 0 2.83L4 21.41c.39.39.9.59 1.41.59.51 0 1.02-.2 1.41-.59l7.78-7.78 2.81-2.81c.8-.78.8-2.07 0-2.86zM5.41 20L4 18.59l7.72-7.72 1.47 1.35L5.41 20z\"/>\n",
              "  </svg>\n",
              "      </button>\n",
              "      \n",
              "  <style>\n",
              "    .colab-df-container {\n",
              "      display:flex;\n",
              "      flex-wrap:wrap;\n",
              "      gap: 12px;\n",
              "    }\n",
              "\n",
              "    .colab-df-convert {\n",
              "      background-color: #E8F0FE;\n",
              "      border: none;\n",
              "      border-radius: 50%;\n",
              "      cursor: pointer;\n",
              "      display: none;\n",
              "      fill: #1967D2;\n",
              "      height: 32px;\n",
              "      padding: 0 0 0 0;\n",
              "      width: 32px;\n",
              "    }\n",
              "\n",
              "    .colab-df-convert:hover {\n",
              "      background-color: #E2EBFA;\n",
              "      box-shadow: 0px 1px 2px rgba(60, 64, 67, 0.3), 0px 1px 3px 1px rgba(60, 64, 67, 0.15);\n",
              "      fill: #174EA6;\n",
              "    }\n",
              "\n",
              "    [theme=dark] .colab-df-convert {\n",
              "      background-color: #3B4455;\n",
              "      fill: #D2E3FC;\n",
              "    }\n",
              "\n",
              "    [theme=dark] .colab-df-convert:hover {\n",
              "      background-color: #434B5C;\n",
              "      box-shadow: 0px 1px 3px 1px rgba(0, 0, 0, 0.15);\n",
              "      filter: drop-shadow(0px 1px 2px rgba(0, 0, 0, 0.3));\n",
              "      fill: #FFFFFF;\n",
              "    }\n",
              "  </style>\n",
              "\n",
              "      <script>\n",
              "        const buttonEl =\n",
              "          document.querySelector('#df-5f229b66-5f20-4d0b-82e2-5ef6f7da438d button.colab-df-convert');\n",
              "        buttonEl.style.display =\n",
              "          google.colab.kernel.accessAllowed ? 'block' : 'none';\n",
              "\n",
              "        async function convertToInteractive(key) {\n",
              "          const element = document.querySelector('#df-5f229b66-5f20-4d0b-82e2-5ef6f7da438d');\n",
              "          const dataTable =\n",
              "            await google.colab.kernel.invokeFunction('convertToInteractive',\n",
              "                                                     [key], {});\n",
              "          if (!dataTable) return;\n",
              "\n",
              "          const docLinkHtml = 'Like what you see? Visit the ' +\n",
              "            '<a target=\"_blank\" href=https://colab.research.google.com/notebooks/data_table.ipynb>data table notebook</a>'\n",
              "            + ' to learn more about interactive tables.';\n",
              "          element.innerHTML = '';\n",
              "          dataTable['output_type'] = 'display_data';\n",
              "          await google.colab.output.renderOutput(dataTable, element);\n",
              "          const docLink = document.createElement('div');\n",
              "          docLink.innerHTML = docLinkHtml;\n",
              "          element.appendChild(docLink);\n",
              "        }\n",
              "      </script>\n",
              "    </div>\n",
              "  </div>\n",
              "  "
            ],
            "text/plain": [
              "                              track  algorithm  \\\n",
              "0  d5142a1e904db7ef51b8071585c46c68          4   \n",
              "1  0520f2abfaa77784411e0121ba3cb23d          3   \n",
              "2  64fc1bd819a11b0764dcdf2b6dc22441          4   \n",
              "3  49883c9646792f3622a518531f8a4aa4          4   \n",
              "4  3509fc87b2af64d5f47213e43a1188ae          3   \n",
              "\n",
              "                                            wav_path  \\\n",
              "0  ./spcup_2022_training/spcup_2022_training_part...   \n",
              "1  ./spcup_2022_training/spcup_2022_training_part...   \n",
              "2  ./spcup_2022_training/spcup_2022_training_part...   \n",
              "3  ./spcup_2022_training/spcup_2022_training_part...   \n",
              "4  ./spcup_2022_training/spcup_2022_training_part...   \n",
              "\n",
              "                                      image_path  \n",
              "0  ./images/d5142a1e904db7ef51b8071585c46c68.png  \n",
              "1  ./images/0520f2abfaa77784411e0121ba3cb23d.png  \n",
              "2  ./images/64fc1bd819a11b0764dcdf2b6dc22441.png  \n",
              "3  ./images/49883c9646792f3622a518531f8a4aa4.png  \n",
              "4  ./images/3509fc87b2af64d5f47213e43a1188ae.png  "
            ]
          },
          "metadata": {},
          "execution_count": 14
        }
      ]
    },
    {
      "cell_type": "code",
      "source": [
        "col_map = {\n",
        "    'track': 'audio_id',\n",
        "    'algorithm': 'labels',\n",
        "    'wav_path': 'wav',\n",
        "    'image_path': 'image'\n",
        "}\n",
        "label_df.rename(col_map, axis=1, inplace=True)\n",
        "label_df.head()"
      ],
      "metadata": {
        "colab": {
          "base_uri": "https://localhost:8080/",
          "height": 206
        },
        "id": "yH5rSFn93Av7",
        "outputId": "4a6d8c94-b63a-4e8b-c753-1e54848d78ac"
      },
      "execution_count": 15,
      "outputs": [
        {
          "output_type": "execute_result",
          "data": {
            "text/html": [
              "\n",
              "  <div id=\"df-58b9a028-d632-4b29-ada9-eb14bb33e710\">\n",
              "    <div class=\"colab-df-container\">\n",
              "      <div>\n",
              "<style scoped>\n",
              "    .dataframe tbody tr th:only-of-type {\n",
              "        vertical-align: middle;\n",
              "    }\n",
              "\n",
              "    .dataframe tbody tr th {\n",
              "        vertical-align: top;\n",
              "    }\n",
              "\n",
              "    .dataframe thead th {\n",
              "        text-align: right;\n",
              "    }\n",
              "</style>\n",
              "<table border=\"1\" class=\"dataframe\">\n",
              "  <thead>\n",
              "    <tr style=\"text-align: right;\">\n",
              "      <th></th>\n",
              "      <th>audio_id</th>\n",
              "      <th>labels</th>\n",
              "      <th>wav</th>\n",
              "      <th>image</th>\n",
              "    </tr>\n",
              "  </thead>\n",
              "  <tbody>\n",
              "    <tr>\n",
              "      <th>0</th>\n",
              "      <td>d5142a1e904db7ef51b8071585c46c68</td>\n",
              "      <td>4</td>\n",
              "      <td>./spcup_2022_training/spcup_2022_training_part...</td>\n",
              "      <td>./images/d5142a1e904db7ef51b8071585c46c68.png</td>\n",
              "    </tr>\n",
              "    <tr>\n",
              "      <th>1</th>\n",
              "      <td>0520f2abfaa77784411e0121ba3cb23d</td>\n",
              "      <td>3</td>\n",
              "      <td>./spcup_2022_training/spcup_2022_training_part...</td>\n",
              "      <td>./images/0520f2abfaa77784411e0121ba3cb23d.png</td>\n",
              "    </tr>\n",
              "    <tr>\n",
              "      <th>2</th>\n",
              "      <td>64fc1bd819a11b0764dcdf2b6dc22441</td>\n",
              "      <td>4</td>\n",
              "      <td>./spcup_2022_training/spcup_2022_training_part...</td>\n",
              "      <td>./images/64fc1bd819a11b0764dcdf2b6dc22441.png</td>\n",
              "    </tr>\n",
              "    <tr>\n",
              "      <th>3</th>\n",
              "      <td>49883c9646792f3622a518531f8a4aa4</td>\n",
              "      <td>4</td>\n",
              "      <td>./spcup_2022_training/spcup_2022_training_part...</td>\n",
              "      <td>./images/49883c9646792f3622a518531f8a4aa4.png</td>\n",
              "    </tr>\n",
              "    <tr>\n",
              "      <th>4</th>\n",
              "      <td>3509fc87b2af64d5f47213e43a1188ae</td>\n",
              "      <td>3</td>\n",
              "      <td>./spcup_2022_training/spcup_2022_training_part...</td>\n",
              "      <td>./images/3509fc87b2af64d5f47213e43a1188ae.png</td>\n",
              "    </tr>\n",
              "  </tbody>\n",
              "</table>\n",
              "</div>\n",
              "      <button class=\"colab-df-convert\" onclick=\"convertToInteractive('df-58b9a028-d632-4b29-ada9-eb14bb33e710')\"\n",
              "              title=\"Convert this dataframe to an interactive table.\"\n",
              "              style=\"display:none;\">\n",
              "        \n",
              "  <svg xmlns=\"http://www.w3.org/2000/svg\" height=\"24px\"viewBox=\"0 0 24 24\"\n",
              "       width=\"24px\">\n",
              "    <path d=\"M0 0h24v24H0V0z\" fill=\"none\"/>\n",
              "    <path d=\"M18.56 5.44l.94 2.06.94-2.06 2.06-.94-2.06-.94-.94-2.06-.94 2.06-2.06.94zm-11 1L8.5 8.5l.94-2.06 2.06-.94-2.06-.94L8.5 2.5l-.94 2.06-2.06.94zm10 10l.94 2.06.94-2.06 2.06-.94-2.06-.94-.94-2.06-.94 2.06-2.06.94z\"/><path d=\"M17.41 7.96l-1.37-1.37c-.4-.4-.92-.59-1.43-.59-.52 0-1.04.2-1.43.59L10.3 9.45l-7.72 7.72c-.78.78-.78 2.05 0 2.83L4 21.41c.39.39.9.59 1.41.59.51 0 1.02-.2 1.41-.59l7.78-7.78 2.81-2.81c.8-.78.8-2.07 0-2.86zM5.41 20L4 18.59l7.72-7.72 1.47 1.35L5.41 20z\"/>\n",
              "  </svg>\n",
              "      </button>\n",
              "      \n",
              "  <style>\n",
              "    .colab-df-container {\n",
              "      display:flex;\n",
              "      flex-wrap:wrap;\n",
              "      gap: 12px;\n",
              "    }\n",
              "\n",
              "    .colab-df-convert {\n",
              "      background-color: #E8F0FE;\n",
              "      border: none;\n",
              "      border-radius: 50%;\n",
              "      cursor: pointer;\n",
              "      display: none;\n",
              "      fill: #1967D2;\n",
              "      height: 32px;\n",
              "      padding: 0 0 0 0;\n",
              "      width: 32px;\n",
              "    }\n",
              "\n",
              "    .colab-df-convert:hover {\n",
              "      background-color: #E2EBFA;\n",
              "      box-shadow: 0px 1px 2px rgba(60, 64, 67, 0.3), 0px 1px 3px 1px rgba(60, 64, 67, 0.15);\n",
              "      fill: #174EA6;\n",
              "    }\n",
              "\n",
              "    [theme=dark] .colab-df-convert {\n",
              "      background-color: #3B4455;\n",
              "      fill: #D2E3FC;\n",
              "    }\n",
              "\n",
              "    [theme=dark] .colab-df-convert:hover {\n",
              "      background-color: #434B5C;\n",
              "      box-shadow: 0px 1px 3px 1px rgba(0, 0, 0, 0.15);\n",
              "      filter: drop-shadow(0px 1px 2px rgba(0, 0, 0, 0.3));\n",
              "      fill: #FFFFFF;\n",
              "    }\n",
              "  </style>\n",
              "\n",
              "      <script>\n",
              "        const buttonEl =\n",
              "          document.querySelector('#df-58b9a028-d632-4b29-ada9-eb14bb33e710 button.colab-df-convert');\n",
              "        buttonEl.style.display =\n",
              "          google.colab.kernel.accessAllowed ? 'block' : 'none';\n",
              "\n",
              "        async function convertToInteractive(key) {\n",
              "          const element = document.querySelector('#df-58b9a028-d632-4b29-ada9-eb14bb33e710');\n",
              "          const dataTable =\n",
              "            await google.colab.kernel.invokeFunction('convertToInteractive',\n",
              "                                                     [key], {});\n",
              "          if (!dataTable) return;\n",
              "\n",
              "          const docLinkHtml = 'Like what you see? Visit the ' +\n",
              "            '<a target=\"_blank\" href=https://colab.research.google.com/notebooks/data_table.ipynb>data table notebook</a>'\n",
              "            + ' to learn more about interactive tables.';\n",
              "          element.innerHTML = '';\n",
              "          dataTable['output_type'] = 'display_data';\n",
              "          await google.colab.output.renderOutput(dataTable, element);\n",
              "          const docLink = document.createElement('div');\n",
              "          docLink.innerHTML = docLinkHtml;\n",
              "          element.appendChild(docLink);\n",
              "        }\n",
              "      </script>\n",
              "    </div>\n",
              "  </div>\n",
              "  "
            ],
            "text/plain": [
              "                           audio_id  labels  \\\n",
              "0  d5142a1e904db7ef51b8071585c46c68       4   \n",
              "1  0520f2abfaa77784411e0121ba3cb23d       3   \n",
              "2  64fc1bd819a11b0764dcdf2b6dc22441       4   \n",
              "3  49883c9646792f3622a518531f8a4aa4       4   \n",
              "4  3509fc87b2af64d5f47213e43a1188ae       3   \n",
              "\n",
              "                                                 wav  \\\n",
              "0  ./spcup_2022_training/spcup_2022_training_part...   \n",
              "1  ./spcup_2022_training/spcup_2022_training_part...   \n",
              "2  ./spcup_2022_training/spcup_2022_training_part...   \n",
              "3  ./spcup_2022_training/spcup_2022_training_part...   \n",
              "4  ./spcup_2022_training/spcup_2022_training_part...   \n",
              "\n",
              "                                           image  \n",
              "0  ./images/d5142a1e904db7ef51b8071585c46c68.png  \n",
              "1  ./images/0520f2abfaa77784411e0121ba3cb23d.png  \n",
              "2  ./images/64fc1bd819a11b0764dcdf2b6dc22441.png  \n",
              "3  ./images/49883c9646792f3622a518531f8a4aa4.png  \n",
              "4  ./images/3509fc87b2af64d5f47213e43a1188ae.png  "
            ]
          },
          "metadata": {},
          "execution_count": 15
        }
      ]
    },
    {
      "cell_type": "code",
      "source": [
        "train_df, test_df = train_test_split(label_df, test_size=0.15)"
      ],
      "metadata": {
        "id": "22Nai44F3C4-"
      },
      "execution_count": 16,
      "outputs": []
    },
    {
      "cell_type": "code",
      "source": [
        "train_data_dict = {'data': train_df.to_dict('records')}\n",
        "with open(\"./final_train_data.json\", \"w\") as outfile:\n",
        "    json.dump(train_data_dict, outfile)\n",
        "\n",
        "test_data_dict = {'data': test_df.to_dict('records')}\n",
        "with open(\"./final_test_data.json\", \"w\") as outfile:\n",
        "    json.dump(test_data_dict, outfile)"
      ],
      "metadata": {
        "id": "t7kCxRVi3FNQ"
      },
      "execution_count": 17,
      "outputs": []
    },
    {
      "cell_type": "markdown",
      "source": [
        "Model Training"
      ],
      "metadata": {
        "id": "14Zwz-Nu3oZY"
      }
    },
    {
      "cell_type": "code",
      "source": [
        "args = argparse.Namespace()\n",
        "\n",
        "args.data_train = './final_train_data.json'\n",
        "args.data_val = './final_test_data.json'\n",
        "args.data_eval = '.json'\n",
        "args.n_class = 6\n",
        "args.model = 'ast'\n",
        "args.dataset = 'speechcommands'\n",
        "args.exp_dir = '.'\n",
        "args.lr = 0.001\n",
        "args.optim = 'adam'\n",
        "args.batch_size = 12\n",
        "args.num_workers =32\n",
        "args.n_epochs = 10\n",
        "args.lr_patience = 2\n",
        "args.n_print_steps = 100\n",
        "args.save_model = None # \n",
        "args.freqm = 0\n",
        "args.timem = 0\n",
        "args.mixup = 0\n",
        "args.bal = False\n",
        "args.fstride = 10\n",
        "args.tstride = 10\n",
        "args.imagenet_pretrain = True\n",
        "args.audioset_pretrain = False\n"
      ],
      "metadata": {
        "id": "pROdsWgh3erK"
      },
      "execution_count": 8,
      "outputs": []
    },
    {
      "cell_type": "code",
      "source": [
        "# dataset spectrogram mean and std, used to normalize the input\n",
        "norm_stats = {'audioset':[-4.2677393, 4.5689974], 'esc50':[-6.6268077, 5.358466], 'speechcommands':[-6.845978, 5.5654526]}\n",
        "target_length = {'audioset':1024, 'esc50':512, 'speechcommands':128}\n",
        "# if add noise for data augmentation, only use for speech commands\n",
        "noise = {'audioset': False, 'esc50': False, 'speechcommands':True}\n",
        "\n",
        "audio_conf = {'num_mel_bins': 128, 'target_length': target_length[args.dataset], 'freqm': args.freqm, 'timem': args.timem, 'mixup': args.mixup, 'dataset': args.dataset, 'mode':'train', 'mean':norm_stats[args.dataset][0], 'std':norm_stats[args.dataset][1],\n",
        "                'noise':noise[args.dataset]}\n",
        "val_audio_conf = {'num_mel_bins': 128, 'target_length': target_length[args.dataset], 'freqm': 0, 'timem': 0, 'mixup': 0, 'dataset': args.dataset, 'mode':'evaluation', 'mean':norm_stats[args.dataset][0], 'std':norm_stats[args.dataset][1], 'noise':False}\n"
      ],
      "metadata": {
        "id": "7k9PqviZ3uA5"
      },
      "execution_count": 9,
      "outputs": []
    },
    {
      "cell_type": "code",
      "source": [
        "if args.bal == 'bal':\n",
        "    print('balanced sampler is being used')\n",
        "    samples_weight = np.loadtxt(args.data_train[:-5]+'_weight.csv', delimiter=',')\n",
        "    sampler = WeightedRandomSampler(samples_weight, len(samples_weight), replacement=True)\n",
        "\n",
        "    train_loader = torch.utils.data.DataLoader(\n",
        "        dataloader.AudiosetDataset(args.data_train, audio_conf=audio_conf),\n",
        "        batch_size=args.batch_size, sampler=sampler, num_workers=args.num_workers, pin_memory=True)\n",
        "else:\n",
        "    print('balanced sampler is not used')\n",
        "    train_loader = torch.utils.data.DataLoader(\n",
        "        dataloader.AudiosetDataset(args.data_train, audio_conf=audio_conf),\n",
        "        batch_size=args.batch_size, shuffle=True, num_workers=args.num_workers, pin_memory=True)\n",
        "\n",
        "val_loader = torch.utils.data.DataLoader(\n",
        "    dataloader.AudiosetDataset(args.data_val, audio_conf=val_audio_conf),\n",
        "    batch_size=args.batch_size*2, shuffle=False, num_workers=args.num_workers, pin_memory=True)"
      ],
      "metadata": {
        "colab": {
          "base_uri": "https://localhost:8080/"
        },
        "id": "ddAFPJna3wID",
        "outputId": "945176d2-ae48-4eee-ad32-77e9d7cd5192"
      },
      "execution_count": 10,
      "outputs": [
        {
          "output_type": "stream",
          "name": "stdout",
          "text": [
            "balanced sampler is not used\n",
            "---------------the train dataloader---------------\n",
            "now using following mask: 0 freq, 0 time\n",
            "now using mix-up with rate 0.000000\n",
            "now process speechcommands\n",
            "use dataset mean -6.846 and std 5.565 to normalize the input.\n",
            "now use noise augmentation\n",
            "number of classes is 6\n",
            "---------------the evaluation dataloader---------------\n",
            "now using following mask: 0 freq, 0 time\n",
            "now using mix-up with rate 0.000000\n",
            "now process speechcommands\n",
            "use dataset mean -6.846 and std 5.565 to normalize the input.\n",
            "number of classes is 6\n"
          ]
        },
        {
          "output_type": "stream",
          "name": "stderr",
          "text": [
            "/usr/local/lib/python3.7/dist-packages/torch/utils/data/dataloader.py:481: UserWarning: This DataLoader will create 32 worker processes in total. Our suggested max number of worker in current system is 2, which is smaller than what this DataLoader is going to create. Please be aware that excessive worker creation might get DataLoader running slow or even freeze, lower the worker number to avoid potential slowness/freeze if necessary.\n",
            "  cpuset_checked))\n"
          ]
        }
      ]
    },
    {
      "cell_type": "code",
      "source": [
        "audio_model = ASTModel(label_dim=args.n_class, fstride=args.fstride, tstride=args.tstride, input_fdim=128,\n",
        "                                input_tdim=target_length[args.dataset], imagenet_pretrain=args.imagenet_pretrain,\n",
        "                                audioset_pretrain=args.audioset_pretrain, model_size='base384')\n"
      ],
      "metadata": {
        "colab": {
          "base_uri": "https://localhost:8080/"
        },
        "id": "CUJ1c7-n3zAK",
        "outputId": "e01c074c-7fe4-42a5-a6e7-b8c66982f8bf"
      },
      "execution_count": 11,
      "outputs": [
        {
          "output_type": "stream",
          "name": "stdout",
          "text": [
            "---------------AST Model Summary---------------\n",
            "ImageNet pretraining: True, AudioSet pretraining: False\n",
            "frequncey stride=10, time stride=10\n",
            "number of patches=144\n"
          ]
        }
      ]
    },
    {
      "cell_type": "code",
      "source": [
        "print('Now starting training for {:d} epochs'.format(args.n_epochs))\n",
        "train(audio_model, train_loader, val_loader, args)"
      ],
      "metadata": {
        "colab": {
          "base_uri": "https://localhost:8080/"
        },
        "id": "hf6DVdHx31Zv",
        "outputId": "dc5e89d3-785d-42e2-f7f9-a8c064435095"
      },
      "execution_count": 12,
      "outputs": [
        {
          "output_type": "stream",
          "name": "stdout",
          "text": [
            "Now starting training for 10 epochs\n",
            "running on cuda\n",
            "Total parameter number is : 86.911 million\n",
            "Total trainable parameter number is : 86.911 million\n",
            "scheduler for speech commands is used\n",
            "now training with speechcommands, main metrics: acc, loss function: BCEWithLogitsLoss(), learning rate scheduler: <torch.optim.lr_scheduler.MultiStepLR object at 0x7fc016847390>\n",
            "current #steps=0, #epochs=1\n",
            "start training...\n",
            "---------------\n",
            "2022-03-05 12:41:08.089102\n",
            "current #epochs=1, #steps=0\n"
          ]
        },
        {
          "output_type": "stream",
          "name": "stderr",
          "text": [
            "/usr/local/lib/python3.7/dist-packages/torch/utils/data/dataloader.py:481: UserWarning: This DataLoader will create 32 worker processes in total. Our suggested max number of worker in current system is 2, which is smaller than what this DataLoader is going to create. Please be aware that excessive worker creation might get DataLoader running slow or even freeze, lower the worker number to avoid potential slowness/freeze if necessary.\n",
            "  cpuset_checked))\n"
          ]
        },
        {
          "output_type": "stream",
          "name": "stdout",
          "text": [
            "Epoch: [1][100/425]\tPer Sample Total Time 0.01625\tPer Sample Data Time 0.00293\tPer Sample DNN Time 0.01332\tTrain Loss 0.4271\t\n",
            "Epoch: [1][200/425]\tPer Sample Total Time 0.01363\tPer Sample Data Time 0.00151\tPer Sample DNN Time 0.01212\tTrain Loss 0.3926\t\n",
            "Epoch: [1][300/425]\tPer Sample Total Time 0.01278\tPer Sample Data Time 0.00104\tPer Sample DNN Time 0.01174\tTrain Loss 0.3684\t\n",
            "Epoch: [1][400/425]\tPer Sample Total Time 0.01233\tPer Sample Data Time 0.00079\tPer Sample DNN Time 0.01154\tTrain Loss 0.3449\t\n",
            "start validation\n",
            "acc: 0.491111\n",
            "AUC: 0.844741\n",
            "Avg Precision: 0.396650\n",
            "Avg Recall: 1.000000\n",
            "d_prime: 1.434203\n",
            "train_loss: 0.342345\n",
            "valid_loss: 0.703310\n",
            "validation finished\n",
            "Epoch-1 lr: 0.001\n",
            "epoch 1 training time: 77.899\n",
            "---------------\n",
            "2022-03-05 12:42:25.988273\n",
            "current #epochs=2, #steps=425\n"
          ]
        },
        {
          "output_type": "stream",
          "name": "stderr",
          "text": [
            "/usr/local/lib/python3.7/dist-packages/torch/utils/data/dataloader.py:481: UserWarning: This DataLoader will create 32 worker processes in total. Our suggested max number of worker in current system is 2, which is smaller than what this DataLoader is going to create. Please be aware that excessive worker creation might get DataLoader running slow or even freeze, lower the worker number to avoid potential slowness/freeze if necessary.\n",
            "  cpuset_checked))\n"
          ]
        },
        {
          "output_type": "stream",
          "name": "stdout",
          "text": [
            "Epoch: [2][75/425]\tPer Sample Total Time 0.01792\tPer Sample Data Time 0.00434\tPer Sample DNN Time 0.01358\tTrain Loss 0.2550\t\n",
            "Epoch: [2][175/425]\tPer Sample Total Time 0.01407\tPer Sample Data Time 0.00192\tPer Sample DNN Time 0.01214\tTrain Loss 0.2518\t\n",
            "Epoch: [2][275/425]\tPer Sample Total Time 0.01301\tPer Sample Data Time 0.00125\tPer Sample DNN Time 0.01176\tTrain Loss 0.2506\t\n",
            "Epoch: [2][375/425]\tPer Sample Total Time 0.01253\tPer Sample Data Time 0.00094\tPer Sample DNN Time 0.01159\tTrain Loss 0.2554\t\n",
            "start validation\n",
            "acc: 0.583333\n",
            "AUC: 0.877061\n",
            "Avg Precision: 0.247364\n",
            "Avg Recall: 1.000000\n",
            "d_prime: 1.641084\n",
            "train_loss: 0.254176\n",
            "valid_loss: 0.697673\n",
            "validation finished\n",
            "Epoch-2 lr: 0.001\n",
            "epoch 2 training time: 78.766\n",
            "---------------\n",
            "2022-03-05 12:43:44.756031\n",
            "current #epochs=3, #steps=850\n"
          ]
        },
        {
          "output_type": "stream",
          "name": "stderr",
          "text": [
            "/usr/local/lib/python3.7/dist-packages/torch/utils/data/dataloader.py:481: UserWarning: This DataLoader will create 32 worker processes in total. Our suggested max number of worker in current system is 2, which is smaller than what this DataLoader is going to create. Please be aware that excessive worker creation might get DataLoader running slow or even freeze, lower the worker number to avoid potential slowness/freeze if necessary.\n",
            "  cpuset_checked))\n"
          ]
        },
        {
          "output_type": "stream",
          "name": "stdout",
          "text": [
            "Epoch: [3][50/425]\tPer Sample Total Time 0.02140\tPer Sample Data Time 0.00616\tPer Sample DNN Time 0.01524\tTrain Loss 0.2401\t\n",
            "Epoch: [3][150/425]\tPer Sample Total Time 0.01462\tPer Sample Data Time 0.00213\tPer Sample DNN Time 0.01249\tTrain Loss 0.2292\t\n",
            "Epoch: [3][250/425]\tPer Sample Total Time 0.01328\tPer Sample Data Time 0.00132\tPer Sample DNN Time 0.01195\tTrain Loss 0.2191\t\n",
            "Epoch: [3][350/425]\tPer Sample Total Time 0.01270\tPer Sample Data Time 0.00097\tPer Sample DNN Time 0.01173\tTrain Loss 0.2129\t\n",
            "start validation\n",
            "acc: 0.662222\n",
            "AUC: 0.923259\n",
            "Avg Precision: 0.508856\n",
            "Avg Recall: 1.000000\n",
            "d_prime: 2.018566\n",
            "train_loss: 0.209894\n",
            "valid_loss: 0.688805\n",
            "validation finished\n",
            "Epoch-3 lr: 0.001\n",
            "epoch 3 training time: 79.078\n",
            "---------------\n",
            "2022-03-05 12:45:03.834441\n",
            "current #epochs=4, #steps=1275\n"
          ]
        },
        {
          "output_type": "stream",
          "name": "stderr",
          "text": [
            "/usr/local/lib/python3.7/dist-packages/torch/utils/data/dataloader.py:481: UserWarning: This DataLoader will create 32 worker processes in total. Our suggested max number of worker in current system is 2, which is smaller than what this DataLoader is going to create. Please be aware that excessive worker creation might get DataLoader running slow or even freeze, lower the worker number to avoid potential slowness/freeze if necessary.\n",
            "  cpuset_checked))\n"
          ]
        },
        {
          "output_type": "stream",
          "name": "stdout",
          "text": [
            "Epoch: [4][25/425]\tPer Sample Total Time 0.03158\tPer Sample Data Time 0.01144\tPer Sample DNN Time 0.02013\tTrain Loss 0.1692\t\n",
            "Epoch: [4][125/425]\tPer Sample Total Time 0.01539\tPer Sample Data Time 0.00241\tPer Sample DNN Time 0.01298\tTrain Loss 0.1735\t\n",
            "Epoch: [4][225/425]\tPer Sample Total Time 0.01356\tPer Sample Data Time 0.00138\tPer Sample DNN Time 0.01218\tTrain Loss 0.1741\t\n",
            "Epoch: [4][325/425]\tPer Sample Total Time 0.01285\tPer Sample Data Time 0.00098\tPer Sample DNN Time 0.01187\tTrain Loss 0.1749\t\n",
            "start validation\n",
            "acc: 0.746667\n",
            "AUC: 0.948149\n",
            "Avg Precision: 0.478207\n",
            "Avg Recall: 1.000000\n",
            "d_prime: 2.301161\n",
            "train_loss: 0.178075\n",
            "valid_loss: 0.682686\n",
            "validation finished\n",
            "Epoch-4 lr: 0.001\n",
            "epoch 4 training time: 79.210\n",
            "---------------\n",
            "2022-03-05 12:46:23.048175\n",
            "current #epochs=5, #steps=1700\n"
          ]
        },
        {
          "output_type": "stream",
          "name": "stderr",
          "text": [
            "/usr/local/lib/python3.7/dist-packages/torch/utils/data/dataloader.py:481: UserWarning: This DataLoader will create 32 worker processes in total. Our suggested max number of worker in current system is 2, which is smaller than what this DataLoader is going to create. Please be aware that excessive worker creation might get DataLoader running slow or even freeze, lower the worker number to avoid potential slowness/freeze if necessary.\n",
            "  cpuset_checked))\n"
          ]
        },
        {
          "output_type": "stream",
          "name": "stdout",
          "text": [
            "Epoch: [5][0/425]\tPer Sample Total Time 0.48985\tPer Sample Data Time 0.33923\tPer Sample DNN Time 0.15062\tTrain Loss 0.1689\t\n",
            "Epoch: [5][100/425]\tPer Sample Total Time 0.01671\tPer Sample Data Time 0.00344\tPer Sample DNN Time 0.01328\tTrain Loss 0.1624\t\n",
            "Epoch: [5][200/425]\tPer Sample Total Time 0.01398\tPer Sample Data Time 0.00176\tPer Sample DNN Time 0.01221\tTrain Loss 0.1605\t\n",
            "Epoch: [5][300/425]\tPer Sample Total Time 0.01308\tPer Sample Data Time 0.00120\tPer Sample DNN Time 0.01188\tTrain Loss 0.1630\t\n",
            "Epoch: [5][400/425]\tPer Sample Total Time 0.01261\tPer Sample Data Time 0.00092\tPer Sample DNN Time 0.01170\tTrain Loss 0.1690\t\n",
            "start validation\n",
            "acc: 0.751111\n",
            "AUC: 0.949371\n",
            "Avg Precision: 0.575563\n",
            "Avg Recall: 1.000000\n",
            "d_prime: 2.317592\n",
            "train_loss: 0.167152\n",
            "valid_loss: 0.675003\n",
            "validation finished\n",
            "Epoch-5 lr: 0.00085\n",
            "epoch 5 training time: 79.883\n",
            "---------------\n",
            "2022-03-05 12:47:42.930529\n",
            "current #epochs=6, #steps=2125\n"
          ]
        },
        {
          "output_type": "stream",
          "name": "stderr",
          "text": [
            "/usr/local/lib/python3.7/dist-packages/torch/utils/data/dataloader.py:481: UserWarning: This DataLoader will create 32 worker processes in total. Our suggested max number of worker in current system is 2, which is smaller than what this DataLoader is going to create. Please be aware that excessive worker creation might get DataLoader running slow or even freeze, lower the worker number to avoid potential slowness/freeze if necessary.\n",
            "  cpuset_checked))\n"
          ]
        },
        {
          "output_type": "stream",
          "name": "stdout",
          "text": [
            "Epoch: [6][75/425]\tPer Sample Total Time 0.01833\tPer Sample Data Time 0.00390\tPer Sample DNN Time 0.01443\tTrain Loss 0.1671\t\n",
            "Epoch: [6][175/425]\tPer Sample Total Time 0.01427\tPer Sample Data Time 0.00172\tPer Sample DNN Time 0.01255\tTrain Loss 0.1613\t\n",
            "Epoch: [6][275/425]\tPer Sample Total Time 0.01319\tPer Sample Data Time 0.00113\tPer Sample DNN Time 0.01206\tTrain Loss 0.1560\t\n",
            "Epoch: [6][375/425]\tPer Sample Total Time 0.01267\tPer Sample Data Time 0.00085\tPer Sample DNN Time 0.01183\tTrain Loss 0.1518\t\n",
            "start validation\n",
            "acc: 0.782222\n",
            "AUC: 0.958623\n",
            "Avg Precision: 0.602780\n",
            "Avg Recall: 1.000000\n",
            "d_prime: 2.453551\n",
            "train_loss: 0.149823\n",
            "valid_loss: 0.669478\n",
            "validation finished\n",
            "Epoch-6 lr: 0.0007224999999999999\n",
            "epoch 6 training time: 79.398\n",
            "---------------\n",
            "2022-03-05 12:49:02.329129\n",
            "current #epochs=7, #steps=2550\n"
          ]
        },
        {
          "output_type": "stream",
          "name": "stderr",
          "text": [
            "/usr/local/lib/python3.7/dist-packages/torch/utils/data/dataloader.py:481: UserWarning: This DataLoader will create 32 worker processes in total. Our suggested max number of worker in current system is 2, which is smaller than what this DataLoader is going to create. Please be aware that excessive worker creation might get DataLoader running slow or even freeze, lower the worker number to avoid potential slowness/freeze if necessary.\n",
            "  cpuset_checked))\n"
          ]
        },
        {
          "output_type": "stream",
          "name": "stdout",
          "text": [
            "Epoch: [7][50/425]\tPer Sample Total Time 0.02180\tPer Sample Data Time 0.00546\tPer Sample DNN Time 0.01634\tTrain Loss 0.1361\t\n",
            "Epoch: [7][150/425]\tPer Sample Total Time 0.01479\tPer Sample Data Time 0.00189\tPer Sample DNN Time 0.01290\tTrain Loss 0.1367\t\n",
            "Epoch: [7][250/425]\tPer Sample Total Time 0.01339\tPer Sample Data Time 0.00118\tPer Sample DNN Time 0.01221\tTrain Loss 0.1322\t\n",
            "Epoch: [7][350/425]\tPer Sample Total Time 0.01279\tPer Sample Data Time 0.00086\tPer Sample DNN Time 0.01193\tTrain Loss 0.1278\t\n",
            "start validation\n",
            "acc: 0.801111\n",
            "AUC: 0.963939\n",
            "Avg Precision: 0.608293\n",
            "Avg Recall: 1.000000\n",
            "d_prime: 2.543255\n",
            "train_loss: 0.129329\n",
            "valid_loss: 0.663856\n",
            "validation finished\n",
            "Epoch-7 lr: 0.000614125\n",
            "epoch 7 training time: 79.320\n",
            "---------------\n",
            "2022-03-05 12:50:21.649392\n",
            "current #epochs=8, #steps=2975\n"
          ]
        },
        {
          "output_type": "stream",
          "name": "stderr",
          "text": [
            "/usr/local/lib/python3.7/dist-packages/torch/utils/data/dataloader.py:481: UserWarning: This DataLoader will create 32 worker processes in total. Our suggested max number of worker in current system is 2, which is smaller than what this DataLoader is going to create. Please be aware that excessive worker creation might get DataLoader running slow or even freeze, lower the worker number to avoid potential slowness/freeze if necessary.\n",
            "  cpuset_checked))\n"
          ]
        },
        {
          "output_type": "stream",
          "name": "stdout",
          "text": [
            "Epoch: [8][25/425]\tPer Sample Total Time 0.03133\tPer Sample Data Time 0.01249\tPer Sample DNN Time 0.01884\tTrain Loss 0.1123\t\n",
            "Epoch: [8][125/425]\tPer Sample Total Time 0.01539\tPer Sample Data Time 0.00263\tPer Sample DNN Time 0.01276\tTrain Loss 0.1212\t\n",
            "Epoch: [8][225/425]\tPer Sample Total Time 0.01355\tPer Sample Data Time 0.00149\tPer Sample DNN Time 0.01206\tTrain Loss 0.1175\t\n",
            "Epoch: [8][325/425]\tPer Sample Total Time 0.01285\tPer Sample Data Time 0.00106\tPer Sample DNN Time 0.01179\tTrain Loss 0.1209\t\n",
            "start validation\n",
            "acc: 0.813333\n",
            "AUC: 0.967509\n",
            "Avg Precision: 0.606338\n",
            "Avg Recall: 1.000000\n",
            "d_prime: 2.609760\n",
            "train_loss: 0.123014\n",
            "valid_loss: 0.664160\n",
            "validation finished\n",
            "Epoch-8 lr: 0.00052200625\n",
            "epoch 8 training time: 79.004\n",
            "---------------\n",
            "2022-03-05 12:51:40.654187\n",
            "current #epochs=9, #steps=3400\n"
          ]
        },
        {
          "output_type": "stream",
          "name": "stderr",
          "text": [
            "/usr/local/lib/python3.7/dist-packages/torch/utils/data/dataloader.py:481: UserWarning: This DataLoader will create 32 worker processes in total. Our suggested max number of worker in current system is 2, which is smaller than what this DataLoader is going to create. Please be aware that excessive worker creation might get DataLoader running slow or even freeze, lower the worker number to avoid potential slowness/freeze if necessary.\n",
            "  cpuset_checked))\n"
          ]
        },
        {
          "output_type": "stream",
          "name": "stdout",
          "text": [
            "Epoch: [9][0/425]\tPer Sample Total Time 0.46516\tPer Sample Data Time 0.30685\tPer Sample DNN Time 0.15830\tTrain Loss 0.1332\t\n",
            "Epoch: [9][100/425]\tPer Sample Total Time 0.01659\tPer Sample Data Time 0.00310\tPer Sample DNN Time 0.01350\tTrain Loss 0.1632\t\n",
            "Epoch: [9][200/425]\tPer Sample Total Time 0.01393\tPer Sample Data Time 0.00160\tPer Sample DNN Time 0.01233\tTrain Loss 0.1486\t\n",
            "Epoch: [9][300/425]\tPer Sample Total Time 0.01305\tPer Sample Data Time 0.00110\tPer Sample DNN Time 0.01195\tTrain Loss 0.1612\t\n",
            "Epoch: [9][400/425]\tPer Sample Total Time 0.01261\tPer Sample Data Time 0.00084\tPer Sample DNN Time 0.01177\tTrain Loss 0.1770\t\n",
            "start validation\n",
            "acc: 0.754444\n",
            "AUC: 0.949218\n",
            "Avg Precision: 0.525066\n",
            "Avg Recall: 1.000000\n",
            "d_prime: 2.315514\n",
            "train_loss: 0.175586\n",
            "valid_loss: 0.676457\n",
            "validation finished\n",
            "Epoch-9 lr: 0.00044370531249999997\n",
            "epoch 9 training time: 75.332\n",
            "---------------\n",
            "2022-03-05 12:52:55.985616\n",
            "current #epochs=10, #steps=3825\n"
          ]
        },
        {
          "output_type": "stream",
          "name": "stderr",
          "text": [
            "/usr/local/lib/python3.7/dist-packages/torch/utils/data/dataloader.py:481: UserWarning: This DataLoader will create 32 worker processes in total. Our suggested max number of worker in current system is 2, which is smaller than what this DataLoader is going to create. Please be aware that excessive worker creation might get DataLoader running slow or even freeze, lower the worker number to avoid potential slowness/freeze if necessary.\n",
            "  cpuset_checked))\n"
          ]
        },
        {
          "output_type": "stream",
          "name": "stdout",
          "text": [
            "Epoch: [10][75/425]\tPer Sample Total Time 0.01825\tPer Sample Data Time 0.00361\tPer Sample DNN Time 0.01464\tTrain Loss 0.1542\t\n",
            "Epoch: [10][175/425]\tPer Sample Total Time 0.01427\tPer Sample Data Time 0.00160\tPer Sample DNN Time 0.01267\tTrain Loss 0.1479\t\n",
            "Epoch: [10][275/425]\tPer Sample Total Time 0.01319\tPer Sample Data Time 0.00105\tPer Sample DNN Time 0.01214\tTrain Loss 0.1451\t\n",
            "Epoch: [10][375/425]\tPer Sample Total Time 0.01267\tPer Sample Data Time 0.00079\tPer Sample DNN Time 0.01188\tTrain Loss 0.1456\t\n",
            "start validation\n",
            "acc: 0.740000\n",
            "AUC: 0.945889\n",
            "Avg Precision: 0.541920\n",
            "Avg Recall: 1.000000\n",
            "d_prime: 2.271562\n",
            "train_loss: 0.147380\n",
            "valid_loss: 0.676821\n",
            "validation finished\n",
            "Epoch-10 lr: 0.00037714951562499996\n",
            "epoch 10 training time: 74.969\n"
          ]
        }
      ]
    },
    {
      "cell_type": "code",
      "source": [
        ""
      ],
      "metadata": {
        "id": "BCNtIhAq332B"
      },
      "execution_count": null,
      "outputs": []
    }
  ]
}