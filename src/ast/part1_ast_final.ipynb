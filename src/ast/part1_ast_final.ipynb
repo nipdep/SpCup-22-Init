{
  "cells": [
    {
      "cell_type": "code",
      "execution_count": null,
      "metadata": {
        "id": "wB7-ZXRr0XBy"
      },
      "outputs": [],
      "source": [
        "! pip install timm==0.4.5\n",
        "! pip install wget\n",
        "! pip install neptune-client\n",
        "! pip install torchcontrib"
      ]
    },
    {
      "cell_type": "code",
      "execution_count": 23,
      "metadata": {
        "id": "wWNEFldQ1GTI"
      },
      "outputs": [],
      "source": [
        "import argparse\n",
        "import os\n",
        "import ast\n",
        "import pickle\n",
        "import sys\n",
        "import time\n",
        "import torch\n",
        "import numpy as np\n",
        "import pandas as pd\n",
        "import json\n",
        "import neptune.new as neptune\n",
        "from typing import Dict, List, Union\n",
        "import torchaudio\n",
        "import random\n",
        "\n",
        "from sklearn.model_selection import train_test_split\n",
        "from torch.utils.data import Dataset\n",
        "from torch.utils.data import WeightedRandomSampler\n",
        "import torch.nn as nn\n",
        "from torch.utils.data import DataLoader\n",
        "from torch.cuda.amp import GradScaler, autocast\n",
        "# from torch.utils.tensorboard import SummaryWriter\n",
        "from torchcontrib.optim import SWA\n",
        "basepath = os.path.dirname(os.path.dirname(sys.path[0]))\n",
        "sys.path.append(basepath)\n",
        "\n",
        "import dataloaderV1\n",
        "from ast_models import ASTModel\n",
        "from traintest import train, validate"
      ]
    },
    {
      "cell_type": "code",
      "execution_count": 14,
      "metadata": {
        "colab": {
          "base_uri": "https://localhost:8080/"
        },
        "id": "nDBJ3rncllUh",
        "outputId": "ab941c29-2caa-4481-d7a0-e7e1e73fec45"
      },
      "outputs": [
        {
          "output_type": "stream",
          "name": "stdout",
          "text": [
            "https://app.neptune.ai/nipdep/sp-cup/e/SPCUP-57\n",
            "Remember to stop your run once you’ve finished logging your metadata (https://docs.neptune.ai/api-reference/run#.stop). It will be stopped automatically only when the notebook kernel/interactive console is terminated.\n"
          ]
        }
      ],
      "source": [
        "tracker = neptune.init(\n",
        "    project=\"nipdep/sp-cup\",\n",
        "    api_token=\"eyJhcGlfYWRkcmVzcyI6Imh0dHBzOi8vYXBwLm5lcHR1bmUuYWkiLCJhcGlfdXJsIjoiaHR0cHM6Ly9hcHAubmVwdHVuZS5haSIsImFwaV9rZXkiOiJkNWJjMDdhNC05NWY5LTQwNWQtYTQyNi0zNjNmYmYwZDg3M2YifQ==\",\n",
        ")  # your credentials"
      ]
    },
    {
      "cell_type": "code",
      "source": [
        "import warnings\n",
        "warnings.filterwarnings('ignore')"
      ],
      "metadata": {
        "id": "OqhnGhc0VD72"
      },
      "execution_count": 15,
      "outputs": []
    },
    {
      "cell_type": "markdown",
      "metadata": {
        "id": "DSF_A-7k2F7b"
      },
      "source": [
        "File Operations"
      ]
    },
    {
      "cell_type": "code",
      "execution_count": null,
      "metadata": {
        "id": "3_MHyltj1G8P"
      },
      "outputs": [],
      "source": [
        "! wget \"https://www.dropbox.com/s/36yqmymkva2bwdi/spcup_2022_training_part1.zip?dl=1\" -c -O 'spcup_2022_training_part1.zip'\n",
        "! wget \"https://www.dropbox.com/s/wsmlthhri29fb79/spcup_2022_unseen.zip?dl=1\" -c -O 'spcup_2022_unseen.zip'\n",
        "\n",
        "!unzip \"./spcup_2022_training_part1.zip\" -d \"./spcup_2022_training/\"\n",
        "!unzip \"./spcup_2022_unseen.zip\" -d \"./spcup_2022_unseen/\"\n",
        "\n",
        "!rm \"./spcup_2022_training_part1.zip\"\n",
        "!rm \"./spcup_2022_unseen.zip\"\n",
        "\n",
        "# create combined label df\n",
        "# combine two label sets\n",
        "df1 = pd.read_csv('./spcup_2022_training/spcup_2022_training_part1/labels.csv')\n",
        "df2 = pd.read_csv('./spcup_2022_unseen/spcup_2022_unseen/labels.csv')\n",
        "df3 = pd.concat([df1, df2]).sample(frac=1)\n",
        "\n",
        "df3.to_csv('./final_labels.csv', index=False)\n",
        "!rm './spcup_2022_unseen/spcup_2022_unseen/labels.csv'\n",
        "\n",
        "# copy .wav files from unseen to all\n",
        "!cp -a \"./spcup_2022_unseen/spcup_2022_unseen/\". \"./spcup_2022_training/spcup_2022_training_part1/\"\n",
        "\n",
        "! wget \"https://www.dropbox.com/s/ftkyvwxgr9wl7jf/spcup_2022_eval_part1.zip?dl=1\" -c -O \"./spcup_2022_eval_part1.zip\"\n",
        "! unzip \"./spcup_2022_eval_part1.zip\" -d \"./spcup_2022_eval_part1/\"\n",
        "!rm \"./spcup_2022_eval_part1.zip\""
      ]
    },
    {
      "cell_type": "markdown",
      "metadata": {
        "id": "gjtTUsXY2YNg"
      },
      "source": [
        "JSON creation"
      ]
    },
    {
      "cell_type": "code",
      "execution_count": 8,
      "metadata": {
        "id": "H4v7_TdC2Kql"
      },
      "outputs": [],
      "source": [
        "DATA_PATH = \"./spcup_2022_training/spcup_2022_training_part1/\"\n",
        "IMAGE_PATH = './images'\n",
        "Labeled_dir = './final_labels.csv'\n",
        "\n",
        "label_df = pd.read_csv(Labeled_dir)\n",
        "label_df['wav_path'] = label_df['track'].map(lambda x: DATA_PATH+'/'+x)\n",
        "\n",
        "spect_type = 'mel'\n",
        "def save_and_record(wav_path):\n",
        "\n",
        "    image_name = wav_path.split('/')[-1].split('.')[0]\n",
        "    image_path = IMAGE_PATH+'/'+image_name+'.png'\n",
        "    return image_path\n",
        "\n",
        "label_df['image_path'] = label_df['wav_path'].map(lambda x: save_and_record(x))\n",
        "label_df['track'] = label_df['track'].map(lambda x: x.split('.')[0])  \n",
        "\n",
        "col_map = {\n",
        "    'track': 'audio_id',\n",
        "    'algorithm': 'labels',\n",
        "    'wav_path': 'wav',\n",
        "    'image_path': 'image'\n",
        "}\n",
        "label_df.rename(col_map, axis=1, inplace=True)\n",
        "\n",
        "train_df, test_df = train_test_split(label_df, test_size=0.15)\n",
        "\n",
        "train_data_dict = {'data': train_df.to_dict('records')}\n",
        "with open(\"./final_train_data.json\", \"w\") as outfile:\n",
        "    json.dump(train_data_dict, outfile)\n",
        "\n",
        "test_data_dict = {'data': test_df.to_dict('records')}\n",
        "with open(\"./final_test_data.json\", \"w\") as outfile:\n",
        "    json.dump(test_data_dict, outfile)\n"
      ]
    },
    {
      "cell_type": "code",
      "source": [
        "test_df = pd.read_csv('./spcup_2022_eval_part1/spcup_2022_eval_part1/labels_eval_part1.csv')\n",
        "test_df['track'] = test_df['track'].apply(lambda x: './spcup_2022_eval_part1/spcup_2022_eval_part1/'+x)\n",
        "# test_df.head()\n"
      ],
      "metadata": {
        "id": "PA3lU7kNZhpH"
      },
      "execution_count": 3,
      "outputs": []
    },
    {
      "cell_type": "markdown",
      "metadata": {
        "id": "14Zwz-Nu3oZY"
      },
      "source": [
        "Model Training"
      ]
    },
    {
      "cell_type": "code",
      "execution_count": 33,
      "metadata": {
        "id": "pROdsWgh3erK"
      },
      "outputs": [],
      "source": [
        "args = argparse.Namespace()\n",
        "\n",
        "args.data_train = './final_train_data.json'\n",
        "args.data_val = './final_test_data.json'\n",
        "args.data_test = test_df\n",
        "args.data_eval = '.json'\n",
        "args.n_class = 6\n",
        "args.model = 'ast'\n",
        "args.dataset = 'speechcommands'\n",
        "args.exp_dir = '.'\n",
        "args.lr = 0.001\n",
        "args.optim = 'adam'\n",
        "args.batch_size = 16\n",
        "args.num_workers =32\n",
        "args.n_epochs = 100\n",
        "args.lr_patience = 2\n",
        "args.n_print_steps = 100\n",
        "args.save_model = None # \n",
        "args.freqm = 0\n",
        "args.timem = 0\n",
        "args.mixup = 0\n",
        "args.bal = False\n",
        "args.fstride = 10\n",
        "args.tstride = 10\n",
        "args.imagenet_pretrain = True\n",
        "args.audioset_pretrain = False\n",
        "args.noise_level = 0.1\n",
        "args.optim_config = {\n",
        "        \"optimizer\": \"adam\", \n",
        "        \"amsgrad\": \"False\",\n",
        "        \"base_lr\": 0.0001,\n",
        "        \"lr_min\": 0.000005,\n",
        "        \"betas\": [0.9, 0.999],\n",
        "        \"weight_decay\": 0.0001,\n",
        "        \"scheduler\": \"cosine\"\n",
        "    }"
      ]
    },
    {
      "cell_type": "code",
      "execution_count": 25,
      "metadata": {
        "id": "Be-sGwMQl9jo"
      },
      "outputs": [],
      "source": [
        "tracker[\"parameters\"] = vars(args)"
      ]
    },
    {
      "cell_type": "code",
      "execution_count": 26,
      "metadata": {
        "id": "7k9PqviZ3uA5"
      },
      "outputs": [],
      "source": [
        "# dataset spectrogram mean and std, used to normalize the input\n",
        "norm_stats = {'audioset':[-4.2677393, 4.5689974], 'esc50':[-6.6268077, 5.358466], 'speechcommands':[-6.845978, 5.5654526]}\n",
        "target_length = {'audioset':1024, 'esc50':512, 'speechcommands':128}\n",
        "# if add noise for data augmentation, only use for speech commands\n",
        "noise = {'audioset': False, 'esc50': False, 'speechcommands':True}\n",
        "\n",
        "audio_conf = {'num_mel_bins': 128, 'target_length': target_length[args.dataset], 'freqm': args.freqm, 'timem': args.timem, 'mixup': args.mixup, 'dataset': args.dataset, 'mode':'train', 'mean':norm_stats[args.dataset][0], 'std':norm_stats[args.dataset][1],\n",
        "                'noise':noise[args.dataset], 'noise_level': args.noise_level}\n",
        "val_audio_conf = {'num_mel_bins': 128, 'target_length': target_length[args.dataset], 'freqm': 0, 'timem': 0, 'mixup': 0, 'dataset': args.dataset, 'mode':'evaluation', 'mean':norm_stats[args.dataset][0], 'std':norm_stats[args.dataset][1], 'noise':False}\n"
      ]
    },
    {
      "cell_type": "code",
      "execution_count": 27,
      "metadata": {
        "colab": {
          "base_uri": "https://localhost:8080/"
        },
        "id": "ddAFPJna3wID",
        "outputId": "e23f4115-3208-4fdb-f769-e4b557f98315"
      },
      "outputs": [
        {
          "output_type": "stream",
          "name": "stdout",
          "text": [
            "---------------the train dataloader---------------\n",
            "now using following mask: 0 freq, 0 time\n",
            "now using mix-up with rate 0.000000\n",
            "now process speechcommands\n",
            "use dataset mean -6.846 and std 5.565 to normalize the input.\n",
            "now use noise augmentation\n",
            "number of classes is 6\n",
            "---------------the evaluation dataloader---------------\n",
            "now using following mask: 0 freq, 0 time\n",
            "now using mix-up with rate 0.000000\n",
            "now process speechcommands\n",
            "use dataset mean -6.846 and std 5.565 to normalize the input.\n",
            "number of classes is 6\n",
            "---------------the evaluation dataloader---------------\n",
            "now using following mask: 0 freq, 0 time\n",
            "now using mix-up with rate 0.000000\n",
            "now process speechcommands\n",
            "use dataset mean -6.846 and std 5.565 to normalize the input.\n",
            "number of classes is 6\n"
          ]
        }
      ],
      "source": [
        "train_loader = torch.utils.data.DataLoader(\n",
        "    dataloaderV1.AudiosetDataset(args.data_train, audio_conf=audio_conf),\n",
        "    batch_size=args.batch_size, shuffle=True, prefetch_factor=8, num_workers=1)\n",
        "\n",
        "val_loader = torch.utils.data.DataLoader(\n",
        "    dataloaderV1.AudiosetDataset(args.data_val, audio_conf=val_audio_conf),\n",
        "    batch_size=args.batch_size*2, shuffle=True, prefetch_factor=16, num_workers=1)\n",
        "\n",
        "test_loader = torch.utils.data.DataLoader(\n",
        "    dataloaderV1.AudioTestDataset(args.data_test, audio_conf=val_audio_conf),\n",
        "    batch_size=args.batch_size*2, shuffle=False, num_workers=args.num_workers, pin_memory=False\n",
        ")"
      ]
    },
    {
      "cell_type": "code",
      "execution_count": 28,
      "metadata": {
        "colab": {
          "base_uri": "https://localhost:8080/"
        },
        "id": "CUJ1c7-n3zAK",
        "outputId": "ed1a10d5-1dda-4106-9fd9-8781ee24e912"
      },
      "outputs": [
        {
          "output_type": "stream",
          "name": "stdout",
          "text": [
            "---------------AST Model Summary---------------\n",
            "ImageNet pretraining: True, AudioSet pretraining: False\n",
            "frequncey stride=10, time stride=10\n",
            "number of patches=144\n"
          ]
        }
      ],
      "source": [
        "audio_model = ASTModel(label_dim=args.n_class, fstride=args.fstride, tstride=args.tstride, input_fdim=128,\n",
        "                                input_tdim=target_length[args.dataset], imagenet_pretrain=args.imagenet_pretrain,\n",
        "                                audioset_pretrain=args.audioset_pretrain, model_size='base384')\n"
      ]
    },
    {
      "cell_type": "code",
      "source": [
        "def train_epoch(\n",
        "    trn_loader: DataLoader,\n",
        "    model,\n",
        "    optim: Union[torch.optim.SGD, torch.optim.Adam],\n",
        "    device: torch.device,\n",
        "    scheduler: torch.optim.lr_scheduler,\n",
        "    config: argparse.Namespace):\n",
        "    \"\"\"Train the model for one epoch\"\"\"\n",
        "    \n",
        "    running_loss = 0\n",
        "    num_total = 0.0\n",
        "    train_acc, correct_train, target_count = 0, 0, 0\n",
        "    ii = 0\n",
        "    model.train()\n",
        "    scaler = GradScaler()\n",
        "\n",
        "    # set objective (Loss) functions\n",
        "    weight = torch.FloatTensor([0.1, 0.9]).to(device)\n",
        "    # criterion = nn.CrossEntropyLoss(weight=weight)\n",
        "    criterion = nn.CrossEntropyLoss()\n",
        "    for batch_x, batch_y in trn_loader:\n",
        "        batch_size = batch_x.size(0)\n",
        "        num_total += batch_size\n",
        "        ii += 1\n",
        "        batch_x = batch_x.to(device)\n",
        "        # batch_y = batch_y.view(-1).type(torch.long).to(device)\n",
        "        batch_y = batch_y.view(-1).type(torch.LongTensor).to(device)\n",
        "        with autocast():\n",
        "            batch_out = model(batch_x)#, Freq_aug=str_to_bool(config[\"freq_aug\"]))\n",
        "            batch_loss = criterion(batch_out, batch_y)\n",
        "        running_loss += batch_loss.item() * batch_size\n",
        "        optim.zero_grad()\n",
        "        scaler.scale(batch_loss).backward()\n",
        "        # batch_loss.backward()\n",
        "        scaler.step(optim)\n",
        "        scaler.update()\n",
        "        # optim.step()\n",
        "\n",
        "        if config.optim_config[\"scheduler\"] in [\"cosine\", \"keras_decay\"]:\n",
        "            scheduler.step()\n",
        "        elif scheduler is None:\n",
        "            pass\n",
        "        else:\n",
        "            raise ValueError(\"scheduler error, got:{}\".format(scheduler))\n",
        "        \n",
        "        # accuracy\n",
        "        _, predicted = torch.max(batch_out.data, 1)\n",
        "        target_count += batch_y.size(0)\n",
        "        correct_train += (batch_y == predicted).sum().item()\n",
        "        train_acc = (100 * correct_train) / target_count\n",
        "\n",
        "    running_loss /= num_total\n",
        "    return running_loss, train_acc"
      ],
      "metadata": {
        "id": "HydWVzJRdNSu"
      },
      "execution_count": 29,
      "outputs": []
    },
    {
      "cell_type": "code",
      "source": [
        "def eval_epoch(\n",
        "    trn_loader: DataLoader,\n",
        "    model,\n",
        "    device: torch.device,\n",
        "    config: argparse.Namespace):\n",
        "    \"\"\"Train the model for one epoch\"\"\"\n",
        "    running_loss = 0\n",
        "    num_total = 0.0\n",
        "    val_acc, correct_train, target_count = 0, 0, 0\n",
        "    ii = 0\n",
        "    model.eval()\n",
        "\n",
        "    # set objective (Loss) functions\n",
        "    weight = torch.FloatTensor([0.1, 0.9]).to(device)\n",
        "    # criterion = nn.CrossEntropyLoss(weight=weight)\n",
        "    criterion = nn.CrossEntropyLoss()\n",
        "    for batch_x, batch_y in trn_loader:\n",
        "        batch_size = batch_x.size(0)\n",
        "        num_total += batch_size\n",
        "        ii += 1\n",
        "        batch_x = batch_x.to(device)\n",
        "        # batch_y = batch_y.view(-1).type(torch.lo).to(device)\n",
        "        batch_y = batch_y.view(-1).type(torch.LongTensor).to(device)\n",
        "        with autocast():\n",
        "            batch_out = model(batch_x) #model(batch_x, Freq_aug=str_to_bool(config[\"freq_aug\"]))\n",
        "            batch_loss = criterion(batch_out, batch_y)\n",
        "        running_loss += batch_loss.item() * batch_size\n",
        "        \n",
        "        # accuracy\n",
        "        _, predicted = torch.max(batch_out.data, 1)\n",
        "        target_count += batch_y.size(0)\n",
        "        correct_train += (batch_y == predicted).sum().item()\n",
        "        val_acc = (100 * correct_train) / target_count\n",
        "        \n",
        "    running_loss /= num_total\n",
        "    return running_loss, val_acc"
      ],
      "metadata": {
        "id": "GhSKvFQ_dN-J"
      },
      "execution_count": 30,
      "outputs": []
    },
    {
      "cell_type": "code",
      "source": [
        "\n",
        "class SGDRScheduler(torch.optim.lr_scheduler._LRScheduler):\n",
        "    \"\"\"SGD with restarts scheduler\"\"\"\n",
        "    def __init__(self, optimizer, T0, T_mul, eta_min, last_epoch=-1):\n",
        "        self.Ti = T0\n",
        "        self.T_mul = T_mul\n",
        "        self.eta_min = eta_min\n",
        "\n",
        "        self.last_restart = 0\n",
        "\n",
        "        super().__init__(optimizer, last_epoch)\n",
        "\n",
        "    def get_lr(self):\n",
        "        T_cur = self.last_epoch - self.last_restart\n",
        "        if T_cur >= self.Ti:\n",
        "            self.last_restart = self.last_epoch\n",
        "            self.Ti = self.Ti * self.T_mul\n",
        "            T_cur = 0\n",
        "\n",
        "        return [\n",
        "            self.eta_min + (base_lr - self.eta_min) *\n",
        "            (1 + np.cos(np.pi * T_cur / self.Ti)) / 2\n",
        "            for base_lr in self.base_lrs\n",
        "        ]\n",
        "\n",
        "def _get_optimizer(model_parameters, optim_config):\n",
        "    \"\"\"Defines optimizer according to the given config\"\"\"\n",
        "    optimizer_name = optim_config['optimizer']\n",
        "\n",
        "    if optimizer_name == 'sgd':\n",
        "        optimizer = torch.optim.SGD(model_parameters,\n",
        "                                    lr=optim_config['base_lr'],\n",
        "                                    momentum=optim_config['momentum'],\n",
        "                                    weight_decay=optim_config['weight_decay'],\n",
        "                                    nesterov=optim_config['nesterov'])\n",
        "    elif optimizer_name == 'adam':\n",
        "        optimizer = torch.optim.Adam(model_parameters,\n",
        "                                     lr=optim_config['base_lr'],\n",
        "                                     betas=optim_config['betas'],\n",
        "                                     weight_decay=optim_config['weight_decay'],\n",
        "                                     amsgrad=str_to_bool(\n",
        "                                         optim_config['amsgrad']))\n",
        "    else:\n",
        "        print('Un-known optimizer', optimizer_name)\n",
        "        sys.exit()\n",
        "\n",
        "    return optimizer\n",
        "\n",
        "def str_to_bool(val):\n",
        "    \"\"\"Convert a string representation of truth to true (1) or false (0).\n",
        "    Copied from the python implementation distutils.utils.strtobool\n",
        "\n",
        "    True values are 'y', 'yes', 't', 'true', 'on', and '1'; false values\n",
        "    are 'n', 'no', 'f', 'false', 'off', and '0'.  Raises ValueError if\n",
        "    'val' is anything else.\n",
        "    >>> str_to_bool('YES')\n",
        "    1\n",
        "    >>> str_to_bool('FALSE')\n",
        "    0\n",
        "    \"\"\"\n",
        "    val = val.lower()\n",
        "    if val in ('y', 'yes', 't', 'true', 'on', '1'):\n",
        "        return True\n",
        "    if val in ('n', 'no', 'f', 'false', 'off', '0'):\n",
        "        return False\n",
        "    raise ValueError('invalid truth value {}'.format(val))\n",
        "\n",
        "def cosine_annealing(step, total_steps, lr_max, lr_min):\n",
        "    \"\"\"Cosine Annealing for learning rate decay scheduler\"\"\"\n",
        "    return lr_min + (lr_max -\n",
        "                     lr_min) * 0.5 * (1 + np.cos(step / total_steps * np.pi))\n",
        "\n",
        "\n",
        "def keras_decay(step, decay=0.0001):\n",
        "    \"\"\"Learning rate decay in Keras-style\"\"\"\n",
        "    return 1. / (1. + decay * step)\n",
        "\n",
        "def _get_scheduler(optimizer, optim_config):\n",
        "    \"\"\"\n",
        "    Defines learning rate scheduler according to the given config\n",
        "    \"\"\"\n",
        "    if optim_config['scheduler'] == 'multistep':\n",
        "        scheduler = torch.optim.lr_scheduler.MultiStepLR(\n",
        "            optimizer,\n",
        "            milestones=optim_config['milestones'],\n",
        "            gamma=optim_config['lr_decay'])\n",
        "\n",
        "    elif optim_config['scheduler'] == 'sgdr':\n",
        "        scheduler = SGDRScheduler(optimizer, optim_config['T0'],\n",
        "                                  optim_config['Tmult'],\n",
        "                                  optim_config['lr_min'])\n",
        "\n",
        "    elif optim_config['scheduler'] == 'cosine':\n",
        "        total_steps = optim_config['epochs'] * \\\n",
        "            optim_config['steps_per_epoch']\n",
        "\n",
        "        scheduler = torch.optim.lr_scheduler.LambdaLR(\n",
        "            optimizer,\n",
        "            lr_lambda=lambda step: cosine_annealing(\n",
        "                step,\n",
        "                total_steps,\n",
        "                1,  # since lr_lambda computes multiplicative factor\n",
        "                optim_config['lr_min'] / optim_config['base_lr']))\n",
        "\n",
        "    elif optim_config['scheduler'] == 'keras_decay':\n",
        "        scheduler = torch.optim.lr_scheduler.LambdaLR(\n",
        "            optimizer, lr_lambda=lambda step: keras_decay(step))\n",
        "    else:\n",
        "        scheduler = None\n",
        "    return scheduler\n",
        "\n",
        "def create_optimizer(model_parameters, optim_config):\n",
        "    \"\"\"Defines an optimizer and a scheduler\"\"\"\n",
        "    optimizer = _get_optimizer(model_parameters, optim_config)\n",
        "    scheduler = _get_scheduler(optimizer, optim_config)\n",
        "    return optimizer, scheduler"
      ],
      "metadata": {
        "id": "iaulH1IBdQlV"
      },
      "execution_count": 31,
      "outputs": []
    },
    {
      "cell_type": "code",
      "source": [
        "# def main(args):\n",
        "\n",
        "# define database related paths\n",
        "# output_dir = Path(args.output_dir)\n",
        "# database_path = Path(config[\"database_path\"])\n",
        "# label_path = Path(config['label_path'])\n",
        "\n",
        "# set device\n",
        "device = \"cuda\" if torch.cuda.is_available() else \"cpu\"\n",
        "print(\"Device: {}\".format(device))\n",
        "# if device == \"cpu\":\n",
        "#     raise ValueError(\"GPU not detected!\")\n",
        "\n",
        "# define model architecture\n",
        "# model_config = args.config[\"model_config\"]\n",
        "model = ASTModel(label_dim=args.n_class, fstride=args.fstride, tstride=args.tstride, input_fdim=128,\n",
        "                                input_tdim=target_length[args.dataset], imagenet_pretrain=args.imagenet_pretrain,\n",
        "                                audioset_pretrain=args.audioset_pretrain, model_size='base384')\n",
        "model = model.to(device)\n",
        "\n",
        "# define dataloaders\n",
        "# trn_loader, eval_loader = get_loader(database_path, label_path, config)\n",
        "\n",
        "# get optimizer and scheduler\n",
        "optim_config = args.optim_config\n",
        "optim_config[\"epochs\"] = args.n_epochs\n",
        "optim_config[\"steps_per_epoch\"] = len(train_loader)\n",
        "optimizer, scheduler = create_optimizer(model.parameters(), optim_config)\n",
        "optimizer_swa = SWA(optimizer)\n",
        "\n",
        "# Training\n",
        "best_acc = 0.0\n",
        "for epoch in range(args.n_epochs):\n",
        "    print(\"Start training epoch{:03d}\".format(epoch))\n",
        "    training_loss, training_acc = train_epoch(train_loader, model, optimizer, device, scheduler, args)\n",
        "    eval_loss, eval_acc = eval_epoch(val_loader, model, device, args)\n",
        "    tracker['train/loss'].log(training_loss)\n",
        "    tracker['train/acc'].log(training_acc)\n",
        "    tracker['eval/loss'].log(eval_loss)\n",
        "    tracker['eval/acc'].log(eval_acc)\n",
        "    print(f'[{epoch}] Training Loss : {training_loss} / Training Accuracy : {training_acc} | Eval Loss : {eval_loss} / Eval Accuracy : {eval_acc}')\n",
        "\n",
        "    if eval_acc > best_acc: \n",
        "            torch.save(model.state_dict(), \"./best_audio_model.pth\")\n",
        "\n",
        "# conf_metrics = confusion_matrix(pred, y)\n",
        "\n",
        "# return best_model, conf_metrics"
      ],
      "metadata": {
        "colab": {
          "base_uri": "https://localhost:8080/"
        },
        "id": "I9XJ6y3CdTFG",
        "outputId": "8e1e01a2-2aad-476d-d151-4cfef248971f"
      },
      "execution_count": null,
      "outputs": [
        {
          "output_type": "stream",
          "name": "stdout",
          "text": [
            "Device: cuda\n",
            "---------------AST Model Summary---------------\n",
            "ImageNet pretraining: True, AudioSet pretraining: False\n",
            "frequncey stride=10, time stride=10\n",
            "number of patches=144\n",
            "Start training epoch000\n"
          ]
        }
      ]
    },
    {
      "cell_type": "markdown",
      "source": [
        "Make Test set prediction Using Trained Model"
      ],
      "metadata": {
        "id": "NNrUqzq2Wjab"
      }
    },
    {
      "cell_type": "code",
      "source": [
        "# SETTING UP CODE TO RUN ON GPU\n",
        "gpu_id = 0\n",
        "device = torch.device(f'cuda:{gpu_id}' if torch.cuda.is_available() else 'cpu')"
      ],
      "metadata": {
        "id": "DP4FgOnWWo1A"
      },
      "execution_count": null,
      "outputs": []
    },
    {
      "cell_type": "code",
      "source": [
        "test_loader = torch.utils.data.DataLoader(\n",
        "    dataloaderV1.AudioTestDataset(args.data_test, audio_conf=val_audio_conf),\n",
        "    batch_size=args.batch_size*2, shuffle=False, num_workers=args.num_workers, pin_memory=False\n",
        ")"
      ],
      "metadata": {
        "colab": {
          "base_uri": "https://localhost:8080/"
        },
        "id": "VFqkzejJzsuL",
        "outputId": "984db54c-755c-4a5e-ce6a-76bc86513f58"
      },
      "execution_count": null,
      "outputs": [
        {
          "output_type": "stream",
          "name": "stdout",
          "text": [
            "---------------the evaluation dataloader---------------\n",
            "now using following mask: 0 freq, 0 time\n",
            "now using mix-up with rate 0.000000\n",
            "now process speechcommands\n",
            "use dataset mean -6.846 and std 5.565 to normalize the input.\n",
            "number of classes is 6\n"
          ]
        }
      ]
    },
    {
      "cell_type": "code",
      "source": [
        "# load best model\n",
        "best_path = '/content/models/best_audio_model.pth'\n",
        "pred_model = ASTModel(label_dim=args.n_class, fstride=args.fstride, tstride=args.tstride, input_fdim=128,\n",
        "                                input_tdim=target_length[args.dataset], imagenet_pretrain=args.imagenet_pretrain,\n",
        "                                audioset_pretrain=args.audioset_pretrain, model_size='base384')\n",
        "pred_model.load_state_dict(torch.load(best_path), strict=False)\n",
        "pred_model = pred_model.to(device)\n",
        "pred_model.eval()"
      ],
      "metadata": {
        "colab": {
          "base_uri": "https://localhost:8080/"
        },
        "id": "uDJIF9AsWH-6",
        "outputId": "8776ae15-ac9b-4086-9a3f-8ccd0c44c003"
      },
      "execution_count": null,
      "outputs": [
        {
          "output_type": "stream",
          "name": "stdout",
          "text": [
            "---------------AST Model Summary---------------\n",
            "ImageNet pretraining: True, AudioSet pretraining: True\n",
            "frequncey stride=10, time stride=10\n",
            "number of patches=144\n"
          ]
        },
        {
          "output_type": "execute_result",
          "data": {
            "text/plain": [
              "ASTModel(\n",
              "  (v): DistilledVisionTransformer(\n",
              "    (patch_embed): PatchEmbed(\n",
              "      (proj): Conv2d(1, 768, kernel_size=(16, 16), stride=(10, 10))\n",
              "    )\n",
              "    (pos_drop): Dropout(p=0.0, inplace=False)\n",
              "    (blocks): ModuleList(\n",
              "      (0): Block(\n",
              "        (norm1): LayerNorm((768,), eps=1e-06, elementwise_affine=True)\n",
              "        (attn): Attention(\n",
              "          (qkv): Linear(in_features=768, out_features=2304, bias=True)\n",
              "          (attn_drop): Dropout(p=0.0, inplace=False)\n",
              "          (proj): Linear(in_features=768, out_features=768, bias=True)\n",
              "          (proj_drop): Dropout(p=0.0, inplace=False)\n",
              "        )\n",
              "        (drop_path): Identity()\n",
              "        (norm2): LayerNorm((768,), eps=1e-06, elementwise_affine=True)\n",
              "        (mlp): Mlp(\n",
              "          (fc1): Linear(in_features=768, out_features=3072, bias=True)\n",
              "          (act): GELU()\n",
              "          (fc2): Linear(in_features=3072, out_features=768, bias=True)\n",
              "          (drop): Dropout(p=0.0, inplace=False)\n",
              "        )\n",
              "      )\n",
              "      (1): Block(\n",
              "        (norm1): LayerNorm((768,), eps=1e-06, elementwise_affine=True)\n",
              "        (attn): Attention(\n",
              "          (qkv): Linear(in_features=768, out_features=2304, bias=True)\n",
              "          (attn_drop): Dropout(p=0.0, inplace=False)\n",
              "          (proj): Linear(in_features=768, out_features=768, bias=True)\n",
              "          (proj_drop): Dropout(p=0.0, inplace=False)\n",
              "        )\n",
              "        (drop_path): Identity()\n",
              "        (norm2): LayerNorm((768,), eps=1e-06, elementwise_affine=True)\n",
              "        (mlp): Mlp(\n",
              "          (fc1): Linear(in_features=768, out_features=3072, bias=True)\n",
              "          (act): GELU()\n",
              "          (fc2): Linear(in_features=3072, out_features=768, bias=True)\n",
              "          (drop): Dropout(p=0.0, inplace=False)\n",
              "        )\n",
              "      )\n",
              "      (2): Block(\n",
              "        (norm1): LayerNorm((768,), eps=1e-06, elementwise_affine=True)\n",
              "        (attn): Attention(\n",
              "          (qkv): Linear(in_features=768, out_features=2304, bias=True)\n",
              "          (attn_drop): Dropout(p=0.0, inplace=False)\n",
              "          (proj): Linear(in_features=768, out_features=768, bias=True)\n",
              "          (proj_drop): Dropout(p=0.0, inplace=False)\n",
              "        )\n",
              "        (drop_path): Identity()\n",
              "        (norm2): LayerNorm((768,), eps=1e-06, elementwise_affine=True)\n",
              "        (mlp): Mlp(\n",
              "          (fc1): Linear(in_features=768, out_features=3072, bias=True)\n",
              "          (act): GELU()\n",
              "          (fc2): Linear(in_features=3072, out_features=768, bias=True)\n",
              "          (drop): Dropout(p=0.0, inplace=False)\n",
              "        )\n",
              "      )\n",
              "      (3): Block(\n",
              "        (norm1): LayerNorm((768,), eps=1e-06, elementwise_affine=True)\n",
              "        (attn): Attention(\n",
              "          (qkv): Linear(in_features=768, out_features=2304, bias=True)\n",
              "          (attn_drop): Dropout(p=0.0, inplace=False)\n",
              "          (proj): Linear(in_features=768, out_features=768, bias=True)\n",
              "          (proj_drop): Dropout(p=0.0, inplace=False)\n",
              "        )\n",
              "        (drop_path): Identity()\n",
              "        (norm2): LayerNorm((768,), eps=1e-06, elementwise_affine=True)\n",
              "        (mlp): Mlp(\n",
              "          (fc1): Linear(in_features=768, out_features=3072, bias=True)\n",
              "          (act): GELU()\n",
              "          (fc2): Linear(in_features=3072, out_features=768, bias=True)\n",
              "          (drop): Dropout(p=0.0, inplace=False)\n",
              "        )\n",
              "      )\n",
              "      (4): Block(\n",
              "        (norm1): LayerNorm((768,), eps=1e-06, elementwise_affine=True)\n",
              "        (attn): Attention(\n",
              "          (qkv): Linear(in_features=768, out_features=2304, bias=True)\n",
              "          (attn_drop): Dropout(p=0.0, inplace=False)\n",
              "          (proj): Linear(in_features=768, out_features=768, bias=True)\n",
              "          (proj_drop): Dropout(p=0.0, inplace=False)\n",
              "        )\n",
              "        (drop_path): Identity()\n",
              "        (norm2): LayerNorm((768,), eps=1e-06, elementwise_affine=True)\n",
              "        (mlp): Mlp(\n",
              "          (fc1): Linear(in_features=768, out_features=3072, bias=True)\n",
              "          (act): GELU()\n",
              "          (fc2): Linear(in_features=3072, out_features=768, bias=True)\n",
              "          (drop): Dropout(p=0.0, inplace=False)\n",
              "        )\n",
              "      )\n",
              "      (5): Block(\n",
              "        (norm1): LayerNorm((768,), eps=1e-06, elementwise_affine=True)\n",
              "        (attn): Attention(\n",
              "          (qkv): Linear(in_features=768, out_features=2304, bias=True)\n",
              "          (attn_drop): Dropout(p=0.0, inplace=False)\n",
              "          (proj): Linear(in_features=768, out_features=768, bias=True)\n",
              "          (proj_drop): Dropout(p=0.0, inplace=False)\n",
              "        )\n",
              "        (drop_path): Identity()\n",
              "        (norm2): LayerNorm((768,), eps=1e-06, elementwise_affine=True)\n",
              "        (mlp): Mlp(\n",
              "          (fc1): Linear(in_features=768, out_features=3072, bias=True)\n",
              "          (act): GELU()\n",
              "          (fc2): Linear(in_features=3072, out_features=768, bias=True)\n",
              "          (drop): Dropout(p=0.0, inplace=False)\n",
              "        )\n",
              "      )\n",
              "      (6): Block(\n",
              "        (norm1): LayerNorm((768,), eps=1e-06, elementwise_affine=True)\n",
              "        (attn): Attention(\n",
              "          (qkv): Linear(in_features=768, out_features=2304, bias=True)\n",
              "          (attn_drop): Dropout(p=0.0, inplace=False)\n",
              "          (proj): Linear(in_features=768, out_features=768, bias=True)\n",
              "          (proj_drop): Dropout(p=0.0, inplace=False)\n",
              "        )\n",
              "        (drop_path): Identity()\n",
              "        (norm2): LayerNorm((768,), eps=1e-06, elementwise_affine=True)\n",
              "        (mlp): Mlp(\n",
              "          (fc1): Linear(in_features=768, out_features=3072, bias=True)\n",
              "          (act): GELU()\n",
              "          (fc2): Linear(in_features=3072, out_features=768, bias=True)\n",
              "          (drop): Dropout(p=0.0, inplace=False)\n",
              "        )\n",
              "      )\n",
              "      (7): Block(\n",
              "        (norm1): LayerNorm((768,), eps=1e-06, elementwise_affine=True)\n",
              "        (attn): Attention(\n",
              "          (qkv): Linear(in_features=768, out_features=2304, bias=True)\n",
              "          (attn_drop): Dropout(p=0.0, inplace=False)\n",
              "          (proj): Linear(in_features=768, out_features=768, bias=True)\n",
              "          (proj_drop): Dropout(p=0.0, inplace=False)\n",
              "        )\n",
              "        (drop_path): Identity()\n",
              "        (norm2): LayerNorm((768,), eps=1e-06, elementwise_affine=True)\n",
              "        (mlp): Mlp(\n",
              "          (fc1): Linear(in_features=768, out_features=3072, bias=True)\n",
              "          (act): GELU()\n",
              "          (fc2): Linear(in_features=3072, out_features=768, bias=True)\n",
              "          (drop): Dropout(p=0.0, inplace=False)\n",
              "        )\n",
              "      )\n",
              "      (8): Block(\n",
              "        (norm1): LayerNorm((768,), eps=1e-06, elementwise_affine=True)\n",
              "        (attn): Attention(\n",
              "          (qkv): Linear(in_features=768, out_features=2304, bias=True)\n",
              "          (attn_drop): Dropout(p=0.0, inplace=False)\n",
              "          (proj): Linear(in_features=768, out_features=768, bias=True)\n",
              "          (proj_drop): Dropout(p=0.0, inplace=False)\n",
              "        )\n",
              "        (drop_path): Identity()\n",
              "        (norm2): LayerNorm((768,), eps=1e-06, elementwise_affine=True)\n",
              "        (mlp): Mlp(\n",
              "          (fc1): Linear(in_features=768, out_features=3072, bias=True)\n",
              "          (act): GELU()\n",
              "          (fc2): Linear(in_features=3072, out_features=768, bias=True)\n",
              "          (drop): Dropout(p=0.0, inplace=False)\n",
              "        )\n",
              "      )\n",
              "      (9): Block(\n",
              "        (norm1): LayerNorm((768,), eps=1e-06, elementwise_affine=True)\n",
              "        (attn): Attention(\n",
              "          (qkv): Linear(in_features=768, out_features=2304, bias=True)\n",
              "          (attn_drop): Dropout(p=0.0, inplace=False)\n",
              "          (proj): Linear(in_features=768, out_features=768, bias=True)\n",
              "          (proj_drop): Dropout(p=0.0, inplace=False)\n",
              "        )\n",
              "        (drop_path): Identity()\n",
              "        (norm2): LayerNorm((768,), eps=1e-06, elementwise_affine=True)\n",
              "        (mlp): Mlp(\n",
              "          (fc1): Linear(in_features=768, out_features=3072, bias=True)\n",
              "          (act): GELU()\n",
              "          (fc2): Linear(in_features=3072, out_features=768, bias=True)\n",
              "          (drop): Dropout(p=0.0, inplace=False)\n",
              "        )\n",
              "      )\n",
              "      (10): Block(\n",
              "        (norm1): LayerNorm((768,), eps=1e-06, elementwise_affine=True)\n",
              "        (attn): Attention(\n",
              "          (qkv): Linear(in_features=768, out_features=2304, bias=True)\n",
              "          (attn_drop): Dropout(p=0.0, inplace=False)\n",
              "          (proj): Linear(in_features=768, out_features=768, bias=True)\n",
              "          (proj_drop): Dropout(p=0.0, inplace=False)\n",
              "        )\n",
              "        (drop_path): Identity()\n",
              "        (norm2): LayerNorm((768,), eps=1e-06, elementwise_affine=True)\n",
              "        (mlp): Mlp(\n",
              "          (fc1): Linear(in_features=768, out_features=3072, bias=True)\n",
              "          (act): GELU()\n",
              "          (fc2): Linear(in_features=3072, out_features=768, bias=True)\n",
              "          (drop): Dropout(p=0.0, inplace=False)\n",
              "        )\n",
              "      )\n",
              "      (11): Block(\n",
              "        (norm1): LayerNorm((768,), eps=1e-06, elementwise_affine=True)\n",
              "        (attn): Attention(\n",
              "          (qkv): Linear(in_features=768, out_features=2304, bias=True)\n",
              "          (attn_drop): Dropout(p=0.0, inplace=False)\n",
              "          (proj): Linear(in_features=768, out_features=768, bias=True)\n",
              "          (proj_drop): Dropout(p=0.0, inplace=False)\n",
              "        )\n",
              "        (drop_path): Identity()\n",
              "        (norm2): LayerNorm((768,), eps=1e-06, elementwise_affine=True)\n",
              "        (mlp): Mlp(\n",
              "          (fc1): Linear(in_features=768, out_features=3072, bias=True)\n",
              "          (act): GELU()\n",
              "          (fc2): Linear(in_features=3072, out_features=768, bias=True)\n",
              "          (drop): Dropout(p=0.0, inplace=False)\n",
              "        )\n",
              "      )\n",
              "    )\n",
              "    (norm): LayerNorm((768,), eps=1e-06, elementwise_affine=True)\n",
              "    (pre_logits): Identity()\n",
              "    (head): Linear(in_features=768, out_features=1000, bias=True)\n",
              "    (head_dist): Linear(in_features=768, out_features=1000, bias=True)\n",
              "  )\n",
              "  (mlp_head): Sequential(\n",
              "    (0): LayerNorm((768,), eps=1e-05, elementwise_affine=True)\n",
              "    (1): Linear(in_features=768, out_features=6, bias=True)\n",
              "  )\n",
              ")"
            ]
          },
          "metadata": {},
          "execution_count": 16
        }
      ]
    },
    {
      "cell_type": "code",
      "source": [
        "pred_arr = []\n",
        "for data in test_loader:\n",
        "    data = data.to(device)\n",
        "    with torch.no_grad():\n",
        "        bt_preds = pred_model(data)\n",
        "    pred_arr.extend(list(bt_preds.cpu().numpy()))"
      ],
      "metadata": {
        "id": "oYtbdM1SWH0Y"
      },
      "execution_count": null,
      "outputs": []
    },
    {
      "cell_type": "code",
      "source": [
        "pred_np = np.array(pred_arr)\n",
        "pred_labels = np.argmax(pred_np, axis=1)\n",
        "\n",
        "_df = pd.read_csv('./spcup_2022_eval_part1/spcup_2022_eval_part1/labels_eval_part1.csv')\n",
        "pred_df = pd.DataFrame({'track': _df['track'].values, 'label': pred_labels})\n",
        "pred_df.to_csv('./result.csv')\n",
        "\n",
        "pred_df.head()"
      ],
      "metadata": {
        "colab": {
          "base_uri": "https://localhost:8080/",
          "height": 206
        },
        "id": "G0Mny-xmXDXE",
        "outputId": "ea8a5827-fd6b-4384-d6d8-49f5013e7910"
      },
      "execution_count": null,
      "outputs": [
        {
          "output_type": "execute_result",
          "data": {
            "text/html": [
              "\n",
              "  <div id=\"df-78062bac-62bf-489d-93ec-67e178e2b9f4\">\n",
              "    <div class=\"colab-df-container\">\n",
              "      <div>\n",
              "<style scoped>\n",
              "    .dataframe tbody tr th:only-of-type {\n",
              "        vertical-align: middle;\n",
              "    }\n",
              "\n",
              "    .dataframe tbody tr th {\n",
              "        vertical-align: top;\n",
              "    }\n",
              "\n",
              "    .dataframe thead th {\n",
              "        text-align: right;\n",
              "    }\n",
              "</style>\n",
              "<table border=\"1\" class=\"dataframe\">\n",
              "  <thead>\n",
              "    <tr style=\"text-align: right;\">\n",
              "      <th></th>\n",
              "      <th>track</th>\n",
              "      <th>label</th>\n",
              "    </tr>\n",
              "  </thead>\n",
              "  <tbody>\n",
              "    <tr>\n",
              "      <th>0</th>\n",
              "      <td>f14498230d583796987a2e9576695384.wav</td>\n",
              "      <td>1</td>\n",
              "    </tr>\n",
              "    <tr>\n",
              "      <th>1</th>\n",
              "      <td>2eb02f5f517ad346de780b22535824c0.wav</td>\n",
              "      <td>1</td>\n",
              "    </tr>\n",
              "    <tr>\n",
              "      <th>2</th>\n",
              "      <td>d14d2f68081e6969b65e30bdb9d67144.wav</td>\n",
              "      <td>1</td>\n",
              "    </tr>\n",
              "    <tr>\n",
              "      <th>3</th>\n",
              "      <td>40b86c3ca31ddb5ea16639e1229b8a7c.wav</td>\n",
              "      <td>0</td>\n",
              "    </tr>\n",
              "    <tr>\n",
              "      <th>4</th>\n",
              "      <td>193eb4a1f4028c84d26e36ef74593fa4.wav</td>\n",
              "      <td>0</td>\n",
              "    </tr>\n",
              "  </tbody>\n",
              "</table>\n",
              "</div>\n",
              "      <button class=\"colab-df-convert\" onclick=\"convertToInteractive('df-78062bac-62bf-489d-93ec-67e178e2b9f4')\"\n",
              "              title=\"Convert this dataframe to an interactive table.\"\n",
              "              style=\"display:none;\">\n",
              "        \n",
              "  <svg xmlns=\"http://www.w3.org/2000/svg\" height=\"24px\"viewBox=\"0 0 24 24\"\n",
              "       width=\"24px\">\n",
              "    <path d=\"M0 0h24v24H0V0z\" fill=\"none\"/>\n",
              "    <path d=\"M18.56 5.44l.94 2.06.94-2.06 2.06-.94-2.06-.94-.94-2.06-.94 2.06-2.06.94zm-11 1L8.5 8.5l.94-2.06 2.06-.94-2.06-.94L8.5 2.5l-.94 2.06-2.06.94zm10 10l.94 2.06.94-2.06 2.06-.94-2.06-.94-.94-2.06-.94 2.06-2.06.94z\"/><path d=\"M17.41 7.96l-1.37-1.37c-.4-.4-.92-.59-1.43-.59-.52 0-1.04.2-1.43.59L10.3 9.45l-7.72 7.72c-.78.78-.78 2.05 0 2.83L4 21.41c.39.39.9.59 1.41.59.51 0 1.02-.2 1.41-.59l7.78-7.78 2.81-2.81c.8-.78.8-2.07 0-2.86zM5.41 20L4 18.59l7.72-7.72 1.47 1.35L5.41 20z\"/>\n",
              "  </svg>\n",
              "      </button>\n",
              "      \n",
              "  <style>\n",
              "    .colab-df-container {\n",
              "      display:flex;\n",
              "      flex-wrap:wrap;\n",
              "      gap: 12px;\n",
              "    }\n",
              "\n",
              "    .colab-df-convert {\n",
              "      background-color: #E8F0FE;\n",
              "      border: none;\n",
              "      border-radius: 50%;\n",
              "      cursor: pointer;\n",
              "      display: none;\n",
              "      fill: #1967D2;\n",
              "      height: 32px;\n",
              "      padding: 0 0 0 0;\n",
              "      width: 32px;\n",
              "    }\n",
              "\n",
              "    .colab-df-convert:hover {\n",
              "      background-color: #E2EBFA;\n",
              "      box-shadow: 0px 1px 2px rgba(60, 64, 67, 0.3), 0px 1px 3px 1px rgba(60, 64, 67, 0.15);\n",
              "      fill: #174EA6;\n",
              "    }\n",
              "\n",
              "    [theme=dark] .colab-df-convert {\n",
              "      background-color: #3B4455;\n",
              "      fill: #D2E3FC;\n",
              "    }\n",
              "\n",
              "    [theme=dark] .colab-df-convert:hover {\n",
              "      background-color: #434B5C;\n",
              "      box-shadow: 0px 1px 3px 1px rgba(0, 0, 0, 0.15);\n",
              "      filter: drop-shadow(0px 1px 2px rgba(0, 0, 0, 0.3));\n",
              "      fill: #FFFFFF;\n",
              "    }\n",
              "  </style>\n",
              "\n",
              "      <script>\n",
              "        const buttonEl =\n",
              "          document.querySelector('#df-78062bac-62bf-489d-93ec-67e178e2b9f4 button.colab-df-convert');\n",
              "        buttonEl.style.display =\n",
              "          google.colab.kernel.accessAllowed ? 'block' : 'none';\n",
              "\n",
              "        async function convertToInteractive(key) {\n",
              "          const element = document.querySelector('#df-78062bac-62bf-489d-93ec-67e178e2b9f4');\n",
              "          const dataTable =\n",
              "            await google.colab.kernel.invokeFunction('convertToInteractive',\n",
              "                                                     [key], {});\n",
              "          if (!dataTable) return;\n",
              "\n",
              "          const docLinkHtml = 'Like what you see? Visit the ' +\n",
              "            '<a target=\"_blank\" href=https://colab.research.google.com/notebooks/data_table.ipynb>data table notebook</a>'\n",
              "            + ' to learn more about interactive tables.';\n",
              "          element.innerHTML = '';\n",
              "          dataTable['output_type'] = 'display_data';\n",
              "          await google.colab.output.renderOutput(dataTable, element);\n",
              "          const docLink = document.createElement('div');\n",
              "          docLink.innerHTML = docLinkHtml;\n",
              "          element.appendChild(docLink);\n",
              "        }\n",
              "      </script>\n",
              "    </div>\n",
              "  </div>\n",
              "  "
            ],
            "text/plain": [
              "                                  track  label\n",
              "0  f14498230d583796987a2e9576695384.wav      1\n",
              "1  2eb02f5f517ad346de780b22535824c0.wav      1\n",
              "2  d14d2f68081e6969b65e30bdb9d67144.wav      1\n",
              "3  40b86c3ca31ddb5ea16639e1229b8a7c.wav      0\n",
              "4  193eb4a1f4028c84d26e36ef74593fa4.wav      0"
            ]
          },
          "metadata": {},
          "execution_count": 18
        }
      ]
    },
    {
      "cell_type": "code",
      "execution_count": null,
      "metadata": {
        "colab": {
          "base_uri": "https://localhost:8080/"
        },
        "id": "BCNtIhAq332B",
        "outputId": "5d8d1165-a1a2-41ef-91fe-28ce85fad76d"
      },
      "outputs": [
        {
          "name": "stdout",
          "output_type": "stream",
          "text": [
            "Shutting down background jobs, please wait a moment...\n",
            "Done!\n"
          ]
        },
        {
          "name": "stderr",
          "output_type": "stream",
          "text": [
            "Waiting for the remaining 1 operations to synchronize with Neptune. Do not kill this process.\n"
          ]
        },
        {
          "name": "stdout",
          "output_type": "stream",
          "text": [
            "All 1 operations synced, thanks for waiting!\n"
          ]
        }
      ],
      "source": [
        "tracker.stop()"
      ]
    },
    {
      "cell_type": "code",
      "execution_count": null,
      "metadata": {
        "id": "MvZBOQ1gSkfs"
      },
      "outputs": [],
      "source": [
        ""
      ]
    }
  ],
  "metadata": {
    "accelerator": "GPU",
    "colab": {
      "name": "part1_ast_final.ipynb",
      "provenance": [],
      "collapsed_sections": []
    },
    "kernelspec": {
      "display_name": "Python 3",
      "name": "python3"
    },
    "language_info": {
      "name": "python"
    }
  },
  "nbformat": 4,
  "nbformat_minor": 0
}