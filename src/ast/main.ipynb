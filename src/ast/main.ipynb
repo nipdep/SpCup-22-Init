{
 "cells": [
  {
   "cell_type": "code",
   "execution_count": null,
   "metadata": {},
   "outputs": [],
   "source": [
    "import argparse\n",
    "import os\n",
    "import ast\n",
    "import pickle\n",
    "import sys\n",
    "import time\n",
    "import torch\n",
    "from torch.utils.data import WeightedRandomSampler\n",
    "basepath = os.path.dirname(os.path.dirname(sys.path[0]))\n",
    "sys.path.append(basepath)\n",
    "import dataloader\n",
    "import models\n",
    "import numpy as np\n",
    "from traintest import train, validate"
   ]
  },
  {
   "cell_type": "code",
   "execution_count": null,
   "metadata": {},
   "outputs": [],
   "source": [
    "args = argparse.Namespace()\n",
    "\n",
    "args.data_train = '.json'\n",
    "args.data_val = '.json'\n",
    "args.data_eval = '.json'\n",
    "args.label_csv = '.csv'\n",
    "args.n_class = 6\n",
    "args.model = 'ast'\n",
    "args.dataset = 'audioset'\n",
    "args.exp_dir = 'tmp/out'\n",
    "args.lr = 0.001\n",
    "args.optim = 'adam'\n",
    "args.b = 12\n",
    "args.w =32\n",
    "args.n_epochs = 3\n",
    "args.lr_patience = 2\n",
    "args.n_print_steps = 100\n",
    "args.save_model = None # \n",
    "args.freqm = 0\n",
    "args.timem = 0\n",
    "args.mixup = 0\n",
    "args.bal = True\n",
    "args.fstride = 10\n",
    "args.tstride = 10\n",
    "args.imagenet_pretrain = True\n",
    "args.audioset_pretrain = False\n"
   ]
  }
 ],
 "metadata": {
  "language_info": {
   "name": "python"
  },
  "orig_nbformat": 4
 },
 "nbformat": 4,
 "nbformat_minor": 2
}
