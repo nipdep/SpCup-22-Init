{
 "cells": [
  {
   "cell_type": "code",
   "execution_count": 1,
   "metadata": {},
   "outputs": [],
   "source": [
    "import tensorflow as tf\n",
    "physical_devices = tf.config.list_physical_devices('GPU')\n",
    "tf.config.experimental.set_memory_growth(physical_devices[0], True)"
   ]
  },
  {
   "cell_type": "code",
   "execution_count": 3,
   "metadata": {},
   "outputs": [],
   "source": [
    "import tensorflow as tf\n",
    "\n",
    "from tensorflow.keras.models import Sequential\n",
    "from tensorflow.keras.layers import Dense, Dropout, Activation, Flatten\n",
    "from tensorflow.keras.layers import Conv2D, MaxPool2D, Input\n",
    "from tensorflow.keras.optimizers import SGD\n",
    "from tensorflow.keras.regularizers import L2\n",
    "\n",
    "from dataloader_v1 import SpectDataset\n",
    "import numpy as np\n",
    "from sklearn.metrics import classification_report\n",
    "import itertools"
   ]
  },
  {
   "cell_type": "code",
   "execution_count": 4,
   "metadata": {},
   "outputs": [],
   "source": [
    "def SBCNN_Model(input_shape, num_labels):\n",
    "    model = Sequential()\n",
    "    model.add(Input(input_shape))\n",
    "    model.add(Conv2D(24, 5, padding='same'))\n",
    "    model.add(MaxPool2D(strides=(4, 2)))\n",
    "    model.add(Activation('relu'))\n",
    "\n",
    "    model.add(Conv2D(48, 5, padding='same'))\n",
    "    model.add(MaxPool2D(strides=(4, 2)))\n",
    "    model.add(Activation('relu'))\n",
    "\n",
    "    model.add(Conv2D(48, 5, padding='valid'))\n",
    "    model.add(Activation('relu'))\n",
    "\n",
    "    model.add(Flatten())\n",
    "\n",
    "    model.add(Dropout(0.5))\n",
    "    model.add(Dense(64, kernel_regularizer=L2(0.001)))\n",
    "    model.add(Activation('relu'))\n",
    "    \n",
    "    model.add(Dropout(0.5))\n",
    "    model.add(Dense(num_labels, kernel_regularizer=L2(0.001)))\n",
    "    model.add(Activation('softmax'))\n",
    "\n",
    "    return model"
   ]
  },
  {
   "cell_type": "code",
   "execution_count": null,
   "metadata": {},
   "outputs": [],
   "source": [
    "def run_model(optimizer, n_iter):\n",
    "    DATA_PATH = 'D:\\\\SP Cup 2022\\\\New folder\\\\spcup_2022_training_part1'\n",
    "    Labeled_dir = 'D:\\\\SP Cup 2022\\\\New folder\\\\spcup_2022_training_part1\\\\labels.csv'\n",
    "\n",
    "    dataloader = SpectDataset(add_noise=True)\n",
    "    train_ds, val_ds = dataloader.call(DATA_PATH, Labeled_dir)\n",
    "\n",
    "    for spectrogram, _ in train_ds.take(1):\n",
    "        input_shape = spectrogram.shape\n",
    "    model = SBCNN_Model(input_shape[1:], 6)\n",
    "\n",
    "    model.compile(\n",
    "        optimizer=optimizer,\n",
    "        loss=tf.keras.losses.SparseCategoricalCrossentropy(from_logits=False),\n",
    "        metrics=['accuracy']\n",
    "    )\n",
    "    EPOCHS = n_iter\n",
    "    history = model.fit(\n",
    "        train_ds,\n",
    "        validation_data=val_ds,\n",
    "        epochs=EPOCHS,\n",
    "    # callbacks=tf.keras.callbacks.EarlyStopping(verbose=1, patience=2),\n",
    "    )\n",
    "    res_sparse = model.predict(val_ds)\n",
    "    res_np = np.argmax(res_sparse, axis=1)\n",
    "    pred_labels = list(res_np)\n",
    "    true_labels = []\n",
    "    for _, label in val_ds.take(1000):\n",
    "        true_labels.extend(list(label.numpy()))\n",
    "        \n",
    "    print(\"SBCNN with optimizer {} and {} iterations\".format(optimizer, n_iter))\n",
    "    class_names = [f'class_{i}' for i in range(6)]\n",
    "    print(classification_report(true_labels, pred_labels, target_names=class_names))"
   ]
  },
  {
   "cell_type": "code",
   "execution_count": 6,
   "metadata": {},
   "outputs": [
    {
     "name": "stderr",
     "output_type": "stream",
     "text": [
      "C:\\Users\\smcha\\anaconda3\\envs\\tf\\lib\\site-packages\\tensorflow\\python\\keras\\optimizer_v2\\optimizer_v2.py:374: UserWarning: The `lr` argument is deprecated, use `learning_rate` instead.\n",
      "  warnings.warn(\n"
     ]
    },
    {
     "name": "stdout",
     "output_type": "stream",
     "text": [
      "WARNING:tensorflow:Please add `keras.layers.InputLayer` instead of `keras.Input` to Sequential model. `keras.Input` is intended to be used by Functional model.\n",
      "Epoch 1/10\n"
     ]
    }
   ],
   "source": [
    "sgd = SGD(lr=0.001, momentum=0.0, decay=0.0, nesterov=False)\n",
    "optimizer = [sgd, 'adam']\n",
    "n_iter = [10, 15]\n",
    "\n",
    "params = list(itertools.product(optimizer, n_iter))\n",
    "\n",
    "for p in params:\n",
    "    run_model(p[0], p[1])"
   ]
  },
  {
   "cell_type": "code",
   "execution_count": null,
   "metadata": {},
   "outputs": [],
   "source": []
  }
 ],
 "metadata": {
  "interpreter": {
   "hash": "f67755f61cee6f852c8685b69d561ff43068cf8dc9ad175a65ce9616cdf3aa01"
  },
  "kernelspec": {
   "display_name": "Python 3.9.7 ('tf')",
   "language": "python",
   "name": "python3"
  },
  "language_info": {
   "codemirror_mode": {
    "name": "ipython",
    "version": 3
   },
   "file_extension": ".py",
   "mimetype": "text/x-python",
   "name": "python",
   "nbconvert_exporter": "python",
   "pygments_lexer": "ipython3",
   "version": "3.9.7"
  },
  "orig_nbformat": 4
 },
 "nbformat": 4,
 "nbformat_minor": 2
}
