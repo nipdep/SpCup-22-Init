{
  "cells": [
    {
      "cell_type": "markdown",
      "metadata": {
        "id": "view-in-github",
        "colab_type": "text"
      },
      "source": [
        "<a href=\"https://colab.research.google.com/github/nipdep/SpCup-22-Init/blob/team1/src/sbcnn/param_tuning.ipynb\" target=\"_parent\"><img src=\"https://colab.research.google.com/assets/colab-badge.svg\" alt=\"Open In Colab\"/></a>"
      ]
    },
    {
      "cell_type": "markdown",
      "source": [
        "[Neptune Tracker](https://app.neptune.ai/chalani.ekanayake212/SBCNN-SPCUP/experiments?split=tbl&dash=charts&viewId=standard-view&sortBy=%5B%22sys%2Fcreation_time%22%5D&sortFieldType=%5B%22datetime%22%5D&sortFieldAggregationMode=%5B%22auto%22%5D&sortDirection=%5B%22descending%22%5D&suggestionsEnabled=false&lbViewUnpacked=true)"
      ],
      "metadata": {
        "id": "8eyXUyPkb4wl"
      }
    },
    {
      "cell_type": "code",
      "execution_count": 1,
      "metadata": {
        "colab": {
          "base_uri": "https://localhost:8080/"
        },
        "id": "FUndObAqPpuI",
        "outputId": "bb6ed17a-5768-4535-82a4-0172b4a27ab8"
      },
      "outputs": [
        {
          "output_type": "stream",
          "name": "stdout",
          "text": [
            "Drive already mounted at /gdrive; to attempt to forcibly remount, call drive.mount(\"/gdrive\", force_remount=True).\n"
          ]
        }
      ],
      "source": [
        "from google.colab import drive\n",
        "drive.mount('/gdrive')"
      ]
    },
    {
      "cell_type": "code",
      "execution_count": 2,
      "metadata": {
        "colab": {
          "base_uri": "https://localhost:8080/"
        },
        "id": "h5Pl0n6fPskH",
        "outputId": "e8cc65f5-a89c-4d0a-a0d8-a3897db0f223"
      },
      "outputs": [
        {
          "output_type": "stream",
          "name": "stdout",
          "text": [
            "/gdrive/MyDrive/SP Cup 2022/SpCup-22-Init/src/sbcnn\n"
          ]
        }
      ],
      "source": [
        "%cd /gdrive/MyDrive/SP Cup 2022/SpCup-22-Init/src/sbcnn"
      ]
    },
    {
      "cell_type": "code",
      "execution_count": 3,
      "metadata": {
        "id": "UTpsuKwQvfFJ"
      },
      "outputs": [],
      "source": [
        "! pip install neptune-client &> /dev/null"
      ]
    },
    {
      "cell_type": "code",
      "execution_count": 4,
      "metadata": {
        "id": "CAKXkAQTP9Cu"
      },
      "outputs": [],
      "source": [
        "!pip install audiomentations &> /dev/null"
      ]
    },
    {
      "cell_type": "code",
      "execution_count": 5,
      "metadata": {
        "id": "qL5VlTq8QHJB"
      },
      "outputs": [],
      "source": [
        "!pip install pedalboard &> /dev/null"
      ]
    },
    {
      "cell_type": "code",
      "execution_count": 6,
      "metadata": {
        "id": "EnBMSLaZPCJQ"
      },
      "outputs": [],
      "source": [
        "import tensorflow as tf\n",
        "from tensorflow.keras.models import Sequential\n",
        "from tensorflow.keras.layers import Dense, Dropout, Activation, Flatten\n",
        "from tensorflow.keras.layers import Conv2D, MaxPool2D, Input\n",
        "from tensorflow.keras.optimizers import SGD\n",
        "from tensorflow.keras.optimizers import Adam\n",
        "from tensorflow.keras.regularizers import L2\n",
        "from tensorflow.keras.callbacks import Callback\n",
        "import warnings\n",
        "import neptune.new as neptune\n",
        "from dataloader_v1 import SpectDataset\n",
        "import numpy as np\n",
        "from sklearn.metrics import classification_report\n",
        "import itertools\n",
        "from getpass import getpass\n",
        "import pandas as pd\n",
        "import os\n",
        "\n",
        "warnings.filterwarnings('ignore')"
      ]
    },
    {
      "cell_type": "code",
      "execution_count": 7,
      "metadata": {
        "colab": {
          "base_uri": "https://localhost:8080/"
        },
        "id": "OGsvWBNkwGNQ",
        "outputId": "f5dd032e-ae00-44fd-e0bd-346cbddb849f"
      },
      "outputs": [
        {
          "name": "stdout",
          "output_type": "stream",
          "text": [
            "Enter your private Neptune API token: ··········\n"
          ]
        }
      ],
      "source": [
        "api_token = getpass('Enter your private Neptune API token: ')"
      ]
    },
    {
      "cell_type": "code",
      "execution_count": 8,
      "metadata": {
        "id": "9RVKMTA5w1--"
      },
      "outputs": [],
      "source": [
        "workspace = 'chalani.ekanayake212' \n",
        "project = 'SBCNN-SPCUP'\n",
        "project_name = workspace + '/' + project"
      ]
    },
    {
      "cell_type": "code",
      "execution_count": 9,
      "metadata": {
        "colab": {
          "base_uri": "https://localhost:8080/"
        },
        "id": "5uLGNuqmxPBw",
        "outputId": "7dcdbc83-9609-47f1-fcbb-6bacd59ec669"
      },
      "outputs": [
        {
          "output_type": "stream",
          "name": "stdout",
          "text": [
            "https://app.neptune.ai/chalani.ekanayake212/SBCNN-SPCUP/e/SBCNNSPC-31\n",
            "Remember to stop your run once you’ve finished logging your metadata (https://docs.neptune.ai/api-reference/run#.stop). It will be stopped automatically only when the notebook kernel/interactive console is terminated.\n"
          ]
        }
      ],
      "source": [
        "run = neptune.init(project=project_name, name=\"RMS, 0.001 ILR\", api_token=api_token)"
      ]
    },
    {
      "cell_type": "code",
      "execution_count": 10,
      "metadata": {
        "id": "WWgfXEejFOZJ"
      },
      "outputs": [],
      "source": [
        "#! wget \"https://www.dropbox.com/s/36yqmymkva2bwdi/spcup_2022_training_part1.zip?dl=1\" -c -O '/gdrive/MyDrive/SP Cup 2022/spcup_2022_training_part1.zip'\n",
        "#! wget \"https://www.dropbox.com/s/wsmlthhri29fb79/spcup_2022_unseen.zip?dl=1\" -c -O '/gdrive/MyDrive/SP Cup 2022/spcup_2022_unseen.zip'"
      ]
    },
    {
      "cell_type": "code",
      "execution_count": 11,
      "metadata": {
        "id": "T1jzmjrsFWRK"
      },
      "outputs": [],
      "source": [
        "#!unzip \"/gdrive/MyDrive/SP Cup 2022/spcup_2022_training_part1.zip\" -d \"/gdrive/MyDrive/SP Cup 2022/spcup_2022_training_data/\" > /dev/null\n",
        "#!unzip \"/gdrive/MyDrive/SP Cup 2022/spcup_2022_unseen.zip\" -d \"/gdrive/MyDrive/SP Cup 2022/spcup_2022_unseen_data/\" > /dev/null"
      ]
    },
    {
      "cell_type": "code",
      "source": [
        "# create combined label df\n",
        "# combine two label sets\n",
        "#import pandas as pd\n",
        "#df1 = pd.read_csv('/gdrive/MyDrive/SP Cup 2022/spcup_2022_training_data/spcup_2022_training_part1/labels.csv')\n",
        "#df2 = pd.read_csv('/gdrive/MyDrive/SP Cup 2022/spcup_2022_unseen_data/spcup_2022_unseen/labels.csv')\n",
        "#df3 = pd.concat([df1, df2]).sample(frac=1)\n",
        "\n",
        "#df3.to_csv('/gdrive/MyDrive/SP Cup 2022/final_labels.csv', index=False)\n",
        "#!rm '/gdrive/MyDrive/SP Cup 2022/spcup_2022_unseen_data/spcup_2022_unseen/labels.csv'"
      ],
      "metadata": {
        "id": "irTkFINcGuT1"
      },
      "execution_count": 12,
      "outputs": []
    },
    {
      "cell_type": "code",
      "source": [
        "# copy .wav files from unseen to all\n",
        "#!cp -a \"/gdrive/MyDrive/SP Cup 2022/spcup_2022_unseen_data/spcup_2022_unseen/\". \"/gdrive/MyDrive/SP Cup 2022/spcup_2022_training_data/spcup_2022_training_part1/\""
      ],
      "metadata": {
        "id": "kxHKRRynG4uM"
      },
      "execution_count": 13,
      "outputs": []
    },
    {
      "cell_type": "code",
      "execution_count": 14,
      "metadata": {
        "id": "bWlHz9T8PCJS"
      },
      "outputs": [],
      "source": [
        "def SBCNN_Model(input_shape, num_labels):\n",
        "    model = Sequential()\n",
        "    model.add(Input(input_shape))\n",
        "    model.add(Conv2D(24, 5, padding='same'))\n",
        "    model.add(MaxPool2D(strides=(4, 2)))\n",
        "    model.add(Activation('relu'))\n",
        "\n",
        "    model.add(Conv2D(48, 5, padding='same'))\n",
        "    model.add(MaxPool2D(strides=(4, 2)))\n",
        "    model.add(Activation('relu'))\n",
        "\n",
        "    model.add(Conv2D(48, 5, padding='valid'))\n",
        "    model.add(Activation('relu'))\n",
        "\n",
        "    model.add(Flatten())\n",
        "\n",
        "    model.add(Dropout(0.5))\n",
        "    model.add(Dense(64, kernel_regularizer=L2(0.001)))\n",
        "    model.add(Activation('relu'))\n",
        "    \n",
        "    model.add(Dropout(0.5))\n",
        "    model.add(Dense(num_labels, kernel_regularizer=L2(0.001)))\n",
        "    model.add(Activation('softmax'))\n",
        "\n",
        "    return model"
      ]
    },
    {
      "cell_type": "code",
      "source": [
        "DATA_PATH = '/gdrive/MyDrive/SP Cup 2022/spcup_2022_training_data/spcup_2022_training_part1/'\n",
        "Labeled_dir = '/gdrive/MyDrive/SP Cup 2022/final_labels.csv'"
      ],
      "metadata": {
        "id": "-25OLWYZ-4t1"
      },
      "execution_count": 15,
      "outputs": []
    },
    {
      "cell_type": "code",
      "source": [
        "labels_df = pd.read_csv(Labeled_dir)\n",
        "labels_df.head()"
      ],
      "metadata": {
        "colab": {
          "base_uri": "https://localhost:8080/",
          "height": 206
        },
        "id": "4JJfOLEM_ATU",
        "outputId": "5351d2ca-5054-465b-da9b-0cf6c06284cc"
      },
      "execution_count": 16,
      "outputs": [
        {
          "output_type": "execute_result",
          "data": {
            "text/plain": [
              "                                  track  algorithm\n",
              "0  060d7d1bbcaf59f7f0e37a18117ddbda.wav          2\n",
              "1  2f9cfbe869595c7deefc3fb184cb71cb.wav          5\n",
              "2  d1b370d1dc59b54f0d7961e3d995e97f.wav          3\n",
              "3  817fe3a19b02f115c9e77a4ca4639925.wav          3\n",
              "4  538f6d6b14d3eef3452872b955a43391.wav          5"
            ],
            "text/html": [
              "\n",
              "  <div id=\"df-73351593-eedc-4cca-8962-9562510b706a\">\n",
              "    <div class=\"colab-df-container\">\n",
              "      <div>\n",
              "<style scoped>\n",
              "    .dataframe tbody tr th:only-of-type {\n",
              "        vertical-align: middle;\n",
              "    }\n",
              "\n",
              "    .dataframe tbody tr th {\n",
              "        vertical-align: top;\n",
              "    }\n",
              "\n",
              "    .dataframe thead th {\n",
              "        text-align: right;\n",
              "    }\n",
              "</style>\n",
              "<table border=\"1\" class=\"dataframe\">\n",
              "  <thead>\n",
              "    <tr style=\"text-align: right;\">\n",
              "      <th></th>\n",
              "      <th>track</th>\n",
              "      <th>algorithm</th>\n",
              "    </tr>\n",
              "  </thead>\n",
              "  <tbody>\n",
              "    <tr>\n",
              "      <th>0</th>\n",
              "      <td>060d7d1bbcaf59f7f0e37a18117ddbda.wav</td>\n",
              "      <td>2</td>\n",
              "    </tr>\n",
              "    <tr>\n",
              "      <th>1</th>\n",
              "      <td>2f9cfbe869595c7deefc3fb184cb71cb.wav</td>\n",
              "      <td>5</td>\n",
              "    </tr>\n",
              "    <tr>\n",
              "      <th>2</th>\n",
              "      <td>d1b370d1dc59b54f0d7961e3d995e97f.wav</td>\n",
              "      <td>3</td>\n",
              "    </tr>\n",
              "    <tr>\n",
              "      <th>3</th>\n",
              "      <td>817fe3a19b02f115c9e77a4ca4639925.wav</td>\n",
              "      <td>3</td>\n",
              "    </tr>\n",
              "    <tr>\n",
              "      <th>4</th>\n",
              "      <td>538f6d6b14d3eef3452872b955a43391.wav</td>\n",
              "      <td>5</td>\n",
              "    </tr>\n",
              "  </tbody>\n",
              "</table>\n",
              "</div>\n",
              "      <button class=\"colab-df-convert\" onclick=\"convertToInteractive('df-73351593-eedc-4cca-8962-9562510b706a')\"\n",
              "              title=\"Convert this dataframe to an interactive table.\"\n",
              "              style=\"display:none;\">\n",
              "        \n",
              "  <svg xmlns=\"http://www.w3.org/2000/svg\" height=\"24px\"viewBox=\"0 0 24 24\"\n",
              "       width=\"24px\">\n",
              "    <path d=\"M0 0h24v24H0V0z\" fill=\"none\"/>\n",
              "    <path d=\"M18.56 5.44l.94 2.06.94-2.06 2.06-.94-2.06-.94-.94-2.06-.94 2.06-2.06.94zm-11 1L8.5 8.5l.94-2.06 2.06-.94-2.06-.94L8.5 2.5l-.94 2.06-2.06.94zm10 10l.94 2.06.94-2.06 2.06-.94-2.06-.94-.94-2.06-.94 2.06-2.06.94z\"/><path d=\"M17.41 7.96l-1.37-1.37c-.4-.4-.92-.59-1.43-.59-.52 0-1.04.2-1.43.59L10.3 9.45l-7.72 7.72c-.78.78-.78 2.05 0 2.83L4 21.41c.39.39.9.59 1.41.59.51 0 1.02-.2 1.41-.59l7.78-7.78 2.81-2.81c.8-.78.8-2.07 0-2.86zM5.41 20L4 18.59l7.72-7.72 1.47 1.35L5.41 20z\"/>\n",
              "  </svg>\n",
              "      </button>\n",
              "      \n",
              "  <style>\n",
              "    .colab-df-container {\n",
              "      display:flex;\n",
              "      flex-wrap:wrap;\n",
              "      gap: 12px;\n",
              "    }\n",
              "\n",
              "    .colab-df-convert {\n",
              "      background-color: #E8F0FE;\n",
              "      border: none;\n",
              "      border-radius: 50%;\n",
              "      cursor: pointer;\n",
              "      display: none;\n",
              "      fill: #1967D2;\n",
              "      height: 32px;\n",
              "      padding: 0 0 0 0;\n",
              "      width: 32px;\n",
              "    }\n",
              "\n",
              "    .colab-df-convert:hover {\n",
              "      background-color: #E2EBFA;\n",
              "      box-shadow: 0px 1px 2px rgba(60, 64, 67, 0.3), 0px 1px 3px 1px rgba(60, 64, 67, 0.15);\n",
              "      fill: #174EA6;\n",
              "    }\n",
              "\n",
              "    [theme=dark] .colab-df-convert {\n",
              "      background-color: #3B4455;\n",
              "      fill: #D2E3FC;\n",
              "    }\n",
              "\n",
              "    [theme=dark] .colab-df-convert:hover {\n",
              "      background-color: #434B5C;\n",
              "      box-shadow: 0px 1px 3px 1px rgba(0, 0, 0, 0.15);\n",
              "      filter: drop-shadow(0px 1px 2px rgba(0, 0, 0, 0.3));\n",
              "      fill: #FFFFFF;\n",
              "    }\n",
              "  </style>\n",
              "\n",
              "      <script>\n",
              "        const buttonEl =\n",
              "          document.querySelector('#df-73351593-eedc-4cca-8962-9562510b706a button.colab-df-convert');\n",
              "        buttonEl.style.display =\n",
              "          google.colab.kernel.accessAllowed ? 'block' : 'none';\n",
              "\n",
              "        async function convertToInteractive(key) {\n",
              "          const element = document.querySelector('#df-73351593-eedc-4cca-8962-9562510b706a');\n",
              "          const dataTable =\n",
              "            await google.colab.kernel.invokeFunction('convertToInteractive',\n",
              "                                                     [key], {});\n",
              "          if (!dataTable) return;\n",
              "\n",
              "          const docLinkHtml = 'Like what you see? Visit the ' +\n",
              "            '<a target=\"_blank\" href=https://colab.research.google.com/notebooks/data_table.ipynb>data table notebook</a>'\n",
              "            + ' to learn more about interactive tables.';\n",
              "          element.innerHTML = '';\n",
              "          dataTable['output_type'] = 'display_data';\n",
              "          await google.colab.output.renderOutput(dataTable, element);\n",
              "          const docLink = document.createElement('div');\n",
              "          docLink.innerHTML = docLinkHtml;\n",
              "          element.appendChild(docLink);\n",
              "        }\n",
              "      </script>\n",
              "    </div>\n",
              "  </div>\n",
              "  "
            ]
          },
          "metadata": {},
          "execution_count": 16
        }
      ]
    },
    {
      "cell_type": "code",
      "source": [
        "labels_df['algorithm'].value_counts()"
      ],
      "metadata": {
        "colab": {
          "base_uri": "https://localhost:8080/"
        },
        "id": "DYjnycdv_NHG",
        "outputId": "8a586d55-6012-4c84-ae43-8db0aa62b65d"
      },
      "execution_count": 17,
      "outputs": [
        {
          "output_type": "execute_result",
          "data": {
            "text/plain": [
              "2    1000\n",
              "5    1000\n",
              "3    1000\n",
              "0    1000\n",
              "4    1000\n",
              "1    1000\n",
              "Name: algorithm, dtype: int64"
            ]
          },
          "metadata": {},
          "execution_count": 17
        }
      ]
    },
    {
      "cell_type": "code",
      "source": [
        "print(f\"There are {len(os.listdir(DATA_PATH))} files of audio for training.\\n\")"
      ],
      "metadata": {
        "colab": {
          "base_uri": "https://localhost:8080/"
        },
        "id": "eRCFZAtI_NXA",
        "outputId": "04837c16-18d7-4d21-f5bc-257aa8d850fe"
      },
      "execution_count": 18,
      "outputs": [
        {
          "output_type": "stream",
          "name": "stdout",
          "text": [
            "There are 6000 files of audio for training.\n",
            "\n"
          ]
        }
      ]
    },
    {
      "cell_type": "code",
      "execution_count": 19,
      "metadata": {
        "id": "RF7G3a2KPCJU"
      },
      "outputs": [],
      "source": [
        "def run_model(optimizer, n_iter):\n",
        "        \n",
        "    DATA_PATH = '/gdrive/MyDrive/SP Cup 2022/spcup_2022_training_data/spcup_2022_training_part1/'\n",
        "    \n",
        "    Labeled_dir = '/gdrive/MyDrive/SP Cup 2022/final_labels.csv'\n",
        "\n",
        "    dataloader = SpectDataset(add_noise=True, reverb=True)\n",
        "    train_ds, val_ds = dataloader.call(DATA_PATH, Labeled_dir)\n",
        "\n",
        "    for spectrogram, _ in train_ds.take(1):\n",
        "        input_shape = spectrogram.shape\n",
        "\n",
        "    model = SBCNN_Model(input_shape[1:], 6)\n",
        "\n",
        "    class PrintLRCallback(Callback):\n",
        "      def on_epoch_end(self, epoch, logs={}):\n",
        "        print(\"\\nSBCNN with learning rate {} \\n\".format(model.optimizer._decayed_lr('float32').numpy()))\n",
        "        for log_name, log_value in logs.items():\n",
        "            run[\"epoch/{}\".format(log_name)].log(log_value)\n",
        "            run[\"epoch/{}\".format('Learning Rate')].log(model.optimizer._decayed_lr('float32').numpy())\n",
        "\n",
        "    model.compile(\n",
        "        optimizer=optimizer,\n",
        "        loss=tf.keras.losses.SparseCategoricalCrossentropy(from_logits=False),\n",
        "        metrics=['accuracy']\n",
        "    )\n",
        "\n",
        "    EPOCHS = n_iter\n",
        "    history = model.fit(\n",
        "        train_ds,\n",
        "        validation_data=val_ds,\n",
        "        epochs=EPOCHS,\n",
        "        verbose=2,\n",
        "        callbacks=[PrintLRCallback()]\n",
        "    # callbacks=tf.keras.callbacks.EarlyStopping(verbose=1, patience=2),\n",
        "    )\n",
        "\n",
        "    model.save(\"/gdrive/MyDrive/SP Cup 2022/SBCNN Models/SBCNN_RMS_31.h5\")\n",
        "    print(\"Saved model to disk\")\n",
        "\n",
        "    res_sparse = model.predict(val_ds)\n",
        "    res_np = np.argmax(res_sparse, axis=1)\n",
        "    pred_labels = list(res_np)\n",
        "    true_labels = []\n",
        "    for _, label in val_ds.take(1000):\n",
        "        true_labels.extend(list(label.numpy()))\n",
        "\n",
        "   # class_names = [f'class_{i}' for i in range(6)]\n",
        "   # print(classification_report(true_labels, pred_labels, target_names=class_names))"
      ]
    },
    {
      "cell_type": "code",
      "execution_count": 20,
      "metadata": {
        "colab": {
          "base_uri": "https://localhost:8080/"
        },
        "id": "ceXrDYBrPCJW",
        "outputId": "f4722774-fccf-4d48-9391-06069f33b3ea"
      },
      "outputs": [
        {
          "output_type": "stream",
          "name": "stdout",
          "text": [
            "Epoch 1/20\n",
            "\n",
            "SBCNN with learning rate 0.0010000000474974513 \n",
            "\n",
            "150/150 - 69s - loss: 1.2651 - accuracy: 0.5158 - val_loss: 0.7132 - val_accuracy: 0.7600 - 69s/epoch - 461ms/step\n",
            "Epoch 2/20\n",
            "\n",
            "SBCNN with learning rate 0.0010000000474974513 \n",
            "\n",
            "150/150 - 2s - loss: 0.8056 - accuracy: 0.7092 - val_loss: 0.5946 - val_accuracy: 0.8075 - 2s/epoch - 13ms/step\n",
            "Epoch 3/20\n",
            "\n",
            "SBCNN with learning rate 0.0010000000474974513 \n",
            "\n",
            "150/150 - 2s - loss: 0.6582 - accuracy: 0.7765 - val_loss: 0.5121 - val_accuracy: 0.8333 - 2s/epoch - 13ms/step\n",
            "Epoch 4/20\n",
            "\n",
            "SBCNN with learning rate 0.0010000000474974513 \n",
            "\n",
            "150/150 - 2s - loss: 0.5625 - accuracy: 0.8250 - val_loss: 0.4514 - val_accuracy: 0.8592 - 2s/epoch - 17ms/step\n",
            "Epoch 5/20\n",
            "\n",
            "SBCNN with learning rate 0.0010000000474974513 \n",
            "\n",
            "150/150 - 2s - loss: 0.4943 - accuracy: 0.8531 - val_loss: 0.4285 - val_accuracy: 0.8767 - 2s/epoch - 13ms/step\n",
            "Epoch 6/20\n",
            "\n",
            "SBCNN with learning rate 0.0010000000474974513 \n",
            "\n",
            "150/150 - 2s - loss: 0.4402 - accuracy: 0.8740 - val_loss: 0.4198 - val_accuracy: 0.8633 - 2s/epoch - 13ms/step\n",
            "Epoch 7/20\n",
            "\n",
            "SBCNN with learning rate 0.0010000000474974513 \n",
            "\n",
            "150/150 - 2s - loss: 0.4057 - accuracy: 0.8854 - val_loss: 0.4074 - val_accuracy: 0.8850 - 2s/epoch - 13ms/step\n",
            "Epoch 8/20\n",
            "\n",
            "SBCNN with learning rate 0.0010000000474974513 \n",
            "\n",
            "150/150 - 3s - loss: 0.3628 - accuracy: 0.9054 - val_loss: 0.4108 - val_accuracy: 0.8825 - 3s/epoch - 17ms/step\n",
            "Epoch 9/20\n",
            "\n",
            "SBCNN with learning rate 0.0010000000474974513 \n",
            "\n",
            "150/150 - 2s - loss: 0.3288 - accuracy: 0.9190 - val_loss: 0.3975 - val_accuracy: 0.8925 - 2s/epoch - 13ms/step\n",
            "Epoch 10/20\n",
            "\n",
            "SBCNN with learning rate 0.0010000000474974513 \n",
            "\n",
            "150/150 - 2s - loss: 0.3089 - accuracy: 0.9200 - val_loss: 0.3847 - val_accuracy: 0.9017 - 2s/epoch - 13ms/step\n",
            "Epoch 11/20\n",
            "\n",
            "SBCNN with learning rate 0.0010000000474974513 \n",
            "\n",
            "150/150 - 2s - loss: 0.2804 - accuracy: 0.9308 - val_loss: 0.3753 - val_accuracy: 0.8983 - 2s/epoch - 13ms/step\n",
            "Epoch 12/20\n",
            "\n",
            "SBCNN with learning rate 0.0010000000474974513 \n",
            "\n",
            "150/150 - 2s - loss: 0.2618 - accuracy: 0.9379 - val_loss: 0.4272 - val_accuracy: 0.8950 - 2s/epoch - 13ms/step\n",
            "Epoch 13/20\n",
            "\n",
            "SBCNN with learning rate 0.0010000000474974513 \n",
            "\n",
            "150/150 - 2s - loss: 0.2456 - accuracy: 0.9463 - val_loss: 0.3481 - val_accuracy: 0.9100 - 2s/epoch - 13ms/step\n",
            "Epoch 14/20\n",
            "\n",
            "SBCNN with learning rate 0.0010000000474974513 \n",
            "\n",
            "150/150 - 2s - loss: 0.2343 - accuracy: 0.9496 - val_loss: 0.3615 - val_accuracy: 0.8992 - 2s/epoch - 13ms/step\n",
            "Epoch 15/20\n",
            "\n",
            "SBCNN with learning rate 0.0010000000474974513 \n",
            "\n",
            "150/150 - 2s - loss: 0.2122 - accuracy: 0.9513 - val_loss: 0.3776 - val_accuracy: 0.9158 - 2s/epoch - 13ms/step\n",
            "Epoch 16/20\n",
            "\n",
            "SBCNN with learning rate 0.0010000000474974513 \n",
            "\n",
            "150/150 - 2s - loss: 0.2150 - accuracy: 0.9494 - val_loss: 0.3519 - val_accuracy: 0.9050 - 2s/epoch - 13ms/step\n",
            "Epoch 17/20\n",
            "\n",
            "SBCNN with learning rate 0.0010000000474974513 \n",
            "\n",
            "150/150 - 2s - loss: 0.2122 - accuracy: 0.9544 - val_loss: 0.4585 - val_accuracy: 0.8733 - 2s/epoch - 13ms/step\n",
            "Epoch 18/20\n",
            "\n",
            "SBCNN with learning rate 0.0010000000474974513 \n",
            "\n",
            "150/150 - 2s - loss: 0.1936 - accuracy: 0.9560 - val_loss: 0.4269 - val_accuracy: 0.9008 - 2s/epoch - 13ms/step\n",
            "Epoch 19/20\n",
            "\n",
            "SBCNN with learning rate 0.0010000000474974513 \n",
            "\n",
            "150/150 - 2s - loss: 0.1836 - accuracy: 0.9625 - val_loss: 0.3284 - val_accuracy: 0.9175 - 2s/epoch - 13ms/step\n",
            "Epoch 20/20\n",
            "\n",
            "SBCNN with learning rate 0.0010000000474974513 \n",
            "\n",
            "150/150 - 2s - loss: 0.1752 - accuracy: 0.9629 - val_loss: 0.3848 - val_accuracy: 0.9117 - 2s/epoch - 13ms/step\n",
            "Saved model to disk\n"
          ]
        }
      ],
      "source": [
        "initial_lr = 0.1\n",
        "decay_r = 0.9\n",
        "\n",
        "lr_schedule = tf.keras.optimizers.schedules.ExponentialDecay(\n",
        "              initial_learning_rate=initial_lr,\n",
        "              decay_steps=(1000), \n",
        "              decay_rate=decay_r)\n",
        "\n",
        "sgd = SGD(learning_rate = lr_schedule)\n",
        "adm = Adam(learning_rate=initial_lr)\n",
        "rms = tf.keras.optimizers.RMSprop(learning_rate=0.001)\n",
        "\n",
        "n_iter = 20\n",
        "\n",
        "optimizer = rms\n",
        "\n",
        "# log params\n",
        "run[\"parameters/epochs\"] = n_iter\n",
        "run[\"parameters/optimizer\"] = \"RMS\"\n",
        "run[\"parameters/initial_lr\"] = 0.001\n",
        "run[\"parameters/decay_rate\"] = 'none'\n",
        "\n",
        "run_model(optimizer, n_iter)"
      ]
    },
    {
      "cell_type": "code",
      "execution_count": 21,
      "metadata": {
        "id": "0SZj7xiH5s-5",
        "colab": {
          "base_uri": "https://localhost:8080/"
        },
        "outputId": "279c9eaf-c004-4405-b0c8-30c804c3e7f1"
      },
      "outputs": [
        {
          "output_type": "stream",
          "name": "stdout",
          "text": [
            "Shutting down background jobs, please wait a moment...\n",
            "Done!\n"
          ]
        },
        {
          "output_type": "stream",
          "name": "stderr",
          "text": [
            "Waiting for the remaining 14 operations to synchronize with Neptune. Do not kill this process.\n"
          ]
        },
        {
          "output_type": "stream",
          "name": "stdout",
          "text": [
            "All 14 operations synced, thanks for waiting!\n"
          ]
        }
      ],
      "source": [
        "run.stop()"
      ]
    },
    {
      "cell_type": "code",
      "source": [
        ""
      ],
      "metadata": {
        "id": "i9fUdmIEds-D"
      },
      "execution_count": 21,
      "outputs": []
    }
  ],
  "metadata": {
    "accelerator": "GPU",
    "colab": {
      "collapsed_sections": [],
      "name": "param_tuning.ipynb",
      "provenance": [],
      "include_colab_link": true
    },
    "interpreter": {
      "hash": "f67755f61cee6f852c8685b69d561ff43068cf8dc9ad175a65ce9616cdf3aa01"
    },
    "kernelspec": {
      "display_name": "Python 3.9.7 ('tf')",
      "language": "python",
      "name": "python3"
    },
    "language_info": {
      "codemirror_mode": {
        "name": "ipython",
        "version": 3
      },
      "file_extension": ".py",
      "mimetype": "text/x-python",
      "name": "python",
      "nbconvert_exporter": "python",
      "pygments_lexer": "ipython3",
      "version": "3.9.7"
    }
  },
  "nbformat": 4,
  "nbformat_minor": 0
}