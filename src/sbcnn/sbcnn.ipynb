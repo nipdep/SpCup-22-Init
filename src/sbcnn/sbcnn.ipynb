{
 "cells": [
  {
   "cell_type": "code",
   "execution_count": 1,
   "metadata": {},
   "outputs": [],
   "source": [
    "import tensorflow as tf\n",
    "physical_devices = tf.config.list_physical_devices('GPU')\n",
    "tf.config.experimental.set_memory_growth(physical_devices[0], True)"
   ]
  },
  {
   "cell_type": "code",
   "execution_count": 2,
   "metadata": {},
   "outputs": [],
   "source": [
    "import tensorflow as tf\n",
    "\n",
    "from tensorflow.keras.models import Sequential\n",
    "from tensorflow.keras.layers import Dense, Dropout, Activation, Flatten\n",
    "from tensorflow.keras.layers import Conv2D, MaxPool2D, Input\n",
    "from tensorflow.keras.optimizers import SGD\n",
    "from tensorflow.keras.regularizers import L2\n",
    "\n",
    "from dataloader_v1 import SpectDataset\n"
   ]
  },
  {
   "cell_type": "code",
   "execution_count": 4,
   "metadata": {},
   "outputs": [
    {
     "data": {
      "text/plain": [
       "'2.5.0'"
      ]
     },
     "execution_count": 4,
     "metadata": {},
     "output_type": "execute_result"
    }
   ],
   "source": [
    "tf.__version__"
   ]
  },
  {
   "cell_type": "code",
   "execution_count": 3,
   "metadata": {},
   "outputs": [],
   "source": [
    "seed = 123\n",
    "tf.random.set_seed(seed)"
   ]
  },
  {
   "cell_type": "code",
   "execution_count": 4,
   "metadata": {},
   "outputs": [],
   "source": [
    "DATA_PATH = 'D:\\\\SP Cup 2022\\\\New folder\\\\spcup_2022_training_part1'\n",
    "Labeled_dir = 'D:\\\\SP Cup 2022\\\\New folder\\\\spcup_2022_training_part1\\\\labels.csv'"
   ]
  },
  {
   "cell_type": "code",
   "execution_count": 23,
   "metadata": {},
   "outputs": [],
   "source": [
    "# DATA_PATH = 'D:\\\\SP Cup 2022\\\\New folder\\\\spcup_2022_unseen'\n",
    "# Labeled_dir = 'D:\\\\SP Cup 2022\\\\New folder\\\\spcup_2022_unseen\\\\labels.csv'"
   ]
  },
  {
   "cell_type": "code",
   "execution_count": 5,
   "metadata": {},
   "outputs": [],
   "source": [
    "dataloader = SpectDataset()\n",
    "train_ds, val_ds = dataloader.call(DATA_PATH, Labeled_dir)"
   ]
  },
  {
   "cell_type": "code",
   "execution_count": 6,
   "metadata": {},
   "outputs": [],
   "source": [
    "def SBCNN_Model(input_shape, num_labels):\n",
    "    model = Sequential()\n",
    "    model.add(Input(input_shape))\n",
    "    model.add(Conv2D(24, 5, padding='same'))\n",
    "    model.add(MaxPool2D(strides=(4, 2)))\n",
    "    model.add(Activation('relu'))\n",
    "\n",
    "    model.add(Conv2D(48, 5, padding='same'))\n",
    "    model.add(MaxPool2D(strides=(4, 2)))\n",
    "    model.add(Activation('relu'))\n",
    "\n",
    "    model.add(Conv2D(48, 5, padding='valid'))\n",
    "    model.add(Activation('relu'))\n",
    "\n",
    "    model.add(Flatten())\n",
    "\n",
    "    model.add(Dropout(0.5))\n",
    "    model.add(Dense(64, kernel_regularizer=L2(0.001)))\n",
    "    model.add(Activation('relu'))\n",
    "    \n",
    "    model.add(Dropout(0.5))\n",
    "    model.add(Dense(num_labels, kernel_regularizer=L2(0.001)))\n",
    "    model.add(Activation('softmax'))\n",
    "\n",
    "    return model"
   ]
  },
  {
   "cell_type": "code",
   "execution_count": 7,
   "metadata": {},
   "outputs": [
    {
     "name": "stdout",
     "output_type": "stream",
     "text": [
      "Input shape: (32, 124, 129, 1)\n"
     ]
    }
   ],
   "source": [
    "for spectrogram, _ in train_ds.take(1):\n",
    "  input_shape = spectrogram.shape\n",
    "print('Input shape:', input_shape)"
   ]
  },
  {
   "cell_type": "code",
   "execution_count": 8,
   "metadata": {},
   "outputs": [
    {
     "name": "stdout",
     "output_type": "stream",
     "text": [
      "WARNING:tensorflow:Please add `keras.layers.InputLayer` instead of `keras.Input` to Sequential model. `keras.Input` is intended to be used by Functional model.\n"
     ]
    }
   ],
   "source": [
    "model = SBCNN_Model(input_shape[1:], 6)"
   ]
  },
  {
   "cell_type": "code",
   "execution_count": 9,
   "metadata": {},
   "outputs": [],
   "source": [
    "model.compile(\n",
    "    optimizer=tf.keras.optimizers.RMSprop(learning_rate=0.001),\n",
    "    loss=tf.keras.losses.SparseCategoricalCrossentropy(from_logits=False),\n",
    "    metrics=['accuracy'],\n",
    ")"
   ]
  },
  {
   "cell_type": "code",
   "execution_count": 10,
   "metadata": {},
   "outputs": [
    {
     "name": "stdout",
     "output_type": "stream",
     "text": [
      "Epoch 1/15\n",
      "150/150 [==============================] - 73s 111ms/step - loss: 1.4665 - accuracy: 0.4279 - val_loss: 1.0255 - val_accuracy: 0.5867\n",
      "Epoch 2/15\n",
      "150/150 [==============================] - 6s 37ms/step - loss: 1.0284 - accuracy: 0.6102 - val_loss: 0.8028 - val_accuracy: 0.6908\n",
      "Epoch 3/15\n",
      "150/150 [==============================] - 6s 37ms/step - loss: 0.8631 - accuracy: 0.6740 - val_loss: 0.8176 - val_accuracy: 0.7033\n",
      "Epoch 4/15\n",
      "150/150 [==============================] - 5s 36ms/step - loss: 0.7767 - accuracy: 0.7204 - val_loss: 0.7147 - val_accuracy: 0.7508\n",
      "Epoch 5/15\n",
      "150/150 [==============================] - 5s 37ms/step - loss: 0.7228 - accuracy: 0.7477 - val_loss: 0.6817 - val_accuracy: 0.7617\n",
      "Epoch 6/15\n",
      "150/150 [==============================] - 6s 37ms/step - loss: 0.6762 - accuracy: 0.7754 - val_loss: 0.7018 - val_accuracy: 0.7558\n",
      "Epoch 7/15\n",
      "150/150 [==============================] - 6s 38ms/step - loss: 0.6676 - accuracy: 0.7781 - val_loss: 0.7123 - val_accuracy: 0.7758\n",
      "Epoch 8/15\n",
      "150/150 [==============================] - 6s 37ms/step - loss: 0.6387 - accuracy: 0.7919 - val_loss: 0.6649 - val_accuracy: 0.7933\n",
      "Epoch 9/15\n",
      "150/150 [==============================] - 6s 37ms/step - loss: 0.6570 - accuracy: 0.7985 - val_loss: 0.6573 - val_accuracy: 0.8025\n",
      "Epoch 10/15\n",
      "150/150 [==============================] - 6s 37ms/step - loss: 0.6535 - accuracy: 0.7969 - val_loss: 0.8692 - val_accuracy: 0.7700\n",
      "Epoch 11/15\n",
      "150/150 [==============================] - 6s 37ms/step - loss: 0.6776 - accuracy: 0.7940 - val_loss: 0.9246 - val_accuracy: 0.7350\n",
      "Epoch 12/15\n",
      "150/150 [==============================] - 6s 37ms/step - loss: 0.7087 - accuracy: 0.7908 - val_loss: 0.7729 - val_accuracy: 0.7458\n",
      "Epoch 13/15\n",
      "150/150 [==============================] - 6s 37ms/step - loss: 0.7075 - accuracy: 0.7908 - val_loss: 0.9281 - val_accuracy: 0.7350\n",
      "Epoch 14/15\n",
      "150/150 [==============================] - 6s 37ms/step - loss: 0.7535 - accuracy: 0.7775 - val_loss: 0.9094 - val_accuracy: 0.7258\n",
      "Epoch 15/15\n",
      "150/150 [==============================] - 6s 38ms/step - loss: 0.8318 - accuracy: 0.7579 - val_loss: 0.7490 - val_accuracy: 0.7617\n"
     ]
    }
   ],
   "source": [
    "EPOCHS = 15\n",
    "lr_schedule =  tf.keras.callbacks.LearningRateScheduler(\n",
    "            lambda epoch: 1e-3 * 10 ** (epoch / 20))\n",
    "history = model.fit(\n",
    "    train_ds,\n",
    "    validation_data=val_ds,\n",
    "    epochs=EPOCHS,\n",
    "    callbacks=[lr_schedule],\n",
    ")"
   ]
  },
  {
   "cell_type": "code",
   "execution_count": 30,
   "metadata": {},
   "outputs": [
    {
     "data": {
      "image/png": "[encoded data removed]",
      "text/plain": [
       "<Figure size 1296x576 with 1 Axes>"
      ]
     },
     "metadata": {
      "needs_background": "light"
     },
     "output_type": "display_data"
    }
   ],
   "source": [
    "import matplotlib.pyplot as plt\n",
    "from matplotlib import rcParams\n",
    "import numpy as np\n",
    "rcParams['figure.figsize'] = (18, 8)\n",
    "rcParams['axes.spines.top'] = False\n",
    "rcParams['axes.spines.right'] = False \n",
    "\n",
    "plt.plot(\n",
    "    np.arange(1, EPOCHS+1), \n",
    "    history.history['loss'], \n",
    "    label='Loss', lw=3\n",
    ")\n",
    "plt.plot(\n",
    "    np.arange(1, EPOCHS+1), \n",
    "    history.history['accuracy'], \n",
    "    label='Accuracy', lw=3\n",
    ")\n",
    "plt.plot(\n",
    "    np.arange(1,EPOCHS+1), \n",
    "    history.history['lr'], \n",
    "    label='Learning rate', color='#000', lw=3, linestyle='--'\n",
    ")\n",
    "plt.title('Evaluation metrics', size=20)\n",
    "plt.xlabel('Epoch', size=14)\n",
    "plt.legend();"
   ]
  },
  {
   "cell_type": "code",
   "execution_count": 31,
   "metadata": {},
   "outputs": [
    {
     "ename": "ValueError",
     "evalue": "x and y must have same first dimension, but have shapes (50,) and (15,)",
     "output_type": "error",
     "traceback": [
      "\u001b[1;31m---------------------------------------------------------------------------\u001b[0m",
      "\u001b[1;31mValueError\u001b[0m                                Traceback (most recent call last)",
      "\u001b[1;32m~\\AppData\\Local\\Temp/ipykernel_53752/2772234461.py\u001b[0m in \u001b[0;36m<module>\u001b[1;34m\u001b[0m\n\u001b[0;32m      1\u001b[0m \u001b[0mlearning_rates\u001b[0m \u001b[1;33m=\u001b[0m \u001b[1;36m1e-3\u001b[0m \u001b[1;33m*\u001b[0m \u001b[1;33m(\u001b[0m\u001b[1;36m10\u001b[0m \u001b[1;33m**\u001b[0m \u001b[1;33m(\u001b[0m\u001b[0mnp\u001b[0m\u001b[1;33m.\u001b[0m\u001b[0marange\u001b[0m\u001b[1;33m(\u001b[0m\u001b[1;36m50\u001b[0m\u001b[1;33m)\u001b[0m \u001b[1;33m/\u001b[0m \u001b[1;36m20\u001b[0m\u001b[1;33m)\u001b[0m\u001b[1;33m)\u001b[0m\u001b[1;33m\u001b[0m\u001b[1;33m\u001b[0m\u001b[0m\n\u001b[1;32m----> 2\u001b[1;33m plt.semilogx(\n\u001b[0m\u001b[0;32m      3\u001b[0m     \u001b[0mlearning_rates\u001b[0m\u001b[1;33m,\u001b[0m\u001b[1;33m\u001b[0m\u001b[1;33m\u001b[0m\u001b[0m\n\u001b[0;32m      4\u001b[0m     \u001b[0mhistory\u001b[0m\u001b[1;33m.\u001b[0m\u001b[0mhistory\u001b[0m\u001b[1;33m[\u001b[0m\u001b[1;34m'loss'\u001b[0m\u001b[1;33m]\u001b[0m\u001b[1;33m,\u001b[0m\u001b[1;33m\u001b[0m\u001b[1;33m\u001b[0m\u001b[0m\n\u001b[0;32m      5\u001b[0m     \u001b[0mlw\u001b[0m\u001b[1;33m=\u001b[0m\u001b[1;36m3\u001b[0m\u001b[1;33m,\u001b[0m \u001b[0mcolor\u001b[0m\u001b[1;33m=\u001b[0m\u001b[1;34m'#000'\u001b[0m\u001b[1;33m\u001b[0m\u001b[1;33m\u001b[0m\u001b[0m\n",
      "\u001b[1;32m~\\anaconda3\\envs\\tf\\lib\\site-packages\\matplotlib\\pyplot.py\u001b[0m in \u001b[0;36msemilogx\u001b[1;34m(*args, **kwargs)\u001b[0m\n\u001b[0;32m   2817\u001b[0m \u001b[1;33m@\u001b[0m\u001b[0m_copy_docstring_and_deprecators\u001b[0m\u001b[1;33m(\u001b[0m\u001b[0mAxes\u001b[0m\u001b[1;33m.\u001b[0m\u001b[0msemilogx\u001b[0m\u001b[1;33m)\u001b[0m\u001b[1;33m\u001b[0m\u001b[1;33m\u001b[0m\u001b[0m\n\u001b[0;32m   2818\u001b[0m \u001b[1;32mdef\u001b[0m \u001b[0msemilogx\u001b[0m\u001b[1;33m(\u001b[0m\u001b[1;33m*\u001b[0m\u001b[0margs\u001b[0m\u001b[1;33m,\u001b[0m \u001b[1;33m**\u001b[0m\u001b[0mkwargs\u001b[0m\u001b[1;33m)\u001b[0m\u001b[1;33m:\u001b[0m\u001b[1;33m\u001b[0m\u001b[1;33m\u001b[0m\u001b[0m\n\u001b[1;32m-> 2819\u001b[1;33m     \u001b[1;32mreturn\u001b[0m \u001b[0mgca\u001b[0m\u001b[1;33m(\u001b[0m\u001b[1;33m)\u001b[0m\u001b[1;33m.\u001b[0m\u001b[0msemilogx\u001b[0m\u001b[1;33m(\u001b[0m\u001b[1;33m*\u001b[0m\u001b[0margs\u001b[0m\u001b[1;33m,\u001b[0m \u001b[1;33m**\u001b[0m\u001b[0mkwargs\u001b[0m\u001b[1;33m)\u001b[0m\u001b[1;33m\u001b[0m\u001b[1;33m\u001b[0m\u001b[0m\n\u001b[0m\u001b[0;32m   2820\u001b[0m \u001b[1;33m\u001b[0m\u001b[0m\n\u001b[0;32m   2821\u001b[0m \u001b[1;33m\u001b[0m\u001b[0m\n",
      "\u001b[1;32m~\\anaconda3\\envs\\tf\\lib\\site-packages\\matplotlib\\axes\\_axes.py\u001b[0m in \u001b[0;36msemilogx\u001b[1;34m(self, *args, **kwargs)\u001b[0m\n\u001b[0;32m   1815\u001b[0m                       'basex', 'subsx', 'nonposx']}\n\u001b[0;32m   1816\u001b[0m         \u001b[0mself\u001b[0m\u001b[1;33m.\u001b[0m\u001b[0mset_xscale\u001b[0m\u001b[1;33m(\u001b[0m\u001b[1;34m'log'\u001b[0m\u001b[1;33m,\u001b[0m \u001b[1;33m**\u001b[0m\u001b[0md\u001b[0m\u001b[1;33m)\u001b[0m\u001b[1;33m\u001b[0m\u001b[1;33m\u001b[0m\u001b[0m\n\u001b[1;32m-> 1817\u001b[1;33m         return self.plot(\n\u001b[0m\u001b[0;32m   1818\u001b[0m             *args, **{k: v for k, v in kwargs.items() if k not in d})\n\u001b[0;32m   1819\u001b[0m \u001b[1;33m\u001b[0m\u001b[0m\n",
      "\u001b[1;32m~\\anaconda3\\envs\\tf\\lib\\site-packages\\matplotlib\\axes\\_axes.py\u001b[0m in \u001b[0;36mplot\u001b[1;34m(self, scalex, scaley, data, *args, **kwargs)\u001b[0m\n\u001b[0;32m   1630\u001b[0m         \"\"\"\n\u001b[0;32m   1631\u001b[0m         \u001b[0mkwargs\u001b[0m \u001b[1;33m=\u001b[0m \u001b[0mcbook\u001b[0m\u001b[1;33m.\u001b[0m\u001b[0mnormalize_kwargs\u001b[0m\u001b[1;33m(\u001b[0m\u001b[0mkwargs\u001b[0m\u001b[1;33m,\u001b[0m \u001b[0mmlines\u001b[0m\u001b[1;33m.\u001b[0m\u001b[0mLine2D\u001b[0m\u001b[1;33m)\u001b[0m\u001b[1;33m\u001b[0m\u001b[1;33m\u001b[0m\u001b[0m\n\u001b[1;32m-> 1632\u001b[1;33m         \u001b[0mlines\u001b[0m \u001b[1;33m=\u001b[0m \u001b[1;33m[\u001b[0m\u001b[1;33m*\u001b[0m\u001b[0mself\u001b[0m\u001b[1;33m.\u001b[0m\u001b[0m_get_lines\u001b[0m\u001b[1;33m(\u001b[0m\u001b[1;33m*\u001b[0m\u001b[0margs\u001b[0m\u001b[1;33m,\u001b[0m \u001b[0mdata\u001b[0m\u001b[1;33m=\u001b[0m\u001b[0mdata\u001b[0m\u001b[1;33m,\u001b[0m \u001b[1;33m**\u001b[0m\u001b[0mkwargs\u001b[0m\u001b[1;33m)\u001b[0m\u001b[1;33m]\u001b[0m\u001b[1;33m\u001b[0m\u001b[1;33m\u001b[0m\u001b[0m\n\u001b[0m\u001b[0;32m   1633\u001b[0m         \u001b[1;32mfor\u001b[0m \u001b[0mline\u001b[0m \u001b[1;32min\u001b[0m \u001b[0mlines\u001b[0m\u001b[1;33m:\u001b[0m\u001b[1;33m\u001b[0m\u001b[1;33m\u001b[0m\u001b[0m\n\u001b[0;32m   1634\u001b[0m             \u001b[0mself\u001b[0m\u001b[1;33m.\u001b[0m\u001b[0madd_line\u001b[0m\u001b[1;33m(\u001b[0m\u001b[0mline\u001b[0m\u001b[1;33m)\u001b[0m\u001b[1;33m\u001b[0m\u001b[1;33m\u001b[0m\u001b[0m\n",
      "\u001b[1;32m~\\anaconda3\\envs\\tf\\lib\\site-packages\\matplotlib\\axes\\_base.py\u001b[0m in \u001b[0;36m__call__\u001b[1;34m(self, data, *args, **kwargs)\u001b[0m\n\u001b[0;32m    310\u001b[0m                 \u001b[0mthis\u001b[0m \u001b[1;33m+=\u001b[0m \u001b[0margs\u001b[0m\u001b[1;33m[\u001b[0m\u001b[1;36m0\u001b[0m\u001b[1;33m]\u001b[0m\u001b[1;33m,\u001b[0m\u001b[1;33m\u001b[0m\u001b[1;33m\u001b[0m\u001b[0m\n\u001b[0;32m    311\u001b[0m                 \u001b[0margs\u001b[0m \u001b[1;33m=\u001b[0m \u001b[0margs\u001b[0m\u001b[1;33m[\u001b[0m\u001b[1;36m1\u001b[0m\u001b[1;33m:\u001b[0m\u001b[1;33m]\u001b[0m\u001b[1;33m\u001b[0m\u001b[1;33m\u001b[0m\u001b[0m\n\u001b[1;32m--> 312\u001b[1;33m             \u001b[1;32myield\u001b[0m \u001b[1;32mfrom\u001b[0m \u001b[0mself\u001b[0m\u001b[1;33m.\u001b[0m\u001b[0m_plot_args\u001b[0m\u001b[1;33m(\u001b[0m\u001b[0mthis\u001b[0m\u001b[1;33m,\u001b[0m \u001b[0mkwargs\u001b[0m\u001b[1;33m)\u001b[0m\u001b[1;33m\u001b[0m\u001b[1;33m\u001b[0m\u001b[0m\n\u001b[0m\u001b[0;32m    313\u001b[0m \u001b[1;33m\u001b[0m\u001b[0m\n\u001b[0;32m    314\u001b[0m     \u001b[1;32mdef\u001b[0m \u001b[0mget_next_color\u001b[0m\u001b[1;33m(\u001b[0m\u001b[0mself\u001b[0m\u001b[1;33m)\u001b[0m\u001b[1;33m:\u001b[0m\u001b[1;33m\u001b[0m\u001b[1;33m\u001b[0m\u001b[0m\n",
      "\u001b[1;32m~\\anaconda3\\envs\\tf\\lib\\site-packages\\matplotlib\\axes\\_base.py\u001b[0m in \u001b[0;36m_plot_args\u001b[1;34m(self, tup, kwargs, return_kwargs)\u001b[0m\n\u001b[0;32m    496\u001b[0m \u001b[1;33m\u001b[0m\u001b[0m\n\u001b[0;32m    497\u001b[0m         \u001b[1;32mif\u001b[0m \u001b[0mx\u001b[0m\u001b[1;33m.\u001b[0m\u001b[0mshape\u001b[0m\u001b[1;33m[\u001b[0m\u001b[1;36m0\u001b[0m\u001b[1;33m]\u001b[0m \u001b[1;33m!=\u001b[0m \u001b[0my\u001b[0m\u001b[1;33m.\u001b[0m\u001b[0mshape\u001b[0m\u001b[1;33m[\u001b[0m\u001b[1;36m0\u001b[0m\u001b[1;33m]\u001b[0m\u001b[1;33m:\u001b[0m\u001b[1;33m\u001b[0m\u001b[1;33m\u001b[0m\u001b[0m\n\u001b[1;32m--> 498\u001b[1;33m             raise ValueError(f\"x and y must have same first dimension, but \"\n\u001b[0m\u001b[0;32m    499\u001b[0m                              f\"have shapes {x.shape} and {y.shape}\")\n\u001b[0;32m    500\u001b[0m         \u001b[1;32mif\u001b[0m \u001b[0mx\u001b[0m\u001b[1;33m.\u001b[0m\u001b[0mndim\u001b[0m \u001b[1;33m>\u001b[0m \u001b[1;36m2\u001b[0m \u001b[1;32mor\u001b[0m \u001b[0my\u001b[0m\u001b[1;33m.\u001b[0m\u001b[0mndim\u001b[0m \u001b[1;33m>\u001b[0m \u001b[1;36m2\u001b[0m\u001b[1;33m:\u001b[0m\u001b[1;33m\u001b[0m\u001b[1;33m\u001b[0m\u001b[0m\n",
      "\u001b[1;31mValueError\u001b[0m: x and y must have same first dimension, but have shapes (50,) and (15,)"
     ]
    },
    {
     "data": {
      "image/png": "[encoded data removed]",
      "text/plain": [
       "<Figure size 1296x576 with 1 Axes>"
      ]
     },
     "metadata": {
      "needs_background": "light"
     },
     "output_type": "display_data"
    }
   ],
   "source": [
    "learning_rates = 1e-3 * (10 ** (np.arange(50) / 20))\n",
    "plt.semilogx(\n",
    "    learning_rates, \n",
    "    history.history['loss'], \n",
    "    lw=3, color='#000'\n",
    ")\n",
    "plt.title('Learning rate vs. loss', size=20)\n",
    "plt.xlabel('Learning rate', size=14)\n",
    "plt.ylabel('Loss', size=14);"
   ]
  },
  {
   "cell_type": "code",
   "execution_count": 68,
   "metadata": {},
   "outputs": [
    {
     "name": "stdout",
     "output_type": "stream",
     "text": [
      "Optimal Value for lr\n",
      "0.0031622776601683794\n"
     ]
    }
   ],
   "source": [
    "print('Optimal Value for lr')\n",
    "print(learning_rates[np.argmin(history.history['loss'])])"
   ]
  },
  {
   "cell_type": "markdown",
   "metadata": {},
   "source": [
    "Model Train"
   ]
  },
  {
   "cell_type": "code",
   "execution_count": 33,
   "metadata": {},
   "outputs": [
    {
     "name": "stdout",
     "output_type": "stream",
     "text": [
      "WARNING:tensorflow:Please add `keras.layers.InputLayer` instead of `keras.Input` to Sequential model. `keras.Input` is intended to be used by Functional model.\n"
     ]
    }
   ],
   "source": [
    "model = SBCNN_Model(input_shape[1:], 6)"
   ]
  },
  {
   "cell_type": "code",
   "execution_count": 34,
   "metadata": {},
   "outputs": [],
   "source": [
    "model.compile(\n",
    "    optimizer=tf.keras.optimizers.SGD(learning_rate=0.0032),\n",
    "    loss=tf.keras.losses.SparseCategoricalCrossentropy(from_logits=False),\n",
    "    metrics=['accuracy'],\n",
    ")"
   ]
  },
  {
   "cell_type": "code",
   "execution_count": 35,
   "metadata": {},
   "outputs": [
    {
     "name": "stdout",
     "output_type": "stream",
     "text": [
      "Epoch 1/30\n",
      "150/150 [==============================] - 6s 37ms/step - loss: 1.9240 - accuracy: 0.1858 - val_loss: 1.8923 - val_accuracy: 0.1883\n",
      "Epoch 2/30\n",
      "150/150 [==============================] - 5s 35ms/step - loss: 1.8914 - accuracy: 0.2062 - val_loss: 1.8639 - val_accuracy: 0.2008\n",
      "Epoch 3/30\n",
      "150/150 [==============================] - 5s 34ms/step - loss: 1.8563 - accuracy: 0.2577 - val_loss: 1.8114 - val_accuracy: 0.2900\n",
      "Epoch 4/30\n",
      "150/150 [==============================] - 5s 35ms/step - loss: 1.8033 - accuracy: 0.3067 - val_loss: 1.7229 - val_accuracy: 0.3758\n",
      "Epoch 5/30\n",
      "150/150 [==============================] - 5s 34ms/step - loss: 1.7206 - accuracy: 0.3617 - val_loss: 1.6042 - val_accuracy: 0.4542\n",
      "Epoch 6/30\n",
      "150/150 [==============================] - 5s 34ms/step - loss: 1.6308 - accuracy: 0.3994 - val_loss: 1.4841 - val_accuracy: 0.5033\n",
      "Epoch 7/30\n",
      "150/150 [==============================] - 5s 34ms/step - loss: 1.5467 - accuracy: 0.4288 - val_loss: 1.4007 - val_accuracy: 0.5200\n",
      "Epoch 8/30\n",
      "150/150 [==============================] - 5s 34ms/step - loss: 1.4710 - accuracy: 0.4592 - val_loss: 1.3368 - val_accuracy: 0.5350\n",
      "Epoch 9/30\n",
      "150/150 [==============================] - 5s 35ms/step - loss: 1.4096 - accuracy: 0.4715 - val_loss: 1.2886 - val_accuracy: 0.5458\n",
      "Epoch 10/30\n",
      "150/150 [==============================] - 5s 35ms/step - loss: 1.3596 - accuracy: 0.4902 - val_loss: 1.2421 - val_accuracy: 0.5592\n",
      "Epoch 11/30\n",
      "150/150 [==============================] - 5s 35ms/step - loss: 1.3062 - accuracy: 0.5102 - val_loss: 1.2092 - val_accuracy: 0.5775\n",
      "Epoch 12/30\n",
      "150/150 [==============================] - 5s 34ms/step - loss: 1.2960 - accuracy: 0.5104 - val_loss: 1.1806 - val_accuracy: 0.5892\n",
      "Epoch 13/30\n",
      "150/150 [==============================] - 5s 34ms/step - loss: 1.2449 - accuracy: 0.5383 - val_loss: 1.1609 - val_accuracy: 0.5875\n",
      "Epoch 14/30\n",
      "150/150 [==============================] - 5s 35ms/step - loss: 1.2028 - accuracy: 0.5510 - val_loss: 1.1208 - val_accuracy: 0.5967\n",
      "Epoch 15/30\n",
      "150/150 [==============================] - 5s 35ms/step - loss: 1.1879 - accuracy: 0.5629 - val_loss: 1.1220 - val_accuracy: 0.6075\n",
      "Epoch 16/30\n",
      "150/150 [==============================] - 5s 35ms/step - loss: 1.1770 - accuracy: 0.5579 - val_loss: 1.0961 - val_accuracy: 0.6225\n",
      "Epoch 17/30\n",
      "150/150 [==============================] - 5s 35ms/step - loss: 1.1321 - accuracy: 0.5838 - val_loss: 1.0916 - val_accuracy: 0.6167\n",
      "Epoch 18/30\n",
      "150/150 [==============================] - 5s 34ms/step - loss: 1.1083 - accuracy: 0.5885 - val_loss: 1.0473 - val_accuracy: 0.6342\n",
      "Epoch 19/30\n",
      "150/150 [==============================] - 5s 34ms/step - loss: 1.0893 - accuracy: 0.6017 - val_loss: 0.9983 - val_accuracy: 0.6558\n",
      "Epoch 20/30\n",
      "150/150 [==============================] - 5s 34ms/step - loss: 1.0649 - accuracy: 0.5985 - val_loss: 0.9763 - val_accuracy: 0.6508\n",
      "Epoch 21/30\n",
      "150/150 [==============================] - 5s 35ms/step - loss: 1.0504 - accuracy: 0.6158 - val_loss: 0.9947 - val_accuracy: 0.6400\n",
      "Epoch 22/30\n",
      "150/150 [==============================] - 5s 34ms/step - loss: 1.0252 - accuracy: 0.6233 - val_loss: 0.9507 - val_accuracy: 0.6883\n",
      "Epoch 23/30\n",
      "150/150 [==============================] - 5s 35ms/step - loss: 1.0156 - accuracy: 0.6225 - val_loss: 0.9393 - val_accuracy: 0.6792\n",
      "Epoch 24/30\n",
      "150/150 [==============================] - 5s 35ms/step - loss: 0.9874 - accuracy: 0.6444 - val_loss: 0.9108 - val_accuracy: 0.6900\n",
      "Epoch 25/30\n",
      "150/150 [==============================] - 5s 35ms/step - loss: 0.9739 - accuracy: 0.6423 - val_loss: 0.9035 - val_accuracy: 0.6900\n",
      "Epoch 26/30\n",
      "150/150 [==============================] - 5s 34ms/step - loss: 0.9602 - accuracy: 0.6529 - val_loss: 0.8734 - val_accuracy: 0.6992\n",
      "Epoch 27/30\n",
      "150/150 [==============================] - 5s 34ms/step - loss: 0.9444 - accuracy: 0.6560 - val_loss: 0.8526 - val_accuracy: 0.7050\n",
      "Epoch 28/30\n",
      "150/150 [==============================] - 5s 34ms/step - loss: 0.9230 - accuracy: 0.6621 - val_loss: 0.8457 - val_accuracy: 0.7092\n",
      "Epoch 29/30\n",
      "150/150 [==============================] - 5s 35ms/step - loss: 0.9147 - accuracy: 0.6779 - val_loss: 0.8323 - val_accuracy: 0.7092\n",
      "Epoch 30/30\n",
      "150/150 [==============================] - 5s 35ms/step - loss: 0.9041 - accuracy: 0.6771 - val_loss: 0.8233 - val_accuracy: 0.7033\n"
     ]
    }
   ],
   "source": [
    "EPOCHS = 30\n",
    "history = model.fit(\n",
    "    train_ds,\n",
    "    validation_data=val_ds,\n",
    "    epochs=EPOCHS,\n",
    "    # callbacks=[lr_schedule],\n",
    ")"
   ]
  },
  {
   "cell_type": "markdown",
   "metadata": {},
   "source": [
    "__Model training visualization__"
   ]
  },
  {
   "cell_type": "code",
   "execution_count": 79,
   "metadata": {},
   "outputs": [],
   "source": [
    "import matplotlib.pyplot as plt"
   ]
  },
  {
   "cell_type": "code",
   "execution_count": 80,
   "metadata": {},
   "outputs": [
    {
     "data": {
      "image/png": "[encoded data removed]",
      "text/plain": [
       "<Figure size 1296x576 with 1 Axes>"
      ]
     },
     "metadata": {
      "needs_background": "light"
     },
     "output_type": "display_data"
    }
   ],
   "source": [
    "# summarize history for accuracy\n",
    "plt.plot(history.history['accuracy'])\n",
    "plt.plot(history.history['val_accuracy'])\n",
    "plt.title('model accuracy')\n",
    "plt.ylabel('accuracy')\n",
    "plt.xlabel('epoch')\n",
    "plt.legend(['train', 'test'], loc='upper left')\n",
    "plt.show()"
   ]
  },
  {
   "cell_type": "code",
   "execution_count": 81,
   "metadata": {},
   "outputs": [
    {
     "data": {
      "image/png": "[encoded data removed]",
      "text/plain": [
       "<Figure size 1296x576 with 1 Axes>"
      ]
     },
     "metadata": {
      "needs_background": "light"
     },
     "output_type": "display_data"
    }
   ],
   "source": [
    "# summarize history for loss\n",
    "plt.plot(history.history['loss'])\n",
    "plt.plot(history.history['val_loss'])\n",
    "plt.title('model loss')\n",
    "plt.ylabel('loss')\n",
    "plt.xlabel('epoch')\n",
    "plt.legend(['train', 'test'], loc='upper left')\n",
    "plt.show()"
   ]
  },
  {
   "cell_type": "markdown",
   "metadata": {},
   "source": [
    "__Sample Evaluation pipeline building__"
   ]
  },
  {
   "cell_type": "markdown",
   "metadata": {},
   "source": [
    "_extracting y_pred and y_true values_"
   ]
  },
  {
   "cell_type": "code",
   "execution_count": 17,
   "metadata": {},
   "outputs": [],
   "source": [
    "res_sparse = model.predict(val_ds)"
   ]
  },
  {
   "cell_type": "code",
   "execution_count": 18,
   "metadata": {},
   "outputs": [],
   "source": [
    "res_np = np.argmax(res_sparse, axis=1)\n",
    "pred_labels = list(res_np)"
   ]
  },
  {
   "cell_type": "code",
   "execution_count": 19,
   "metadata": {},
   "outputs": [],
   "source": [
    "true_labels = []\n",
    "for _, label in val_ds.take(1000):\n",
    "    true_labels.extend(list(label.numpy()))"
   ]
  },
  {
   "cell_type": "code",
   "execution_count": 20,
   "metadata": {},
   "outputs": [],
   "source": [
    "from sklearn.metrics import classification_report"
   ]
  },
  {
   "cell_type": "markdown",
   "metadata": {},
   "source": [
    "_class-wise analysis_"
   ]
  },
  {
   "cell_type": "code",
   "execution_count": 22,
   "metadata": {},
   "outputs": [
    {
     "name": "stdout",
     "output_type": "stream",
     "text": [
      "              precision    recall  f1-score   support\n",
      "\n",
      "     class_0       0.98      0.99      0.98       200\n",
      "     class_1       0.55      0.81      0.66       200\n",
      "     class_2       0.75      0.52      0.61       200\n",
      "     class_3       0.95      0.93      0.94       200\n",
      "     class_4       0.99      0.98      0.99       200\n",
      "     class_5       0.71      0.60      0.65       200\n",
      "\n",
      "    accuracy                           0.81      1200\n",
      "   macro avg       0.82      0.81      0.80      1200\n",
      "weighted avg       0.82      0.81      0.80      1200\n",
      "\n"
     ]
    }
   ],
   "source": [
    "class_names = [f'class_{i}' for i in range(6)]\n",
    "print(classification_report(true_labels, pred_labels, target_names=class_names))"
   ]
  },
  {
   "cell_type": "markdown",
   "metadata": {},
   "source": [
    "_confusion metrics_"
   ]
  },
  {
   "cell_type": "code",
   "execution_count": 23,
   "metadata": {},
   "outputs": [],
   "source": [
    "import matplotlib.pyplot as plt\n",
    "import itertools"
   ]
  },
  {
   "cell_type": "code",
   "execution_count": 24,
   "metadata": {},
   "outputs": [],
   "source": [
    "def plot_confusion_matrix(cm, classes,\n",
    "                          normalize=False,\n",
    "                          title='Confusion matrix',\n",
    "                          cmap=plt.cm.Blues):\n",
    "\n",
    "    plt.imshow(cm, interpolation='nearest', cmap=cmap)\n",
    "    plt.title(title)\n",
    "    plt.colorbar()\n",
    "    tick_marks = np.arange(len(classes))\n",
    "    plt.xticks(tick_marks, classes, rotation=45)\n",
    "    plt.yticks(tick_marks, classes)\n",
    "\n",
    "    if normalize:\n",
    "        cm = cm.astype('float') / cm.sum(axis=1)[:, np.newaxis]\n",
    "        print(\"Normalized confusion matrix\")\n",
    "    else:\n",
    "        print('Confusion matrix, without normalization')\n",
    "\n",
    "    thresh = cm.max() / 2.\n",
    "    for i, j in itertools.product(range(cm.shape[0]), range(cm.shape[1])):\n",
    "        plt.text(j, i, cm[i, j],\n",
    "                 horizontalalignment=\"center\",\n",
    "                 color=\"white\" if cm[i, j] > thresh else \"black\")\n",
    "\n",
    "    plt.tight_layout()\n",
    "    plt.ylabel('True label')\n",
    "    plt.xlabel('Predicted label')"
   ]
  },
  {
   "cell_type": "code",
   "execution_count": 25,
   "metadata": {},
   "outputs": [],
   "source": [
    "from sklearn import metrics"
   ]
  },
  {
   "cell_type": "code",
   "execution_count": 26,
   "metadata": {},
   "outputs": [
    {
     "name": "stdout",
     "output_type": "stream",
     "text": [
      "Confusion matrix, without normalization\n"
     ]
    },
    {
     "data": {
      "image/png": "[encoded data removed]",
      "text/plain": [
       "<Figure size 432x288 with 2 Axes>"
      ]
     },
     "metadata": {
      "needs_background": "light"
     },
     "output_type": "display_data"
    }
   ],
   "source": [
    "cm = metrics.confusion_matrix(true_labels, pred_labels)\n",
    "plot_confusion_matrix(cm, classes=class_names)\n"
   ]
  },
  {
   "cell_type": "markdown",
   "metadata": {},
   "source": [
    "_overall analysis_"
   ]
  },
  {
   "cell_type": "markdown",
   "metadata": {},
   "source": [
    "_Jaccard metrics_"
   ]
  },
  {
   "cell_type": "code",
   "execution_count": 27,
   "metadata": {},
   "outputs": [
    {
     "data": {
      "text/plain": [
       "0.7064006015845249"
      ]
     },
     "execution_count": 27,
     "metadata": {},
     "output_type": "execute_result"
    }
   ],
   "source": [
    "# Jaccard metrics - macro\n",
    "from sklearn.metrics import jaccard_score\n",
    "jaccard_score(true_labels, pred_labels, average='macro')"
   ]
  },
  {
   "cell_type": "code",
   "execution_count": 28,
   "metadata": {},
   "outputs": [
    {
     "data": {
      "text/plain": [
       "0.804738902833142"
      ]
     },
     "execution_count": 28,
     "metadata": {},
     "output_type": "execute_result"
    }
   ],
   "source": [
    "# F1 - macro\n",
    "from sklearn.metrics import f1_score\n",
    "f1_score(true_labels, pred_labels, average='macro')"
   ]
  },
  {
   "cell_type": "code",
   "execution_count": 29,
   "metadata": {},
   "outputs": [
    {
     "data": {
      "text/plain": [
       "0.8211430772500149"
      ]
     },
     "execution_count": 29,
     "metadata": {},
     "output_type": "execute_result"
    }
   ],
   "source": [
    "# precision - macro\n",
    "from sklearn.metrics import precision_score\n",
    "precision_score(true_labels, pred_labels, average='macro')"
   ]
  },
  {
   "cell_type": "code",
   "execution_count": 30,
   "metadata": {},
   "outputs": [
    {
     "data": {
      "text/plain": [
       "0.8058333333333333"
      ]
     },
     "execution_count": 30,
     "metadata": {},
     "output_type": "execute_result"
    }
   ],
   "source": [
    "# recall - macro\n",
    "from sklearn.metrics import recall_score\n",
    "recall_score(true_labels, pred_labels, average='macro')"
   ]
  },
  {
   "cell_type": "code",
   "execution_count": 31,
   "metadata": {},
   "outputs": [
    {
     "data": {
      "text/plain": [
       "0.767"
      ]
     },
     "execution_count": 31,
     "metadata": {},
     "output_type": "execute_result"
    }
   ],
   "source": [
    "# Cohen's Kappa metrics\n",
    "from sklearn.metrics import cohen_kappa_score\n",
    "cohen_kappa_score(true_labels, pred_labels)"
   ]
  },
  {
   "cell_type": "code",
   "execution_count": 32,
   "metadata": {},
   "outputs": [
    {
     "data": {
      "text/plain": [
       "0.7715696507533396"
      ]
     },
     "execution_count": 32,
     "metadata": {},
     "output_type": "execute_result"
    }
   ],
   "source": [
    "# matthews correlation coefficient\n",
    "from sklearn.metrics import matthews_corrcoef\n",
    "matthews_corrcoef(true_labels, pred_labels)"
   ]
  },
  {
   "cell_type": "markdown",
   "metadata": {},
   "source": [
    "__Model result interoperability__"
   ]
  },
  {
   "cell_type": "code",
   "execution_count": 3,
   "metadata": {},
   "outputs": [],
   "source": [
    "model = tf.keras.models.load_model(\"D:\\\\SP Cup 2022\\\\New folder\\\\SpCup-22-Init\\\\src\\\\sbcnn\\\\Models\\\\SBCNN_SGD_with_random_noise_NoMomentum.h5\")"
   ]
  },
  {
   "cell_type": "code",
   "execution_count": 7,
   "metadata": {},
   "outputs": [],
   "source": [
    "EVAL_DATA_PATH = 'D:\\\\SP Cup 2022\\\\New folder\\\\spcup_2022_eval_part2'\n",
    "Labeled_dir = 'D:\\\\SP Cup 2022\\\\New folder\\\\spcup_2022_eval_part2\\\\labels_eval_part2.csv'"
   ]
  },
  {
   "cell_type": "code",
   "execution_count": 8,
   "metadata": {},
   "outputs": [],
   "source": [
    "from dataloader_v3 import SpectTestDataset\n",
    "\n",
    "dataloader = SpectTestDataset()\n",
    "test_ds, test_set = dataloader.call(EVAL_DATA_PATH, Labeled_dir)"
   ]
  },
  {
   "cell_type": "code",
   "execution_count": 9,
   "metadata": {},
   "outputs": [
    {
     "name": "stdout",
     "output_type": "stream",
     "text": [
      "Input shape: (32, 124, 129, 1)\n"
     ]
    }
   ],
   "source": [
    "for spectrogram in test_ds.take(1):\n",
    "  input_shape = spectrogram.shape\n",
    "print('Input shape:', input_shape)"
   ]
  },
  {
   "cell_type": "code",
   "execution_count": 10,
   "metadata": {},
   "outputs": [],
   "source": [
    "res_sparse = model.predict(test_ds)"
   ]
  },
  {
   "cell_type": "code",
   "execution_count": 11,
   "metadata": {},
   "outputs": [],
   "source": [
    "import numpy as np\n",
    "res_np = np.argmax(res_sparse, axis=1)\n",
    "pred_labels = list(res_np)"
   ]
  },
  {
   "cell_type": "code",
   "execution_count": 12,
   "metadata": {},
   "outputs": [],
   "source": [
    "import pandas as pd\n",
    "df = pd.read_csv(Labeled_dir)\n",
    "tracks = list(df['track'].values)"
   ]
  },
  {
   "cell_type": "code",
   "execution_count": 13,
   "metadata": {},
   "outputs": [],
   "source": [
    "f = open(\"answer.txt\", \"a+\")\n",
    "for i in range(len(tracks)):\n",
    "    f.write( tracks[i] + ',' + str(pred_labels[i]) + '\\n')\n",
    "f.close()"
   ]
  },
  {
   "cell_type": "code",
   "execution_count": null,
   "metadata": {},
   "outputs": [],
   "source": []
  }
 ],
 "metadata": {
  "interpreter": {
   "hash": "aacd9efd2e917f2085b49ad3eecd2bc8a974d0bb8b89bc48afae7fa44e9f517f"
  },
  "kernelspec": {
   "display_name": "Python 3.9.7 ('base')",
   "language": "python",
   "name": "python3"
  },
  "language_info": {
   "codemirror_mode": {
    "name": "ipython",
    "version": 3
   },
   "file_extension": ".py",
   "mimetype": "text/x-python",
   "name": "python",
   "nbconvert_exporter": "python",
   "pygments_lexer": "ipython3",
   "version": "3.9.7"
  },
  "orig_nbformat": 4
 },
 "nbformat": 4,
 "nbformat_minor": 2
}
