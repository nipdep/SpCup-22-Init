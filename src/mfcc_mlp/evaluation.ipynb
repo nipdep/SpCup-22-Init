{
 "cells": [
  {
   "cell_type": "code",
   "execution_count": 12,
   "metadata": {},
   "outputs": [],
   "source": [
    "import pandas as pd\n",
    "import os\n",
    "import librosa\n",
    "import librosa.display\n",
    "import numpy as np\n",
    "import IPython.display as ipd\n",
    "import matplotlib.pyplot as plt\n",
    "from tqdm import tqdm\n",
    "import tensorflow as tf\n",
    "%matplotlib inline"
   ]
  },
  {
   "cell_type": "code",
   "execution_count": 13,
   "metadata": {},
   "outputs": [],
   "source": [
    "def features_extractor(file_name):\n",
    "    audio, sample_rate = librosa.load(file_name, res_type='kaiser_fast') \n",
    "    mfccs_features = librosa.feature.mfcc(y=audio, sr=sample_rate, n_mfcc=40)\n",
    "    mfccs_scaled_features = np.mean(mfccs_features.T,axis=0)\n",
    "    \n",
    "    return mfccs_scaled_features"
   ]
  },
  {
   "cell_type": "code",
   "execution_count": null,
   "metadata": {},
   "outputs": [],
   "source": [
    "'''def features_extractor(audio,sample_rate):\n",
    "    mfccs_features = librosa.feature.mfcc(y=audio, sr=sample_rate, n_mfcc=40)\n",
    "    mfccs_scaled_features = np.mean(mfccs_features.T,axis=0)\n",
    "    \n",
    "    return mfccs_scaled_features'''"
   ]
  },
  {
   "cell_type": "code",
   "execution_count": 24,
   "metadata": {},
   "outputs": [],
   "source": [
    "model = tf.keras.models.load_model('saved_models/audio_classification_5.hdf5')"
   ]
  },
  {
   "cell_type": "markdown",
   "metadata": {},
   "source": [
    "# part1 eval"
   ]
  },
  {
   "cell_type": "code",
   "execution_count": 3,
   "metadata": {},
   "outputs": [
    {
     "data": {
      "text/html": [
       "<div>\n",
       "<style scoped>\n",
       "    .dataframe tbody tr th:only-of-type {\n",
       "        vertical-align: middle;\n",
       "    }\n",
       "\n",
       "    .dataframe tbody tr th {\n",
       "        vertical-align: top;\n",
       "    }\n",
       "\n",
       "    .dataframe thead th {\n",
       "        text-align: right;\n",
       "    }\n",
       "</style>\n",
       "<table border=\"1\" class=\"dataframe\">\n",
       "  <thead>\n",
       "    <tr style=\"text-align: right;\">\n",
       "      <th></th>\n",
       "      <th>track</th>\n",
       "    </tr>\n",
       "    <tr>\n",
       "      <th>id</th>\n",
       "      <th></th>\n",
       "    </tr>\n",
       "  </thead>\n",
       "  <tbody>\n",
       "    <tr>\n",
       "      <th>0</th>\n",
       "      <td>f14498230d583796987a2e9576695384.wav</td>\n",
       "    </tr>\n",
       "    <tr>\n",
       "      <th>1</th>\n",
       "      <td>2eb02f5f517ad346de780b22535824c0.wav</td>\n",
       "    </tr>\n",
       "    <tr>\n",
       "      <th>2</th>\n",
       "      <td>d14d2f68081e6969b65e30bdb9d67144.wav</td>\n",
       "    </tr>\n",
       "    <tr>\n",
       "      <th>3</th>\n",
       "      <td>40b86c3ca31ddb5ea16639e1229b8a7c.wav</td>\n",
       "    </tr>\n",
       "    <tr>\n",
       "      <th>4</th>\n",
       "      <td>193eb4a1f4028c84d26e36ef74593fa4.wav</td>\n",
       "    </tr>\n",
       "    <tr>\n",
       "      <th>5</th>\n",
       "      <td>0a5e69910b2684139cb16a04688c0a4d.wav</td>\n",
       "    </tr>\n",
       "    <tr>\n",
       "      <th>6</th>\n",
       "      <td>53babba60d22a0614a62e067a2f340d0.wav</td>\n",
       "    </tr>\n",
       "    <tr>\n",
       "      <th>7</th>\n",
       "      <td>fda526a314a64dd8bf516023fba5c7af.wav</td>\n",
       "    </tr>\n",
       "    <tr>\n",
       "      <th>8</th>\n",
       "      <td>41f1ae8dd4c8c6092de1fbbd6291861b.wav</td>\n",
       "    </tr>\n",
       "    <tr>\n",
       "      <th>9</th>\n",
       "      <td>931f4c63d0de2e25b5e7d636bcc733c6.wav</td>\n",
       "    </tr>\n",
       "  </tbody>\n",
       "</table>\n",
       "</div>"
      ],
      "text/plain": [
       "                                   track\n",
       "id                                      \n",
       "0   f14498230d583796987a2e9576695384.wav\n",
       "1   2eb02f5f517ad346de780b22535824c0.wav\n",
       "2   d14d2f68081e6969b65e30bdb9d67144.wav\n",
       "3   40b86c3ca31ddb5ea16639e1229b8a7c.wav\n",
       "4   193eb4a1f4028c84d26e36ef74593fa4.wav\n",
       "5   0a5e69910b2684139cb16a04688c0a4d.wav\n",
       "6   53babba60d22a0614a62e067a2f340d0.wav\n",
       "7   fda526a314a64dd8bf516023fba5c7af.wav\n",
       "8   41f1ae8dd4c8c6092de1fbbd6291861b.wav\n",
       "9   931f4c63d0de2e25b5e7d636bcc733c6.wav"
      ]
     },
     "execution_count": 3,
     "metadata": {},
     "output_type": "execute_result"
    }
   ],
   "source": [
    "eval_file_1 = 'spcup_2022_eval_part1\\labels_eval_part1.csv'\n",
    "eval_df_1 = pd.read_csv(eval_file_1,index_col='id')\n",
    "eval_df_1.head(10)"
   ]
  },
  {
   "cell_type": "code",
   "execution_count": null,
   "metadata": {},
   "outputs": [],
   "source": [
    "'''extracted_features_eval_1=[]\n",
    "for index_num,row in tqdm(eval_df_1.iterrows()):\n",
    "    file_name = os.path.join('spcup_2022_eval_part1/'+row[\"track\"])\n",
    "    audio, sample_rate = librosa.load(file_name, res_type='kaiser_fast') \n",
    "    end=np.int(len(audio)/sample_rate)\n",
    "    audio_splitted = [audio[x:x+sample_rate] for x in range(0, sample_rate*end, sample_rate)]\n",
    "    data=features_extractor(audio_splitted[0],sample_rate)\n",
    "    extracted_features_eval_1.append([data])'''"
   ]
  },
  {
   "cell_type": "code",
   "execution_count": 4,
   "metadata": {},
   "outputs": [
    {
     "name": "stderr",
     "output_type": "stream",
     "text": [
      "9000it [12:23, 12.10it/s]\n"
     ]
    }
   ],
   "source": [
    "extracted_features_eval_1=[]\n",
    "for index_num,row in tqdm(eval_df_1.iterrows()):\n",
    "    file_name = os.path.join('spcup_2022_eval_part1/'+row[\"track\"])\n",
    "    data=features_extractor(file_name)\n",
    "    extracted_features_eval_1.append([data])"
   ]
  },
  {
   "cell_type": "code",
   "execution_count": 5,
   "metadata": {},
   "outputs": [
    {
     "data": {
      "text/html": [
       "<div>\n",
       "<style scoped>\n",
       "    .dataframe tbody tr th:only-of-type {\n",
       "        vertical-align: middle;\n",
       "    }\n",
       "\n",
       "    .dataframe tbody tr th {\n",
       "        vertical-align: top;\n",
       "    }\n",
       "\n",
       "    .dataframe thead th {\n",
       "        text-align: right;\n",
       "    }\n",
       "</style>\n",
       "<table border=\"1\" class=\"dataframe\">\n",
       "  <thead>\n",
       "    <tr style=\"text-align: right;\">\n",
       "      <th></th>\n",
       "      <th>track</th>\n",
       "    </tr>\n",
       "  </thead>\n",
       "  <tbody>\n",
       "    <tr>\n",
       "      <th>0</th>\n",
       "      <td>[-269.3485, 101.77115, -35.03285, 37.29702, -3...</td>\n",
       "    </tr>\n",
       "    <tr>\n",
       "      <th>1</th>\n",
       "      <td>[-254.40703, 117.19196, -33.872215, 0.8692569,...</td>\n",
       "    </tr>\n",
       "    <tr>\n",
       "      <th>2</th>\n",
       "      <td>[-266.2454, 128.14958, -26.464298, 35.849255, ...</td>\n",
       "    </tr>\n",
       "    <tr>\n",
       "      <th>3</th>\n",
       "      <td>[-322.96405, 100.21652, -8.45915, 23.041285, -...</td>\n",
       "    </tr>\n",
       "    <tr>\n",
       "      <th>4</th>\n",
       "      <td>[-289.00134, 121.04054, -24.958841, 24.885279,...</td>\n",
       "    </tr>\n",
       "    <tr>\n",
       "      <th>5</th>\n",
       "      <td>[-250.80171, 124.63011, -43.520527, 36.56632, ...</td>\n",
       "    </tr>\n",
       "    <tr>\n",
       "      <th>6</th>\n",
       "      <td>[-274.7371, 111.72691, -33.66937, 42.792572, -...</td>\n",
       "    </tr>\n",
       "    <tr>\n",
       "      <th>7</th>\n",
       "      <td>[-271.588, 128.47897, -21.678255, 39.222355, -...</td>\n",
       "    </tr>\n",
       "    <tr>\n",
       "      <th>8</th>\n",
       "      <td>[-277.04834, 103.96646, -31.784147, 43.915913,...</td>\n",
       "    </tr>\n",
       "    <tr>\n",
       "      <th>9</th>\n",
       "      <td>[-244.09427, 129.9668, -34.31263, 49.208572, -...</td>\n",
       "    </tr>\n",
       "  </tbody>\n",
       "</table>\n",
       "</div>"
      ],
      "text/plain": [
       "                                               track\n",
       "0  [-269.3485, 101.77115, -35.03285, 37.29702, -3...\n",
       "1  [-254.40703, 117.19196, -33.872215, 0.8692569,...\n",
       "2  [-266.2454, 128.14958, -26.464298, 35.849255, ...\n",
       "3  [-322.96405, 100.21652, -8.45915, 23.041285, -...\n",
       "4  [-289.00134, 121.04054, -24.958841, 24.885279,...\n",
       "5  [-250.80171, 124.63011, -43.520527, 36.56632, ...\n",
       "6  [-274.7371, 111.72691, -33.66937, 42.792572, -...\n",
       "7  [-271.588, 128.47897, -21.678255, 39.222355, -...\n",
       "8  [-277.04834, 103.96646, -31.784147, 43.915913,...\n",
       "9  [-244.09427, 129.9668, -34.31263, 49.208572, -..."
      ]
     },
     "execution_count": 5,
     "metadata": {},
     "output_type": "execute_result"
    }
   ],
   "source": [
    "extracted_features_eval_1=pd.DataFrame(extracted_features_eval_1,columns=['track'])\n",
    "extracted_features_eval_1.head(10)"
   ]
  },
  {
   "cell_type": "code",
   "execution_count": 6,
   "metadata": {},
   "outputs": [],
   "source": [
    "X_eval_1=np.array(extracted_features_eval_1['track'].tolist())"
   ]
  },
  {
   "cell_type": "code",
   "execution_count": 9,
   "metadata": {},
   "outputs": [],
   "source": [
    "prediction_prob_1 = model.predict(X_eval_1)\n",
    "prediction_1 = []\n",
    "for i in prediction_prob_1:\n",
    "    prediction_1.append(np.argmax(i))"
   ]
  },
  {
   "cell_type": "code",
   "execution_count": 10,
   "metadata": {},
   "outputs": [
    {
     "data": {
      "text/html": [
       "<div>\n",
       "<style scoped>\n",
       "    .dataframe tbody tr th:only-of-type {\n",
       "        vertical-align: middle;\n",
       "    }\n",
       "\n",
       "    .dataframe tbody tr th {\n",
       "        vertical-align: top;\n",
       "    }\n",
       "\n",
       "    .dataframe thead th {\n",
       "        text-align: right;\n",
       "    }\n",
       "</style>\n",
       "<table border=\"1\" class=\"dataframe\">\n",
       "  <thead>\n",
       "    <tr style=\"text-align: right;\">\n",
       "      <th></th>\n",
       "      <th>track</th>\n",
       "      <th>algorithm</th>\n",
       "    </tr>\n",
       "    <tr>\n",
       "      <th>id</th>\n",
       "      <th></th>\n",
       "      <th></th>\n",
       "    </tr>\n",
       "  </thead>\n",
       "  <tbody>\n",
       "    <tr>\n",
       "      <th>0</th>\n",
       "      <td>f14498230d583796987a2e9576695384.wav</td>\n",
       "      <td>1</td>\n",
       "    </tr>\n",
       "    <tr>\n",
       "      <th>1</th>\n",
       "      <td>2eb02f5f517ad346de780b22535824c0.wav</td>\n",
       "      <td>1</td>\n",
       "    </tr>\n",
       "    <tr>\n",
       "      <th>2</th>\n",
       "      <td>d14d2f68081e6969b65e30bdb9d67144.wav</td>\n",
       "      <td>3</td>\n",
       "    </tr>\n",
       "    <tr>\n",
       "      <th>3</th>\n",
       "      <td>40b86c3ca31ddb5ea16639e1229b8a7c.wav</td>\n",
       "      <td>5</td>\n",
       "    </tr>\n",
       "    <tr>\n",
       "      <th>4</th>\n",
       "      <td>193eb4a1f4028c84d26e36ef74593fa4.wav</td>\n",
       "      <td>0</td>\n",
       "    </tr>\n",
       "  </tbody>\n",
       "</table>\n",
       "</div>"
      ],
      "text/plain": [
       "                                   track  algorithm\n",
       "id                                                 \n",
       "0   f14498230d583796987a2e9576695384.wav          1\n",
       "1   2eb02f5f517ad346de780b22535824c0.wav          1\n",
       "2   d14d2f68081e6969b65e30bdb9d67144.wav          3\n",
       "3   40b86c3ca31ddb5ea16639e1229b8a7c.wav          5\n",
       "4   193eb4a1f4028c84d26e36ef74593fa4.wav          0"
      ]
     },
     "execution_count": 10,
     "metadata": {},
     "output_type": "execute_result"
    }
   ],
   "source": [
    "eval_df_1[\"algorithm\"] = prediction_1\n",
    "eval_df_1.head()"
   ]
  },
  {
   "cell_type": "code",
   "execution_count": 11,
   "metadata": {},
   "outputs": [],
   "source": [
    "eval_df_1.to_csv(\"answer.txt\",header=None,index=False,sep =',' )"
   ]
  },
  {
   "cell_type": "markdown",
   "metadata": {},
   "source": [
    "# part2 eval"
   ]
  },
  {
   "cell_type": "code",
   "execution_count": 15,
   "metadata": {},
   "outputs": [
    {
     "data": {
      "text/html": [
       "<div>\n",
       "<style scoped>\n",
       "    .dataframe tbody tr th:only-of-type {\n",
       "        vertical-align: middle;\n",
       "    }\n",
       "\n",
       "    .dataframe tbody tr th {\n",
       "        vertical-align: top;\n",
       "    }\n",
       "\n",
       "    .dataframe thead th {\n",
       "        text-align: right;\n",
       "    }\n",
       "</style>\n",
       "<table border=\"1\" class=\"dataframe\">\n",
       "  <thead>\n",
       "    <tr style=\"text-align: right;\">\n",
       "      <th></th>\n",
       "      <th>track</th>\n",
       "    </tr>\n",
       "    <tr>\n",
       "      <th>id</th>\n",
       "      <th></th>\n",
       "    </tr>\n",
       "  </thead>\n",
       "  <tbody>\n",
       "    <tr>\n",
       "      <th>0</th>\n",
       "      <td>36d06279048026b1059236c4b5024f78.wav</td>\n",
       "    </tr>\n",
       "    <tr>\n",
       "      <th>1</th>\n",
       "      <td>49550c0090367cd3bf8353b7c4a8f62a.wav</td>\n",
       "    </tr>\n",
       "    <tr>\n",
       "      <th>2</th>\n",
       "      <td>b336ac2a2b8cf99ff922bbd3d29a68a3.wav</td>\n",
       "    </tr>\n",
       "    <tr>\n",
       "      <th>3</th>\n",
       "      <td>aac54fb7d3a8ba2991b6222100560fd4.wav</td>\n",
       "    </tr>\n",
       "    <tr>\n",
       "      <th>4</th>\n",
       "      <td>9e5e48d5b4b147bb50dd4bf851b182c5.wav</td>\n",
       "    </tr>\n",
       "  </tbody>\n",
       "</table>\n",
       "</div>"
      ],
      "text/plain": [
       "                                   track\n",
       "id                                      \n",
       "0   36d06279048026b1059236c4b5024f78.wav\n",
       "1   49550c0090367cd3bf8353b7c4a8f62a.wav\n",
       "2   b336ac2a2b8cf99ff922bbd3d29a68a3.wav\n",
       "3   aac54fb7d3a8ba2991b6222100560fd4.wav\n",
       "4   9e5e48d5b4b147bb50dd4bf851b182c5.wav"
      ]
     },
     "execution_count": 15,
     "metadata": {},
     "output_type": "execute_result"
    }
   ],
   "source": [
    "eval_file = 'spcup_2022_eval_part2\\labels_eval_part2.csv'\n",
    "eval_df = pd.read_csv(eval_file,index_col='id')\n",
    "eval_df.head()"
   ]
  },
  {
   "cell_type": "code",
   "execution_count": null,
   "metadata": {},
   "outputs": [],
   "source": [
    "'''extracted_features_eval=[]\n",
    "for index_num,row in tqdm(eval_df.iterrows()):\n",
    "    file_name = os.path.join('spcup_2022_eval_part2/'+row[\"track\"])\n",
    "    audio, sample_rate = librosa.load(file_name, res_type='kaiser_fast') \n",
    "    end=np.int(len(audio)/sample_rate)\n",
    "    audio_splitted = [audio[x:x+sample_rate] for x in range(0, sample_rate*end, sample_rate)]\n",
    "    data=features_extractor(audio_splitted[0],sample_rate)\n",
    "    extracted_features_eval.append([data])'''"
   ]
  },
  {
   "cell_type": "code",
   "execution_count": 17,
   "metadata": {},
   "outputs": [
    {
     "name": "stderr",
     "output_type": "stream",
     "text": [
      "9000it [10:33, 14.21it/s]\n"
     ]
    }
   ],
   "source": [
    "extracted_features_eval_2=[]\n",
    "for index_num,row in tqdm(eval_df.iterrows()):\n",
    "    file_name = os.path.join('spcup_2022_eval_part2/'+row[\"track\"])\n",
    "    data=features_extractor(file_name)\n",
    "    extracted_features_eval_2.append([data])"
   ]
  },
  {
   "cell_type": "code",
   "execution_count": 18,
   "metadata": {},
   "outputs": [
    {
     "data": {
      "text/plain": [
       "9000"
      ]
     },
     "execution_count": 18,
     "metadata": {},
     "output_type": "execute_result"
    }
   ],
   "source": [
    "len(extracted_features_eval_2)"
   ]
  },
  {
   "cell_type": "code",
   "execution_count": 25,
   "metadata": {},
   "outputs": [
    {
     "data": {
      "text/html": [
       "<div>\n",
       "<style scoped>\n",
       "    .dataframe tbody tr th:only-of-type {\n",
       "        vertical-align: middle;\n",
       "    }\n",
       "\n",
       "    .dataframe tbody tr th {\n",
       "        vertical-align: top;\n",
       "    }\n",
       "\n",
       "    .dataframe thead th {\n",
       "        text-align: right;\n",
       "    }\n",
       "</style>\n",
       "<table border=\"1\" class=\"dataframe\">\n",
       "  <thead>\n",
       "    <tr style=\"text-align: right;\">\n",
       "      <th></th>\n",
       "      <th>track</th>\n",
       "    </tr>\n",
       "  </thead>\n",
       "  <tbody>\n",
       "    <tr>\n",
       "      <th>0</th>\n",
       "      <td>[-252.06316, 102.79661, -34.25687, 32.8102, -1...</td>\n",
       "    </tr>\n",
       "    <tr>\n",
       "      <th>1</th>\n",
       "      <td>[-217.5, 155.75189, -40.948097, 26.650967, -48...</td>\n",
       "    </tr>\n",
       "    <tr>\n",
       "      <th>2</th>\n",
       "      <td>[-226.81558, 111.22206, -39.41207, 52.268227, ...</td>\n",
       "    </tr>\n",
       "    <tr>\n",
       "      <th>3</th>\n",
       "      <td>[-217.39687, 144.88513, -14.431101, 44.094284,...</td>\n",
       "    </tr>\n",
       "    <tr>\n",
       "      <th>4</th>\n",
       "      <td>[-181.93166, 99.656815, -40.09121, 50.302208, ...</td>\n",
       "    </tr>\n",
       "    <tr>\n",
       "      <th>5</th>\n",
       "      <td>[-230.64337, 105.57649, -28.95027, 36.710648, ...</td>\n",
       "    </tr>\n",
       "    <tr>\n",
       "      <th>6</th>\n",
       "      <td>[-259.627, 98.315926, -28.219276, 40.902798, -...</td>\n",
       "    </tr>\n",
       "    <tr>\n",
       "      <th>7</th>\n",
       "      <td>[-226.88246, 99.27213, -35.086525, 41.1946, -3...</td>\n",
       "    </tr>\n",
       "    <tr>\n",
       "      <th>8</th>\n",
       "      <td>[-213.4795, 138.24318, -44.687325, 39.379116, ...</td>\n",
       "    </tr>\n",
       "    <tr>\n",
       "      <th>9</th>\n",
       "      <td>[-190.11365, 107.10865, -46.241817, 49.16183, ...</td>\n",
       "    </tr>\n",
       "  </tbody>\n",
       "</table>\n",
       "</div>"
      ],
      "text/plain": [
       "                                               track\n",
       "0  [-252.06316, 102.79661, -34.25687, 32.8102, -1...\n",
       "1  [-217.5, 155.75189, -40.948097, 26.650967, -48...\n",
       "2  [-226.81558, 111.22206, -39.41207, 52.268227, ...\n",
       "3  [-217.39687, 144.88513, -14.431101, 44.094284,...\n",
       "4  [-181.93166, 99.656815, -40.09121, 50.302208, ...\n",
       "5  [-230.64337, 105.57649, -28.95027, 36.710648, ...\n",
       "6  [-259.627, 98.315926, -28.219276, 40.902798, -...\n",
       "7  [-226.88246, 99.27213, -35.086525, 41.1946, -3...\n",
       "8  [-213.4795, 138.24318, -44.687325, 39.379116, ...\n",
       "9  [-190.11365, 107.10865, -46.241817, 49.16183, ..."
      ]
     },
     "execution_count": 25,
     "metadata": {},
     "output_type": "execute_result"
    }
   ],
   "source": [
    "extracted_features_eval_2=pd.DataFrame(extracted_features_eval_2,columns=['track'])\n",
    "extracted_features_eval_2.head(10)"
   ]
  },
  {
   "cell_type": "code",
   "execution_count": 26,
   "metadata": {},
   "outputs": [],
   "source": [
    "X_eval=np.array(extracted_features_eval_2['track'].tolist())"
   ]
  },
  {
   "cell_type": "code",
   "execution_count": 27,
   "metadata": {},
   "outputs": [],
   "source": [
    "prediction_prob = model.predict(X_eval)\n",
    "prediction = []\n",
    "for i in prediction_prob:\n",
    "    prediction.append(np.argmax(i))"
   ]
  },
  {
   "cell_type": "code",
   "execution_count": 28,
   "metadata": {},
   "outputs": [
    {
     "data": {
      "text/html": [
       "<div>\n",
       "<style scoped>\n",
       "    .dataframe tbody tr th:only-of-type {\n",
       "        vertical-align: middle;\n",
       "    }\n",
       "\n",
       "    .dataframe tbody tr th {\n",
       "        vertical-align: top;\n",
       "    }\n",
       "\n",
       "    .dataframe thead th {\n",
       "        text-align: right;\n",
       "    }\n",
       "</style>\n",
       "<table border=\"1\" class=\"dataframe\">\n",
       "  <thead>\n",
       "    <tr style=\"text-align: right;\">\n",
       "      <th></th>\n",
       "      <th>track</th>\n",
       "      <th>algorithm</th>\n",
       "    </tr>\n",
       "    <tr>\n",
       "      <th>id</th>\n",
       "      <th></th>\n",
       "      <th></th>\n",
       "    </tr>\n",
       "  </thead>\n",
       "  <tbody>\n",
       "    <tr>\n",
       "      <th>0</th>\n",
       "      <td>36d06279048026b1059236c4b5024f78.wav</td>\n",
       "      <td>0</td>\n",
       "    </tr>\n",
       "    <tr>\n",
       "      <th>1</th>\n",
       "      <td>49550c0090367cd3bf8353b7c4a8f62a.wav</td>\n",
       "      <td>1</td>\n",
       "    </tr>\n",
       "    <tr>\n",
       "      <th>2</th>\n",
       "      <td>b336ac2a2b8cf99ff922bbd3d29a68a3.wav</td>\n",
       "      <td>1</td>\n",
       "    </tr>\n",
       "    <tr>\n",
       "      <th>3</th>\n",
       "      <td>aac54fb7d3a8ba2991b6222100560fd4.wav</td>\n",
       "      <td>4</td>\n",
       "    </tr>\n",
       "    <tr>\n",
       "      <th>4</th>\n",
       "      <td>9e5e48d5b4b147bb50dd4bf851b182c5.wav</td>\n",
       "      <td>3</td>\n",
       "    </tr>\n",
       "  </tbody>\n",
       "</table>\n",
       "</div>"
      ],
      "text/plain": [
       "                                   track  algorithm\n",
       "id                                                 \n",
       "0   36d06279048026b1059236c4b5024f78.wav          0\n",
       "1   49550c0090367cd3bf8353b7c4a8f62a.wav          1\n",
       "2   b336ac2a2b8cf99ff922bbd3d29a68a3.wav          1\n",
       "3   aac54fb7d3a8ba2991b6222100560fd4.wav          4\n",
       "4   9e5e48d5b4b147bb50dd4bf851b182c5.wav          3"
      ]
     },
     "execution_count": 28,
     "metadata": {},
     "output_type": "execute_result"
    }
   ],
   "source": [
    "eval_df[\"algorithm\"] = prediction\n",
    "eval_df.head()"
   ]
  },
  {
   "cell_type": "code",
   "execution_count": 23,
   "metadata": {},
   "outputs": [],
   "source": [
    "eval_df.to_csv(\"answer.txt\",header=None,index=False,sep =',' )"
   ]
  }
 ],
 "metadata": {
  "interpreter": {
   "hash": "acb22a8b69de88320319ef34cebc68b783b44c7a14d82e341757e6edeba099a7"
  },
  "kernelspec": {
   "display_name": "Python 3.7.8 64-bit ('cv': venv)",
   "language": "python",
   "name": "python3"
  },
  "language_info": {
   "codemirror_mode": {
    "name": "ipython",
    "version": 3
   },
   "file_extension": ".py",
   "mimetype": "text/x-python",
   "name": "python",
   "nbconvert_exporter": "python",
   "pygments_lexer": "ipython3",
   "version": "3.7.8"
  },
  "orig_nbformat": 4
 },
 "nbformat": 4,
 "nbformat_minor": 2
}
