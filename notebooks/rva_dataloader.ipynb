{
 "cells": [
  {
   "cell_type": "code",
   "execution_count": 7,
   "metadata": {},
   "outputs": [],
   "source": [
    "import os\n",
    "import json\n",
    "import librosa\n",
    "import pandas as pd\n",
    "import numpy as np\n",
    "import soundfile as sf\n",
    "from PIL import Image\n",
    "import cv2\n",
    "from sklearn.model_selection import train_test_split"
   ]
  },
  {
   "cell_type": "code",
   "execution_count": 5,
   "metadata": {},
   "outputs": [],
   "source": [
    "DATA_PATH = '../data/spcup_2022_training_part1'\n",
    "IMAGE_PATH = '../data/images'\n",
    "Labeled_dir = '../data/spcup_2022_training_part1/labels.csv'\n",
    "desc_path = '../data/train_data.csv'"
   ]
  },
  {
   "cell_type": "code",
   "execution_count": 4,
   "metadata": {},
   "outputs": [
    {
     "data": {
      "text/html": [
       "<div>\n",
       "<style scoped>\n",
       "    .dataframe tbody tr th:only-of-type {\n",
       "        vertical-align: middle;\n",
       "    }\n",
       "\n",
       "    .dataframe tbody tr th {\n",
       "        vertical-align: top;\n",
       "    }\n",
       "\n",
       "    .dataframe thead th {\n",
       "        text-align: right;\n",
       "    }\n",
       "</style>\n",
       "<table border=\"1\" class=\"dataframe\">\n",
       "  <thead>\n",
       "    <tr style=\"text-align: right;\">\n",
       "      <th></th>\n",
       "      <th>track</th>\n",
       "      <th>algorithm</th>\n",
       "    </tr>\n",
       "  </thead>\n",
       "  <tbody>\n",
       "    <tr>\n",
       "      <th>0</th>\n",
       "      <td>00050dd7458cf08e594c797930696bce.wav</td>\n",
       "      <td>4</td>\n",
       "    </tr>\n",
       "    <tr>\n",
       "      <th>1</th>\n",
       "      <td>00070e7c531000d3dddc735d107275a9.wav</td>\n",
       "      <td>2</td>\n",
       "    </tr>\n",
       "    <tr>\n",
       "      <th>2</th>\n",
       "      <td>000f0711027a69b7f3886c2dbcb7d41f.wav</td>\n",
       "      <td>3</td>\n",
       "    </tr>\n",
       "    <tr>\n",
       "      <th>3</th>\n",
       "      <td>001e28e66dee24408aaf3480dfb95fbe.wav</td>\n",
       "      <td>1</td>\n",
       "    </tr>\n",
       "    <tr>\n",
       "      <th>4</th>\n",
       "      <td>001eee950f60613869544b72cd48fe97.wav</td>\n",
       "      <td>2</td>\n",
       "    </tr>\n",
       "  </tbody>\n",
       "</table>\n",
       "</div>"
      ],
      "text/plain": [
       "                                  track  algorithm\n",
       "0  00050dd7458cf08e594c797930696bce.wav          4\n",
       "1  00070e7c531000d3dddc735d107275a9.wav          2\n",
       "2  000f0711027a69b7f3886c2dbcb7d41f.wav          3\n",
       "3  001e28e66dee24408aaf3480dfb95fbe.wav          1\n",
       "4  001eee950f60613869544b72cd48fe97.wav          2"
      ]
     },
     "execution_count": 4,
     "metadata": {},
     "output_type": "execute_result"
    }
   ],
   "source": [
    "label_df = pd.read_csv(Labeled_dir)\n",
    "label_df.head()"
   ]
  },
  {
   "cell_type": "code",
   "execution_count": 5,
   "metadata": {},
   "outputs": [
    {
     "data": {
      "text/html": [
       "<div>\n",
       "<style scoped>\n",
       "    .dataframe tbody tr th:only-of-type {\n",
       "        vertical-align: middle;\n",
       "    }\n",
       "\n",
       "    .dataframe tbody tr th {\n",
       "        vertical-align: top;\n",
       "    }\n",
       "\n",
       "    .dataframe thead th {\n",
       "        text-align: right;\n",
       "    }\n",
       "</style>\n",
       "<table border=\"1\" class=\"dataframe\">\n",
       "  <thead>\n",
       "    <tr style=\"text-align: right;\">\n",
       "      <th></th>\n",
       "      <th>track</th>\n",
       "      <th>algorithm</th>\n",
       "      <th>wav_path</th>\n",
       "    </tr>\n",
       "  </thead>\n",
       "  <tbody>\n",
       "    <tr>\n",
       "      <th>0</th>\n",
       "      <td>00050dd7458cf08e594c797930696bce.wav</td>\n",
       "      <td>4</td>\n",
       "      <td>../data/spcup_2022_training_part1/00050dd7458c...</td>\n",
       "    </tr>\n",
       "    <tr>\n",
       "      <th>1</th>\n",
       "      <td>00070e7c531000d3dddc735d107275a9.wav</td>\n",
       "      <td>2</td>\n",
       "      <td>../data/spcup_2022_training_part1/00070e7c5310...</td>\n",
       "    </tr>\n",
       "    <tr>\n",
       "      <th>2</th>\n",
       "      <td>000f0711027a69b7f3886c2dbcb7d41f.wav</td>\n",
       "      <td>3</td>\n",
       "      <td>../data/spcup_2022_training_part1/000f0711027a...</td>\n",
       "    </tr>\n",
       "    <tr>\n",
       "      <th>3</th>\n",
       "      <td>001e28e66dee24408aaf3480dfb95fbe.wav</td>\n",
       "      <td>1</td>\n",
       "      <td>../data/spcup_2022_training_part1/001e28e66dee...</td>\n",
       "    </tr>\n",
       "    <tr>\n",
       "      <th>4</th>\n",
       "      <td>001eee950f60613869544b72cd48fe97.wav</td>\n",
       "      <td>2</td>\n",
       "      <td>../data/spcup_2022_training_part1/001eee950f60...</td>\n",
       "    </tr>\n",
       "  </tbody>\n",
       "</table>\n",
       "</div>"
      ],
      "text/plain": [
       "                                  track  algorithm  \\\n",
       "0  00050dd7458cf08e594c797930696bce.wav          4   \n",
       "1  00070e7c531000d3dddc735d107275a9.wav          2   \n",
       "2  000f0711027a69b7f3886c2dbcb7d41f.wav          3   \n",
       "3  001e28e66dee24408aaf3480dfb95fbe.wav          1   \n",
       "4  001eee950f60613869544b72cd48fe97.wav          2   \n",
       "\n",
       "                                            wav_path  \n",
       "0  ../data/spcup_2022_training_part1/00050dd7458c...  \n",
       "1  ../data/spcup_2022_training_part1/00070e7c5310...  \n",
       "2  ../data/spcup_2022_training_part1/000f0711027a...  \n",
       "3  ../data/spcup_2022_training_part1/001e28e66dee...  \n",
       "4  ../data/spcup_2022_training_part1/001eee950f60...  "
      ]
     },
     "execution_count": 5,
     "metadata": {},
     "output_type": "execute_result"
    }
   ],
   "source": [
    "label_df['wav_path'] = label_df['track'].map(lambda x: DATA_PATH+'/'+x)\n",
    "label_df.head()"
   ]
  },
  {
   "cell_type": "code",
   "execution_count": 6,
   "metadata": {},
   "outputs": [],
   "source": [
    "spect_type = 'mel'\n",
    "def get_image(wav_path):\n",
    "    y, sr = librosa.load(wav_path)\n",
    "    if spect_type == 'stft':\n",
    "        D = librosa.stft(y)  # STFT of y\n",
    "        spec = librosa.amplitude_to_db(np.abs(D), ref=np.max)\n",
    "    elif spect_type == 'mel':\n",
    "        M = librosa.feature.melspectrogram(y=y, sr=sr)\n",
    "        spec = librosa.power_to_db(M, ref=np.max)\n",
    "    elif spect_type == 'chroma':\n",
    "        spec = librosa.feature.chroma_cqt(y=y, sr=sr)\n",
    "\n",
    "    return spec"
   ]
  },
  {
   "cell_type": "code",
   "execution_count": 7,
   "metadata": {},
   "outputs": [
    {
     "data": {
      "text/html": [
       "<div>\n",
       "<style scoped>\n",
       "    .dataframe tbody tr th:only-of-type {\n",
       "        vertical-align: middle;\n",
       "    }\n",
       "\n",
       "    .dataframe tbody tr th {\n",
       "        vertical-align: top;\n",
       "    }\n",
       "\n",
       "    .dataframe thead th {\n",
       "        text-align: right;\n",
       "    }\n",
       "</style>\n",
       "<table border=\"1\" class=\"dataframe\">\n",
       "  <thead>\n",
       "    <tr style=\"text-align: right;\">\n",
       "      <th></th>\n",
       "      <th>track</th>\n",
       "      <th>algorithm</th>\n",
       "      <th>wav_path</th>\n",
       "      <th>image_path</th>\n",
       "    </tr>\n",
       "  </thead>\n",
       "  <tbody>\n",
       "    <tr>\n",
       "      <th>0</th>\n",
       "      <td>00050dd7458cf08e594c797930696bce.wav</td>\n",
       "      <td>4</td>\n",
       "      <td>../data/spcup_2022_training_part1/00050dd7458c...</td>\n",
       "      <td>[[-77.97527, -63.775597, -59.59822, -54.112976...</td>\n",
       "    </tr>\n",
       "    <tr>\n",
       "      <th>1</th>\n",
       "      <td>00070e7c531000d3dddc735d107275a9.wav</td>\n",
       "      <td>2</td>\n",
       "      <td>../data/spcup_2022_training_part1/00070e7c5310...</td>\n",
       "      <td>[[-62.508484, -54.88949, -57.50805, -61.510017...</td>\n",
       "    </tr>\n",
       "    <tr>\n",
       "      <th>2</th>\n",
       "      <td>000f0711027a69b7f3886c2dbcb7d41f.wav</td>\n",
       "      <td>3</td>\n",
       "      <td>../data/spcup_2022_training_part1/000f0711027a...</td>\n",
       "      <td>[[-66.01921, -66.485886, -64.43065, -61.471973...</td>\n",
       "    </tr>\n",
       "    <tr>\n",
       "      <th>3</th>\n",
       "      <td>001e28e66dee24408aaf3480dfb95fbe.wav</td>\n",
       "      <td>1</td>\n",
       "      <td>../data/spcup_2022_training_part1/001e28e66dee...</td>\n",
       "      <td>[[-65.137115, -61.9981, -62.22146, -67.04489, ...</td>\n",
       "    </tr>\n",
       "    <tr>\n",
       "      <th>4</th>\n",
       "      <td>001eee950f60613869544b72cd48fe97.wav</td>\n",
       "      <td>2</td>\n",
       "      <td>../data/spcup_2022_training_part1/001eee950f60...</td>\n",
       "      <td>[[-68.83245, -59.767883, -55.963326, -54.93239...</td>\n",
       "    </tr>\n",
       "  </tbody>\n",
       "</table>\n",
       "</div>"
      ],
      "text/plain": [
       "                                  track  algorithm  \\\n",
       "0  00050dd7458cf08e594c797930696bce.wav          4   \n",
       "1  00070e7c531000d3dddc735d107275a9.wav          2   \n",
       "2  000f0711027a69b7f3886c2dbcb7d41f.wav          3   \n",
       "3  001e28e66dee24408aaf3480dfb95fbe.wav          1   \n",
       "4  001eee950f60613869544b72cd48fe97.wav          2   \n",
       "\n",
       "                                            wav_path  \\\n",
       "0  ../data/spcup_2022_training_part1/00050dd7458c...   \n",
       "1  ../data/spcup_2022_training_part1/00070e7c5310...   \n",
       "2  ../data/spcup_2022_training_part1/000f0711027a...   \n",
       "3  ../data/spcup_2022_training_part1/001e28e66dee...   \n",
       "4  ../data/spcup_2022_training_part1/001eee950f60...   \n",
       "\n",
       "                                          image_path  \n",
       "0  [[-77.97527, -63.775597, -59.59822, -54.112976...  \n",
       "1  [[-62.508484, -54.88949, -57.50805, -61.510017...  \n",
       "2  [[-66.01921, -66.485886, -64.43065, -61.471973...  \n",
       "3  [[-65.137115, -61.9981, -62.22146, -67.04489, ...  \n",
       "4  [[-68.83245, -59.767883, -55.963326, -54.93239...  "
      ]
     },
     "execution_count": 7,
     "metadata": {},
     "output_type": "execute_result"
    }
   ],
   "source": [
    "label_df['image_path'] = label_df['wav_path'].map(lambda x: get_image(x))\n",
    "label_df.head()"
   ]
  },
  {
   "cell_type": "code",
   "execution_count": 8,
   "metadata": {},
   "outputs": [],
   "source": [
    "from sklearn.model_selection import train_test_split"
   ]
  },
  {
   "cell_type": "code",
   "execution_count": 9,
   "metadata": {},
   "outputs": [],
   "source": [
    "X, y = label_df['image_path'].values, label_df['algorithm'].values\n",
    "# stratified split dataset into train-validation\n",
    "X_train, X_test, y_train, y_test = train_test_split(X, y, stratify=y, test_size=0.1)"
   ]
  },
  {
   "cell_type": "code",
   "execution_count": null,
   "metadata": {},
   "outputs": [],
   "source": [
    "for i in X_train[:100]:\n",
    "    print(i.shape)"
   ]
  },
  {
   "cell_type": "code",
   "execution_count": 12,
   "metadata": {},
   "outputs": [
    {
     "data": {
      "text/plain": [
       "array([[98, 99, 90],\n",
       "       [ 8,  9,  0],\n",
       "       [18, 19, 10]])"
      ]
     },
     "execution_count": 12,
     "metadata": {},
     "output_type": "execute_result"
    }
   ],
   "source": [
    "a = np.arange(100).reshape((10,10))\n",
    "a.take([8,9,10], mode=\"wrap\", axis=1).take([9,10,11], mode=\"wrap\", axis=0)"
   ]
  },
  {
   "cell_type": "code",
   "execution_count": 15,
   "metadata": {},
   "outputs": [],
   "source": [
    "result = np.zeros([12, 13])\n",
    "result[:a.shape[0],:a.shape[1]] = a"
   ]
  },
  {
   "cell_type": "code",
   "execution_count": 16,
   "metadata": {},
   "outputs": [
    {
     "data": {
      "text/plain": [
       "array([[ 0.,  1.,  2.,  3.,  4.,  5.,  6.,  7.,  8.,  9.,  0.,  0.,  0.],\n",
       "       [10., 11., 12., 13., 14., 15., 16., 17., 18., 19.,  0.,  0.,  0.],\n",
       "       [20., 21., 22., 23., 24., 25., 26., 27., 28., 29.,  0.,  0.,  0.],\n",
       "       [30., 31., 32., 33., 34., 35., 36., 37., 38., 39.,  0.,  0.,  0.],\n",
       "       [40., 41., 42., 43., 44., 45., 46., 47., 48., 49.,  0.,  0.,  0.],\n",
       "       [50., 51., 52., 53., 54., 55., 56., 57., 58., 59.,  0.,  0.,  0.],\n",
       "       [60., 61., 62., 63., 64., 65., 66., 67., 68., 69.,  0.,  0.,  0.],\n",
       "       [70., 71., 72., 73., 74., 75., 76., 77., 78., 79.,  0.,  0.,  0.],\n",
       "       [80., 81., 82., 83., 84., 85., 86., 87., 88., 89.,  0.,  0.,  0.],\n",
       "       [90., 91., 92., 93., 94., 95., 96., 97., 98., 99.,  0.,  0.,  0.],\n",
       "       [ 0.,  0.,  0.,  0.,  0.,  0.,  0.,  0.,  0.,  0.,  0.,  0.,  0.],\n",
       "       [ 0.,  0.,  0.,  0.,  0.,  0.,  0.,  0.,  0.,  0.,  0.,  0.,  0.]])"
      ]
     },
     "execution_count": 16,
     "metadata": {},
     "output_type": "execute_result"
    }
   ],
   "source": [
    "result"
   ]
  },
  {
   "cell_type": "code",
   "execution_count": 19,
   "metadata": {},
   "outputs": [],
   "source": [
    "def crop_with_padd(image, size=(128,128)):\n",
    "    image = image[:size[0], :size[1]]\n",
    "    result = np.zeros(size)\n",
    "    result[:image.shape[0], :image.shape[1]] = image\n",
    "    return result"
   ]
  },
  {
   "cell_type": "code",
   "execution_count": 20,
   "metadata": {},
   "outputs": [],
   "source": [
    "X_train = np.array([crop_with_padd(i) for i in X_train])\n",
    "X_test = np.array([crop_with_padd(i) for i in X_test])"
   ]
  },
  {
   "cell_type": "markdown",
   "metadata": {},
   "source": [
    "***"
   ]
  },
  {
   "cell_type": "code",
   "execution_count": 3,
   "metadata": {},
   "outputs": [
    {
     "data": {
      "text/html": [
       "<div>\n",
       "<style scoped>\n",
       "    .dataframe tbody tr th:only-of-type {\n",
       "        vertical-align: middle;\n",
       "    }\n",
       "\n",
       "    .dataframe tbody tr th {\n",
       "        vertical-align: top;\n",
       "    }\n",
       "\n",
       "    .dataframe thead th {\n",
       "        text-align: right;\n",
       "    }\n",
       "</style>\n",
       "<table border=\"1\" class=\"dataframe\">\n",
       "  <thead>\n",
       "    <tr style=\"text-align: right;\">\n",
       "      <th></th>\n",
       "      <th>audio_id</th>\n",
       "      <th>label</th>\n",
       "      <th>wav</th>\n",
       "      <th>image</th>\n",
       "    </tr>\n",
       "  </thead>\n",
       "  <tbody>\n",
       "    <tr>\n",
       "      <th>0</th>\n",
       "      <td>00050dd7458cf08e594c797930696bce</td>\n",
       "      <td>4</td>\n",
       "      <td>../data/spcup_2022_training_part1/00050dd7458c...</td>\n",
       "      <td>../data/images/00050dd7458cf08e594c797930696bc...</td>\n",
       "    </tr>\n",
       "    <tr>\n",
       "      <th>1</th>\n",
       "      <td>00070e7c531000d3dddc735d107275a9</td>\n",
       "      <td>2</td>\n",
       "      <td>../data/spcup_2022_training_part1/00070e7c5310...</td>\n",
       "      <td>../data/images/00070e7c531000d3dddc735d107275a...</td>\n",
       "    </tr>\n",
       "    <tr>\n",
       "      <th>2</th>\n",
       "      <td>000f0711027a69b7f3886c2dbcb7d41f</td>\n",
       "      <td>3</td>\n",
       "      <td>../data/spcup_2022_training_part1/000f0711027a...</td>\n",
       "      <td>../data/images/000f0711027a69b7f3886c2dbcb7d41...</td>\n",
       "    </tr>\n",
       "    <tr>\n",
       "      <th>3</th>\n",
       "      <td>001e28e66dee24408aaf3480dfb95fbe</td>\n",
       "      <td>1</td>\n",
       "      <td>../data/spcup_2022_training_part1/001e28e66dee...</td>\n",
       "      <td>../data/images/001e28e66dee24408aaf3480dfb95fb...</td>\n",
       "    </tr>\n",
       "    <tr>\n",
       "      <th>4</th>\n",
       "      <td>001eee950f60613869544b72cd48fe97</td>\n",
       "      <td>2</td>\n",
       "      <td>../data/spcup_2022_training_part1/001eee950f60...</td>\n",
       "      <td>../data/images/001eee950f60613869544b72cd48fe9...</td>\n",
       "    </tr>\n",
       "  </tbody>\n",
       "</table>\n",
       "</div>"
      ],
      "text/plain": [
       "                           audio_id  label  \\\n",
       "0  00050dd7458cf08e594c797930696bce      4   \n",
       "1  00070e7c531000d3dddc735d107275a9      2   \n",
       "2  000f0711027a69b7f3886c2dbcb7d41f      3   \n",
       "3  001e28e66dee24408aaf3480dfb95fbe      1   \n",
       "4  001eee950f60613869544b72cd48fe97      2   \n",
       "\n",
       "                                                 wav  \\\n",
       "0  ../data/spcup_2022_training_part1/00050dd7458c...   \n",
       "1  ../data/spcup_2022_training_part1/00070e7c5310...   \n",
       "2  ../data/spcup_2022_training_part1/000f0711027a...   \n",
       "3  ../data/spcup_2022_training_part1/001e28e66dee...   \n",
       "4  ../data/spcup_2022_training_part1/001eee950f60...   \n",
       "\n",
       "                                               image  \n",
       "0  ../data/images/00050dd7458cf08e594c797930696bc...  \n",
       "1  ../data/images/00070e7c531000d3dddc735d107275a...  \n",
       "2  ../data/images/000f0711027a69b7f3886c2dbcb7d41...  \n",
       "3  ../data/images/001e28e66dee24408aaf3480dfb95fb...  \n",
       "4  ../data/images/001eee950f60613869544b72cd48fe9...  "
      ]
     },
     "execution_count": 3,
     "metadata": {},
     "output_type": "execute_result"
    }
   ],
   "source": [
    "desc_df = pd.read_csv('../data/train_data.csv')\n",
    "desc_df.head()"
   ]
  },
  {
   "cell_type": "code",
   "execution_count": 4,
   "metadata": {},
   "outputs": [],
   "source": [
    "import cv2"
   ]
  },
  {
   "cell_type": "code",
   "execution_count": 5,
   "metadata": {},
   "outputs": [
    {
     "data": {
      "text/html": [
       "<div>\n",
       "<style scoped>\n",
       "    .dataframe tbody tr th:only-of-type {\n",
       "        vertical-align: middle;\n",
       "    }\n",
       "\n",
       "    .dataframe tbody tr th {\n",
       "        vertical-align: top;\n",
       "    }\n",
       "\n",
       "    .dataframe thead th {\n",
       "        text-align: right;\n",
       "    }\n",
       "</style>\n",
       "<table border=\"1\" class=\"dataframe\">\n",
       "  <thead>\n",
       "    <tr style=\"text-align: right;\">\n",
       "      <th></th>\n",
       "      <th>audio_id</th>\n",
       "      <th>label</th>\n",
       "      <th>wav</th>\n",
       "      <th>image</th>\n",
       "      <th>image_np</th>\n",
       "    </tr>\n",
       "  </thead>\n",
       "  <tbody>\n",
       "    <tr>\n",
       "      <th>0</th>\n",
       "      <td>00050dd7458cf08e594c797930696bce</td>\n",
       "      <td>4</td>\n",
       "      <td>../data/spcup_2022_training_part1/00050dd7458c...</td>\n",
       "      <td>../data/images/00050dd7458cf08e594c797930696bc...</td>\n",
       "      <td>[[[149, 149, 149], [122, 122, 122], [163, 163,...</td>\n",
       "    </tr>\n",
       "    <tr>\n",
       "      <th>1</th>\n",
       "      <td>00070e7c531000d3dddc735d107275a9</td>\n",
       "      <td>2</td>\n",
       "      <td>../data/spcup_2022_training_part1/00070e7c5310...</td>\n",
       "      <td>../data/images/00070e7c531000d3dddc735d107275a...</td>\n",
       "      <td>[[[42, 42, 42], [73, 73, 73], [184, 184, 184],...</td>\n",
       "    </tr>\n",
       "    <tr>\n",
       "      <th>2</th>\n",
       "      <td>000f0711027a69b7f3886c2dbcb7d41f</td>\n",
       "      <td>3</td>\n",
       "      <td>../data/spcup_2022_training_part1/000f0711027a...</td>\n",
       "      <td>../data/images/000f0711027a69b7f3886c2dbcb7d41...</td>\n",
       "      <td>[[[107, 107, 107], [145, 145, 145], [211, 211,...</td>\n",
       "    </tr>\n",
       "    <tr>\n",
       "      <th>3</th>\n",
       "      <td>001e28e66dee24408aaf3480dfb95fbe</td>\n",
       "      <td>1</td>\n",
       "      <td>../data/spcup_2022_training_part1/001e28e66dee...</td>\n",
       "      <td>../data/images/001e28e66dee24408aaf3480dfb95fb...</td>\n",
       "      <td>[[[48, 48, 48], [241, 241, 241], [6, 6, 6], [5...</td>\n",
       "    </tr>\n",
       "    <tr>\n",
       "      <th>4</th>\n",
       "      <td>001eee950f60613869544b72cd48fe97</td>\n",
       "      <td>2</td>\n",
       "      <td>../data/spcup_2022_training_part1/001eee950f60...</td>\n",
       "      <td>../data/images/001eee950f60613869544b72cd48fe9...</td>\n",
       "      <td>[[[83, 83, 83], [169, 169, 169], [66, 66, 66],...</td>\n",
       "    </tr>\n",
       "  </tbody>\n",
       "</table>\n",
       "</div>"
      ],
      "text/plain": [
       "                           audio_id  label  \\\n",
       "0  00050dd7458cf08e594c797930696bce      4   \n",
       "1  00070e7c531000d3dddc735d107275a9      2   \n",
       "2  000f0711027a69b7f3886c2dbcb7d41f      3   \n",
       "3  001e28e66dee24408aaf3480dfb95fbe      1   \n",
       "4  001eee950f60613869544b72cd48fe97      2   \n",
       "\n",
       "                                                 wav  \\\n",
       "0  ../data/spcup_2022_training_part1/00050dd7458c...   \n",
       "1  ../data/spcup_2022_training_part1/00070e7c5310...   \n",
       "2  ../data/spcup_2022_training_part1/000f0711027a...   \n",
       "3  ../data/spcup_2022_training_part1/001e28e66dee...   \n",
       "4  ../data/spcup_2022_training_part1/001eee950f60...   \n",
       "\n",
       "                                               image  \\\n",
       "0  ../data/images/00050dd7458cf08e594c797930696bc...   \n",
       "1  ../data/images/00070e7c531000d3dddc735d107275a...   \n",
       "2  ../data/images/000f0711027a69b7f3886c2dbcb7d41...   \n",
       "3  ../data/images/001e28e66dee24408aaf3480dfb95fb...   \n",
       "4  ../data/images/001eee950f60613869544b72cd48fe9...   \n",
       "\n",
       "                                            image_np  \n",
       "0  [[[149, 149, 149], [122, 122, 122], [163, 163,...  \n",
       "1  [[[42, 42, 42], [73, 73, 73], [184, 184, 184],...  \n",
       "2  [[[107, 107, 107], [145, 145, 145], [211, 211,...  \n",
       "3  [[[48, 48, 48], [241, 241, 241], [6, 6, 6], [5...  \n",
       "4  [[[83, 83, 83], [169, 169, 169], [66, 66, 66],...  "
      ]
     },
     "execution_count": 5,
     "metadata": {},
     "output_type": "execute_result"
    }
   ],
   "source": [
    "desc_df['image_np'] = desc_df['image'].map(lambda x: cv2.imread(x))\n",
    "desc_df.head()"
   ]
  },
  {
   "cell_type": "code",
   "execution_count": 6,
   "metadata": {},
   "outputs": [
    {
     "data": {
      "text/plain": [
       "(128, 256, 3)"
      ]
     },
     "execution_count": 6,
     "metadata": {},
     "output_type": "execute_result"
    }
   ],
   "source": [
    "desc_df['image_np'].values[0].shape"
   ]
  },
  {
   "cell_type": "code",
   "execution_count": null,
   "metadata": {},
   "outputs": [],
   "source": [
    "def load_from_images(desc_path, split_ratio=0.1):\n",
    "    \"\"\"load from saved image folder. i.e. the image save has to done under \"json_creator.ipynb\" file\n",
    "       * takes nearly 2 minutes\n",
    "\n",
    "    Args:\n",
    "        desc_path ([type]): summary .csv file path\n",
    "        split_ratio (float, optional): [test set size]. Defaults to 0.1.\n",
    "\n",
    "    Returns:\n",
    "        [4 np.ndarrays]: [X_train, X_test, y_train, y_test]\n",
    "    \"\"\"\n",
    "    desc_df = pd.read_csv(desc_path)\n",
    "    desc_df['image'] = desc_df['image'].map(lambda x: cv2.imread(x))\n",
    "    X, y = label_df['image'].values, label_df['algorithm'].values\n",
    "    X_train, X_test, y_train, y_test = train_test_split(X, y, stratify=y, test_size=split_ratio)\n",
    "    return X_train, X_test, y_train, y_test"
   ]
  },
  {
   "cell_type": "markdown",
   "metadata": {},
   "source": [
    "***"
   ]
  },
  {
   "cell_type": "code",
   "execution_count": 13,
   "metadata": {},
   "outputs": [],
   "source": [
    "class SpecLoader:\n",
    "\n",
    "    def get_image(self, wav_path):\n",
    "        y, sr = librosa.load(wav_path)\n",
    "        if self.spect_type == 'stft':\n",
    "            D = librosa.stft(y)  # STFT of y\n",
    "            spec = librosa.amplitude_to_db(np.abs(D), ref=np.max)\n",
    "        elif self.spect_type == 'mel':\n",
    "            M = librosa.feature.melspectrogram(y=y, sr=sr)\n",
    "            spec = librosa.power_to_db(M, ref=np.max)\n",
    "        elif self.spect_type == 'chroma':\n",
    "            spec = librosa.feature.chroma_cqt(y=y, sr=sr)\n",
    "\n",
    "        return spec\n",
    "\n",
    "    def crop_with_padd(self, image):\n",
    "        size = self.shape\n",
    "        image = image[:size[0], :size[1]]\n",
    "        result = np.zeros(size)\n",
    "        result[:image.shape[0], :image.shape[1]] = image\n",
    "        return result\n",
    "\n",
    "    def load_from_df(self, label_path, data_path, split_ratio=0.1):\n",
    "        \"\"\"load images directly from the \"data_summary.csv\" file \n",
    "        * takes nearly 8 minutes\n",
    "\n",
    "        Args:\n",
    "            label_path ([type]): [.csv file path]\n",
    "            data_path ([type]): [.wav files folder directory]\n",
    "            split_ratio (float, optional): [test set size]. Defaults to 0.1.\n",
    "\n",
    "        Returns:\n",
    "            [4 np.ndarrays]: [X_train, X_test, y_train, y_test]\n",
    "        \"\"\"\n",
    "        label_df = pd.read_csv(label_path)\n",
    "        label_df['wav_path'] = label_df['track'].map(lambda x: data_path+'/'+x)\n",
    "\n",
    "        label_df['image'] = label_df['wav_path'].map(lambda x: self.get_image(x))\n",
    "        X, y = label_df['image'].values, label_df['algorithm'].values\n",
    "        X_train, X_test, y_train, y_test = train_test_split(X, y, stratify=y, test_size=split_ratio)\n",
    "        return X_train, X_test, y_train, y_test\n",
    "\n",
    "    def load_from_images(self, desc_path, split_ratio=0.1):\n",
    "        \"\"\"load from saved image folder. i.e. the image save has to done under \"json_creator.ipynb\" file\n",
    "        * takes nearly 2 minutes\n",
    "\n",
    "        Args:\n",
    "            desc_path ([type]): summary .csv file path\n",
    "            split_ratio (float, optional): [test set size]. Defaults to 0.1.\n",
    "\n",
    "        Returns:\n",
    "            [4 np.ndarrays]: [X_train, X_test, y_train, y_test]\n",
    "        \"\"\"\n",
    "        desc_df = pd.read_csv(desc_path)\n",
    "        desc_df['image'] = desc_df['image'].map(lambda x: cv2.imread(x, cv2.IMREAD_GRAYSCALE))\n",
    "        X, y = desc_df['image'].values, desc_df['label'].values\n",
    "        X_train, X_test, y_train, y_test = train_test_split(X, y, stratify=y, test_size=split_ratio)\n",
    "        return X_train, X_test, y_train, y_test\n",
    "\n",
    "    def load(self, label_path, data_path, mode='image', split_ratio=0.1, spect='mel', shape=(128,128)):\n",
    "        self.spect_type = spect\n",
    "        self.shape = shape\n",
    "        if mode == 'image':\n",
    "            X_train, X_test, y_train, y_test = self.load_from_images(label_path, split_ratio)\n",
    "        elif mode == 'df':\n",
    "            X_train, X_test, y_train, y_test = self.load_from_df(label_path, data_path, split_ratio)\n",
    "\n",
    "        X_train = np.array([self.crop_with_padd(i) for i in X_train])\n",
    "        X_test = np.array([self.crop_with_padd(i) for i in X_test])\n",
    "\n",
    "        return (X_train, y_train), (X_test, y_test)"
   ]
  },
  {
   "cell_type": "code",
   "execution_count": 14,
   "metadata": {},
   "outputs": [],
   "source": [
    "dloader = SpecLoader()\n",
    "(X_train, y_train), (X_test, y_test) = dloader.load(desc_path,IMAGE_PATH, mode='image' )"
   ]
  },
  {
   "cell_type": "code",
   "execution_count": 16,
   "metadata": {},
   "outputs": [
    {
     "data": {
      "text/plain": [
       "(4500, 128, 128)"
      ]
     },
     "execution_count": 16,
     "metadata": {},
     "output_type": "execute_result"
    }
   ],
   "source": [
    "X_train.shape"
   ]
  },
  {
   "cell_type": "code",
   "execution_count": null,
   "metadata": {},
   "outputs": [],
   "source": []
  }
 ],
 "metadata": {
  "interpreter": {
   "hash": "f1c21919d7fdc6bbe88aa0ec4bd527e20b322a75d1833f58ac0d2525fb5f0b2b"
  },
  "kernelspec": {
   "display_name": "Python 3.7.7 ('venv': venv)",
   "language": "python",
   "name": "python3"
  },
  "language_info": {
   "codemirror_mode": {
    "name": "ipython",
    "version": 3
   },
   "file_extension": ".py",
   "mimetype": "text/x-python",
   "name": "python",
   "nbconvert_exporter": "python",
   "pygments_lexer": "ipython3",
   "version": "3.9.7"
  },
  "orig_nbformat": 4
 },
 "nbformat": 4,
 "nbformat_minor": 2
}
