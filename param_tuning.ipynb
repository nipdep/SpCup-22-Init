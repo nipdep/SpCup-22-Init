{
  "cells": [
    {
      "cell_type": "markdown",
      "metadata": {
        "id": "view-in-github",
        "colab_type": "text"
      },
      "source": [
        "<a href=\"https://colab.research.google.com/github/nipdep/SpCup-22-Init/blob/team1/param_tuning.ipynb\" target=\"_parent\"><img src=\"https://colab.research.google.com/assets/colab-badge.svg\" alt=\"Open In Colab\"/></a>"
      ]
    },
    {
      "cell_type": "code",
      "source": [
        "from google.colab import drive\n",
        "drive.mount('/gdrive')"
      ],
      "metadata": {
        "colab": {
          "base_uri": "https://localhost:8080/"
        },
        "id": "FUndObAqPpuI",
        "outputId": "dd7081a2-71a2-4bfa-d3fa-4c8254f126d3"
      },
      "execution_count": null,
      "outputs": [
        {
          "output_type": "stream",
          "name": "stdout",
          "text": [
            "Drive already mounted at /gdrive; to attempt to forcibly remount, call drive.mount(\"/gdrive\", force_remount=True).\n"
          ]
        }
      ]
    },
    {
      "cell_type": "code",
      "source": [
        "%cd /gdrive/MyDrive/SP Cup 2022/SpCup-22-Init/src/sbcnn"
      ],
      "metadata": {
        "colab": {
          "base_uri": "https://localhost:8080/"
        },
        "id": "h5Pl0n6fPskH",
        "outputId": "dddd022c-652a-4670-fa1d-d441d4b677dc"
      },
      "execution_count": null,
      "outputs": [
        {
          "output_type": "stream",
          "name": "stdout",
          "text": [
            "/gdrive/MyDrive/SP Cup 2022/SpCup-22-Init/src/sbcnn\n"
          ]
        }
      ]
    },
    {
      "cell_type": "code",
      "source": [
        "! pip install neptune-client &> /dev/null"
      ],
      "metadata": {
        "id": "UTpsuKwQvfFJ"
      },
      "execution_count": null,
      "outputs": []
    },
    {
      "cell_type": "code",
      "source": [
        "!pip install audiomentations &> /dev/null"
      ],
      "metadata": {
        "id": "CAKXkAQTP9Cu"
      },
      "execution_count": null,
      "outputs": []
    },
    {
      "cell_type": "code",
      "source": [
        "!pip install pedalboard &> /dev/null"
      ],
      "metadata": {
        "id": "qL5VlTq8QHJB"
      },
      "execution_count": null,
      "outputs": []
    },
    {
      "cell_type": "code",
      "execution_count": null,
      "metadata": {
        "id": "EnBMSLaZPCJQ"
      },
      "outputs": [],
      "source": [
        "import tensorflow as tf\n",
        "from tensorflow.keras.models import Sequential\n",
        "from tensorflow.keras.layers import Dense, Dropout, Activation, Flatten\n",
        "from tensorflow.keras.layers import Conv2D, MaxPool2D, Input\n",
        "from tensorflow.keras.optimizers import SGD\n",
        "from tensorflow.keras.optimizers import Adam\n",
        "from tensorflow.keras.regularizers import L2\n",
        "from tensorflow.keras.callbacks import Callback\n",
        "import warnings\n",
        "import neptune.new as neptune\n",
        "from dataloader_v1 import SpectDataset\n",
        "import numpy as np\n",
        "from sklearn.metrics import classification_report\n",
        "import itertools\n",
        "from getpass import getpass\n",
        "\n",
        "warnings.filterwarnings('ignore')"
      ]
    },
    {
      "cell_type": "code",
      "source": [
        "api_token = getpass('Enter your private Neptune API token: ')"
      ],
      "metadata": {
        "colab": {
          "base_uri": "https://localhost:8080/"
        },
        "id": "OGsvWBNkwGNQ",
        "outputId": "b28abca2-7395-4e8d-f4a4-a5b9a5e0c4c6"
      },
      "execution_count": null,
      "outputs": [
        {
          "name": "stdout",
          "output_type": "stream",
          "text": [
            "Enter your private Neptune API token: ··········\n"
          ]
        }
      ]
    },
    {
      "cell_type": "code",
      "source": [
        "workspace = 'chalani.ekanayake212' \n",
        "project = 'SBCNN-SPCUP'\n",
        "project_name = workspace + '/' + project"
      ],
      "metadata": {
        "id": "9RVKMTA5w1--"
      },
      "execution_count": null,
      "outputs": []
    },
    {
      "cell_type": "code",
      "source": [
        "run = neptune.init(project=project_name, api_token=api_token)"
      ],
      "metadata": {
        "colab": {
          "base_uri": "https://localhost:8080/"
        },
        "id": "5uLGNuqmxPBw",
        "outputId": "0e356b8f-141a-44ce-d208-fcbdf1d2e4d9"
      },
      "execution_count": null,
      "outputs": [
        {
          "output_type": "stream",
          "name": "stdout",
          "text": [
            "https://app.neptune.ai/chalani.ekanayake212/SBCNN-SPCUP/e/SBCNNSPC-7\n",
            "Remember to stop your run once you’ve finished logging your metadata (https://docs.neptune.ai/api-reference/run#.stop). It will be stopped automatically only when the notebook kernel/interactive console is terminated.\n"
          ]
        }
      ]
    },
    {
      "cell_type": "code",
      "execution_count": null,
      "metadata": {
        "id": "bWlHz9T8PCJS"
      },
      "outputs": [],
      "source": [
        "def SBCNN_Model(input_shape, num_labels):\n",
        "    model = Sequential()\n",
        "    model.add(Input(input_shape))\n",
        "    model.add(Conv2D(24, 5, padding='same'))\n",
        "    model.add(MaxPool2D(strides=(4, 2)))\n",
        "    model.add(Activation('relu'))\n",
        "\n",
        "    model.add(Conv2D(48, 5, padding='same'))\n",
        "    model.add(MaxPool2D(strides=(4, 2)))\n",
        "    model.add(Activation('relu'))\n",
        "\n",
        "    model.add(Conv2D(48, 5, padding='valid'))\n",
        "    model.add(Activation('relu'))\n",
        "\n",
        "    model.add(Flatten())\n",
        "\n",
        "    model.add(Dropout(0.5))\n",
        "    model.add(Dense(64, kernel_regularizer=L2(0.001)))\n",
        "    model.add(Activation('relu'))\n",
        "    \n",
        "    model.add(Dropout(0.5))\n",
        "    model.add(Dense(num_labels, kernel_regularizer=L2(0.001)))\n",
        "    model.add(Activation('softmax'))\n",
        "\n",
        "    return model"
      ]
    },
    {
      "cell_type": "code",
      "execution_count": null,
      "metadata": {
        "id": "RF7G3a2KPCJU"
      },
      "outputs": [],
      "source": [
        "def run_model(optimizer, n_iter):\n",
        "        \n",
        "    DATA_PATH = '/gdrive/MyDrive/SP Cup 2022/spcup_2022_training_part1'\n",
        "    Labeled_dir = '/gdrive/MyDrive/SP Cup 2022/spcup_2022_training_part1/labels.csv'\n",
        "\n",
        "    dataloader = SpectDataset(add_noise=True, reverb=True)\n",
        "    train_ds, val_ds = dataloader.call(DATA_PATH, Labeled_dir)\n",
        "\n",
        "    for spectrogram, _ in train_ds.take(1):\n",
        "        input_shape = spectrogram.shape\n",
        "\n",
        "    model = SBCNN_Model(input_shape[1:], 6)\n",
        "\n",
        "    class PrintLRCallback(Callback):\n",
        "      def on_epoch_end(self, epoch, logs={}):\n",
        "        print(\"\\nSBCNN with learning rate {} \\n\".format(model.optimizer._decayed_lr('float32').numpy()))\n",
        "        for log_name, log_value in logs.items():\n",
        "            run[\"epoch/{}\".format(log_name)].log(log_value)\n",
        "            run[\"epoch/{}\".format('Learning Rate')].log(model.optimizer._decayed_lr('float32').numpy())\n",
        "\n",
        "    model.compile(\n",
        "        optimizer=optimizer,\n",
        "        loss=tf.keras.losses.SparseCategoricalCrossentropy(from_logits=False),\n",
        "        metrics=['accuracy']\n",
        "    )\n",
        "\n",
        "    EPOCHS = n_iter\n",
        "    history = model.fit(\n",
        "        train_ds,\n",
        "        validation_data=val_ds,\n",
        "        epochs=EPOCHS,\n",
        "        verbose=2,\n",
        "        callbacks=[PrintLRCallback()]\n",
        "    # callbacks=tf.keras.callbacks.EarlyStopping(verbose=1, patience=2),\n",
        "    )\n",
        "\n",
        "    res_sparse = model.predict(val_ds)\n",
        "    res_np = np.argmax(res_sparse, axis=1)\n",
        "    pred_labels = list(res_np)\n",
        "    true_labels = []\n",
        "    for _, label in val_ds.take(1000):\n",
        "        true_labels.extend(list(label.numpy()))\n",
        "\n",
        "   # class_names = [f'class_{i}' for i in range(6)]\n",
        "   # print(classification_report(true_labels, pred_labels, target_names=class_names))"
      ]
    },
    {
      "cell_type": "code",
      "execution_count": null,
      "metadata": {
        "colab": {
          "base_uri": "https://localhost:8080/"
        },
        "id": "ceXrDYBrPCJW",
        "outputId": "1689832a-2176-47b3-b3e8-2211c1f0a309"
      },
      "outputs": [
        {
          "output_type": "stream",
          "name": "stdout",
          "text": [
            "Epoch 1/20\n",
            "\n",
            "SBCNN with learning rate 0.09170039743185043 \n",
            "\n",
            "125/125 - 83s - loss: 1.3938 - accuracy: 0.4820 - val_loss: 0.8355 - val_accuracy: 0.7140 - 83s/epoch - 661ms/step\n",
            "Epoch 2/20\n",
            "\n",
            "SBCNN with learning rate 0.08408963680267334 \n",
            "\n",
            "125/125 - 3s - loss: 0.7882 - accuracy: 0.7235 - val_loss: 0.6493 - val_accuracy: 0.7760 - 3s/epoch - 23ms/step\n",
            "Epoch 3/20\n",
            "\n",
            "SBCNN with learning rate 0.07711053639650345 \n",
            "\n",
            "125/125 - 3s - loss: 0.6566 - accuracy: 0.7772 - val_loss: 0.4880 - val_accuracy: 0.8620 - 3s/epoch - 22ms/step\n",
            "Epoch 4/20\n",
            "\n",
            "SBCNN with learning rate 0.0707106739282608 \n",
            "\n",
            "125/125 - 3s - loss: 0.5473 - accuracy: 0.8160 - val_loss: 0.4556 - val_accuracy: 0.8700 - 3s/epoch - 22ms/step\n",
            "Epoch 5/20\n",
            "\n",
            "SBCNN with learning rate 0.06484197825193405 \n",
            "\n",
            "125/125 - 3s - loss: 0.4823 - accuracy: 0.8555 - val_loss: 0.4016 - val_accuracy: 0.8990 - 3s/epoch - 22ms/step\n",
            "Epoch 6/20\n",
            "\n",
            "SBCNN with learning rate 0.0594603531062603 \n",
            "\n",
            "125/125 - 3s - loss: 0.4273 - accuracy: 0.8742 - val_loss: 0.3846 - val_accuracy: 0.9090 - 3s/epoch - 22ms/step\n",
            "Epoch 7/20\n",
            "\n",
            "SBCNN with learning rate 0.054525382816791534 \n",
            "\n",
            "125/125 - 3s - loss: 0.3889 - accuracy: 0.8903 - val_loss: 0.3897 - val_accuracy: 0.8960 - 3s/epoch - 22ms/step\n",
            "Epoch 8/20\n",
            "\n",
            "SBCNN with learning rate 0.05000000074505806 \n",
            "\n",
            "125/125 - 3s - loss: 0.3680 - accuracy: 0.9035 - val_loss: 0.3641 - val_accuracy: 0.9110 - 3s/epoch - 22ms/step\n",
            "Epoch 9/20\n",
            "\n",
            "SBCNN with learning rate 0.04585019871592522 \n",
            "\n",
            "125/125 - 3s - loss: 0.3424 - accuracy: 0.9107 - val_loss: 0.3571 - val_accuracy: 0.9130 - 3s/epoch - 22ms/step\n",
            "Epoch 10/20\n",
            "\n",
            "SBCNN with learning rate 0.04204481840133667 \n",
            "\n",
            "125/125 - 3s - loss: 0.3163 - accuracy: 0.9240 - val_loss: 0.3485 - val_accuracy: 0.9170 - 3s/epoch - 22ms/step\n",
            "Epoch 11/20\n",
            "\n",
            "SBCNN with learning rate 0.038555268198251724 \n",
            "\n",
            "125/125 - 3s - loss: 0.2980 - accuracy: 0.9367 - val_loss: 0.3486 - val_accuracy: 0.9220 - 3s/epoch - 22ms/step\n",
            "Epoch 12/20\n",
            "\n",
            "SBCNN with learning rate 0.0353553369641304 \n",
            "\n",
            "125/125 - 3s - loss: 0.2791 - accuracy: 0.9398 - val_loss: 0.3397 - val_accuracy: 0.9270 - 3s/epoch - 22ms/step\n",
            "Epoch 13/20\n",
            "\n",
            "SBCNN with learning rate 0.032420989125967026 \n",
            "\n",
            "125/125 - 3s - loss: 0.2593 - accuracy: 0.9473 - val_loss: 0.3297 - val_accuracy: 0.9280 - 3s/epoch - 22ms/step\n",
            "Epoch 14/20\n",
            "\n",
            "SBCNN with learning rate 0.02973017655313015 \n",
            "\n",
            "125/125 - 3s - loss: 0.2484 - accuracy: 0.9488 - val_loss: 0.3058 - val_accuracy: 0.9340 - 3s/epoch - 22ms/step\n",
            "Epoch 15/20\n",
            "\n",
            "SBCNN with learning rate 0.027262691408395767 \n",
            "\n",
            "125/125 - 3s - loss: 0.2314 - accuracy: 0.9588 - val_loss: 0.3290 - val_accuracy: 0.9300 - 3s/epoch - 22ms/step\n",
            "Epoch 16/20\n",
            "\n",
            "SBCNN with learning rate 0.02500000037252903 \n",
            "\n",
            "125/125 - 3s - loss: 0.2233 - accuracy: 0.9615 - val_loss: 0.3155 - val_accuracy: 0.9300 - 3s/epoch - 22ms/step\n",
            "Epoch 17/20\n",
            "\n",
            "SBCNN with learning rate 0.022925103083252907 \n",
            "\n",
            "125/125 - 3s - loss: 0.2188 - accuracy: 0.9628 - val_loss: 0.3262 - val_accuracy: 0.9290 - 3s/epoch - 22ms/step\n",
            "Epoch 18/20\n",
            "\n",
            "SBCNN with learning rate 0.021022409200668335 \n",
            "\n",
            "125/125 - 3s - loss: 0.2073 - accuracy: 0.9688 - val_loss: 0.3196 - val_accuracy: 0.9360 - 3s/epoch - 22ms/step\n",
            "Epoch 19/20\n",
            "\n",
            "SBCNN with learning rate 0.019277634099125862 \n",
            "\n",
            "125/125 - 3s - loss: 0.1984 - accuracy: 0.9712 - val_loss: 0.3121 - val_accuracy: 0.9400 - 3s/epoch - 22ms/step\n",
            "Epoch 20/20\n",
            "\n",
            "SBCNN with learning rate 0.0176776684820652 \n",
            "\n",
            "125/125 - 3s - loss: 0.1948 - accuracy: 0.9732 - val_loss: 0.3200 - val_accuracy: 0.9370 - 3s/epoch - 22ms/step\n"
          ]
        }
      ],
      "source": [
        "lr_schedule = tf.keras.optimizers.schedules.ExponentialDecay(\n",
        "              initial_learning_rate=0.1,\n",
        "              decay_steps=(1000), \n",
        "              decay_rate=0.5)\n",
        "\n",
        "sgd = SGD(learning_rate = lr_schedule)\n",
        "adm = Adam(learning_rate=lr_schedule)\n",
        "\n",
        "n_iter = 20\n",
        "\n",
        "optimizer = sgd\n",
        "\n",
        "# log params\n",
        "run[\"parameters/epochs\"] = n_iter\n",
        "\n",
        "run_model(optimizer, n_iter)"
      ]
    },
    {
      "cell_type": "code",
      "source": [
        "run.stop()"
      ],
      "metadata": {
        "colab": {
          "base_uri": "https://localhost:8080/"
        },
        "id": "0SZj7xiH5s-5",
        "outputId": "d0048bb8-0f89-4f6b-f2d1-f739df222b32"
      },
      "execution_count": null,
      "outputs": [
        {
          "output_type": "stream",
          "name": "stdout",
          "text": [
            "Shutting down background jobs, please wait a moment...\n",
            "Done!\n"
          ]
        },
        {
          "output_type": "stream",
          "name": "stderr",
          "text": [
            "Waiting for the remaining 15 operations to synchronize with Neptune. Do not kill this process.\n"
          ]
        },
        {
          "output_type": "stream",
          "name": "stdout",
          "text": [
            "All 15 operations synced, thanks for waiting!\n"
          ]
        }
      ]
    },
    {
      "cell_type": "code",
      "source": [
        ""
      ],
      "metadata": {
        "id": "JsIQNpwXvitn"
      },
      "execution_count": null,
      "outputs": []
    }
  ],
  "metadata": {
    "interpreter": {
      "hash": "f67755f61cee6f852c8685b69d561ff43068cf8dc9ad175a65ce9616cdf3aa01"
    },
    "kernelspec": {
      "display_name": "Python 3.9.7 ('tf')",
      "language": "python",
      "name": "python3"
    },
    "language_info": {
      "codemirror_mode": {
        "name": "ipython",
        "version": 3
      },
      "file_extension": ".py",
      "mimetype": "text/x-python",
      "name": "python",
      "nbconvert_exporter": "python",
      "pygments_lexer": "ipython3",
      "version": "3.9.7"
    },
    "orig_nbformat": 4,
    "colab": {
      "name": "param_tuning.ipynb",
      "provenance": [],
      "collapsed_sections": [],
      "include_colab_link": true
    },
    "accelerator": "GPU"
  },
  "nbformat": 4,
  "nbformat_minor": 0
}